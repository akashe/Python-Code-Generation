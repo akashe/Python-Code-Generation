{
  "nbformat": 4,
  "nbformat_minor": 0,
  "metadata": {
    "colab": {
      "name": "Vanilla Enocder Decoder Architecture with character wise decoder vocab.ipynb",
      "provenance": [],
      "authorship_tag": "ABX9TyMdHdPGTJ+4qqKqVs1S/jAl",
      "include_colab_link": true
    },
    "kernelspec": {
      "name": "python3",
      "display_name": "Python 3"
    },
    "accelerator": "GPU"
  },
  "cells": [
    {
      "cell_type": "markdown",
      "metadata": {
        "id": "view-in-github",
        "colab_type": "text"
      },
      "source": [
        "<a href=\"https://colab.research.google.com/github/akashe/Python-Code-Generation/blob/main/Vanilla_Enocder_Decoder_Architecture_with_character_wise_decoder_vocab.ipynb\" target=\"_parent\"><img src=\"https://colab.research.google.com/assets/colab-badge.svg\" alt=\"Open In Colab\"/></a>"
      ]
    },
    {
      "cell_type": "markdown",
      "metadata": {
        "id": "U94udjj8Ztoh"
      },
      "source": [
        "#### Getting data"
      ]
    },
    {
      "cell_type": "code",
      "metadata": {
        "id": "NXcGChd1W_Bu",
        "colab": {
          "base_uri": "https://localhost:8080/"
        },
        "outputId": "28c9d242-9e70-447b-c6e8-1647033e7be7"
      },
      "source": [
        "! git clone https://github.com/akashe/Python-Code-Generation"
      ],
      "execution_count": 1,
      "outputs": [
        {
          "output_type": "stream",
          "text": [
            "Cloning into 'Python-Code-Generation'...\n",
            "remote: Enumerating objects: 55, done.\u001b[K\n",
            "remote: Counting objects: 100% (55/55), done.\u001b[K\n",
            "remote: Compressing objects: 100% (41/41), done.\u001b[K\n",
            "remote: Total 55 (delta 21), reused 39 (delta 11), pack-reused 0\u001b[K\n",
            "Unpacking objects: 100% (55/55), done.\n"
          ],
          "name": "stdout"
        }
      ]
    },
    {
      "cell_type": "code",
      "metadata": {
        "id": "43npsWgPUpFY"
      },
      "source": [
        "import sys\r\n",
        "sys.path.append(\"/content/Python-Code-Generation/\")"
      ],
      "execution_count": 2,
      "outputs": []
    },
    {
      "cell_type": "code",
      "metadata": {
        "id": "7kUxSfC6SavI"
      },
      "source": [
        "from data_processing import getTokenizer,getData"
      ],
      "execution_count": 3,
      "outputs": []
    },
    {
      "cell_type": "code",
      "metadata": {
        "id": "-adCp6fFXSnB"
      },
      "source": [
        "questions, answers = getData(\"/content/Python-Code-Generation/data/english_python_data_pruned.txt\")"
      ],
      "execution_count": 4,
      "outputs": []
    },
    {
      "cell_type": "code",
      "metadata": {
        "colab": {
          "base_uri": "https://localhost:8080/"
        },
        "id": "VK3S-crQY0ln",
        "outputId": "f88fbc58-bf82-4fdd-e6f2-f4eab17ed9a4"
      },
      "source": [
        "questions[100],answers[100]"
      ],
      "execution_count": 5,
      "outputs": [
        {
          "output_type": "execute_result",
          "data": {
            "text/plain": [
              "('write a python program to break when the num is perfectly divisible',\n",
              " 'i = 1\\nwhile True:\\n\\tif i%3 == 0:\\n\\t\\tbreak\\n\\tprint(i)\\n\\ti+= 1\\n')"
            ]
          },
          "metadata": {
            "tags": []
          },
          "execution_count": 5
        }
      ]
    },
    {
      "cell_type": "code",
      "metadata": {
        "colab": {
          "base_uri": "https://localhost:8080/"
        },
        "id": "4OG9NDa0ZKW4",
        "outputId": "7e28d0cc-270b-45e9-8915-1dbb59173e71"
      },
      "source": [
        "test_tokenizer = getTokenizer(answers[399])\r\n",
        "print(test_tokenizer)"
      ],
      "execution_count": 6,
      "outputs": [
        {
          "output_type": "stream",
          "text": [
            "['list1', '=', '[', '10', ',', '20', ',', '4', ',', '45', ',', '99', ']', '\\n', 'list1', '.', 'sort', '(', ')', '\\n', 'print', '(', '\"Largest element is:\"', ',', 'list1', '[', '-', '1', ']', ')', '\\n']\n"
          ],
          "name": "stdout"
        }
      ]
    },
    {
      "cell_type": "code",
      "metadata": {
        "colab": {
          "base_uri": "https://localhost:8080/"
        },
        "id": "vAXDCxZDPBGD",
        "outputId": "29bbc145-3ced-416d-a75d-64e34bf94a3c"
      },
      "source": [
        "# checking target len distribution\n",
        "word_len_distribution ={}\n",
        "char_len_distribution = {}\n",
        "for i in answers:\n",
        "  tokens = getTokenizer(i)\n",
        "  word_len_ = len(tokens) \n",
        "  if word_len_ == 0:\n",
        "    continue\n",
        "  if word_len_ not in word_len_distribution:\n",
        "    word_len_distribution[word_len_] = 1\n",
        "  else:\n",
        "    word_len_distribution[word_len_] += 1\n",
        "  char_len_ = 0\n",
        "  for j in tokens:\n",
        "    for k in j:\n",
        "      char_len_ += 1\n",
        "  if char_len_ not in char_len_distribution:\n",
        "    char_len_distribution[char_len_] = 1\n",
        "  else:\n",
        "    char_len_distribution[char_len_] += 1\n",
        "print(f'Word len distribution {dict(sorted(word_len_distribution.items(), key=lambda item: item[0]))}')\n",
        "print(f'Char len distribution {dict(sorted(char_len_distribution.items(), key=lambda item: item[0]))}')"
      ],
      "execution_count": 7,
      "outputs": [
        {
          "output_type": "stream",
          "text": [
            "Error in tokenization\n",
            "Error in tokenization\n",
            "Error in tokenization\n",
            "Word len distribution {4: 1, 5: 5, 6: 1, 7: 6, 8: 4, 9: 26, 10: 5, 11: 5, 12: 25, 13: 16, 14: 28, 15: 46, 16: 49, 17: 54, 18: 64, 19: 54, 20: 69, 21: 47, 22: 68, 23: 50, 24: 56, 25: 45, 26: 44, 27: 36, 28: 42, 29: 53, 30: 52, 31: 40, 32: 60, 33: 40, 34: 56, 35: 51, 36: 45, 37: 42, 38: 47, 39: 56, 40: 48, 41: 54, 42: 42, 43: 40, 44: 39, 45: 43, 46: 45, 47: 32, 48: 28, 49: 29, 50: 30, 51: 37, 52: 33, 53: 31, 54: 36, 55: 33, 56: 32, 57: 24, 58: 28, 59: 23, 60: 28, 61: 21, 62: 23, 63: 29, 64: 23, 65: 23, 66: 21, 67: 25, 68: 24, 69: 23, 70: 17, 71: 22, 72: 21, 73: 20, 74: 18, 75: 31, 76: 22, 77: 21, 78: 13, 79: 15, 80: 20, 81: 28, 82: 15, 83: 11, 84: 13, 85: 15, 86: 14, 87: 10, 88: 13, 89: 5, 90: 11, 91: 10, 92: 12, 93: 9, 94: 15, 95: 10, 96: 8, 97: 11, 98: 9, 99: 11, 100: 9, 101: 7, 102: 11, 103: 4, 104: 8, 105: 12, 106: 5, 107: 6, 108: 5, 109: 8, 110: 8, 111: 3, 112: 3, 113: 6, 114: 8, 115: 9, 116: 4, 117: 6, 118: 3, 119: 6, 120: 5, 121: 3, 122: 6, 123: 1, 124: 5, 125: 4, 126: 6, 127: 4, 128: 3, 129: 1, 130: 3, 131: 2, 132: 4, 133: 3, 134: 4, 136: 1, 138: 1, 139: 1, 140: 1, 142: 1, 143: 3, 144: 4, 145: 1, 146: 4, 147: 4, 149: 1, 150: 2, 151: 4, 152: 1, 153: 1, 155: 1, 157: 2, 158: 4, 160: 1, 162: 1, 163: 1, 166: 2, 168: 2, 171: 1, 172: 6, 174: 1, 176: 2, 177: 1, 178: 1, 182: 1, 183: 4, 184: 6, 186: 1, 187: 2, 189: 1, 191: 1, 192: 1, 193: 2, 194: 1, 195: 1, 197: 1, 200: 3, 201: 1, 202: 1, 204: 1, 206: 2, 207: 3, 209: 1, 210: 1, 211: 2, 212: 1, 220: 1, 221: 1, 223: 1, 225: 1, 227: 1, 230: 2, 231: 1, 234: 1, 235: 2, 236: 3, 250: 1, 253: 1, 254: 1, 256: 1, 261: 2, 264: 1, 273: 2, 301: 1, 316: 1, 318: 1, 328: 1, 333: 1, 355: 1, 385: 1, 393: 1, 422: 1, 437: 1, 776: 1}\n",
            "Char len distribution {8: 2, 10: 2, 16: 3, 17: 2, 18: 3, 19: 3, 20: 1, 21: 5, 22: 3, 23: 3, 24: 5, 25: 4, 26: 7, 27: 1, 28: 10, 29: 12, 30: 11, 31: 15, 32: 8, 33: 8, 34: 11, 35: 14, 36: 13, 37: 25, 38: 18, 39: 22, 40: 15, 41: 23, 42: 21, 43: 19, 44: 15, 45: 19, 46: 18, 47: 17, 48: 25, 49: 16, 50: 16, 51: 23, 52: 30, 53: 21, 54: 24, 55: 9, 56: 20, 57: 27, 58: 21, 59: 25, 60: 25, 61: 25, 62: 20, 63: 23, 64: 24, 65: 15, 66: 25, 67: 24, 68: 26, 69: 13, 70: 29, 71: 23, 72: 20, 73: 20, 74: 25, 75: 21, 76: 20, 77: 19, 78: 15, 79: 22, 80: 17, 81: 20, 82: 17, 83: 22, 84: 20, 85: 18, 86: 14, 87: 19, 88: 19, 89: 22, 90: 15, 91: 24, 92: 19, 93: 16, 94: 17, 95: 18, 96: 13, 97: 12, 98: 8, 99: 20, 100: 15, 101: 17, 102: 13, 103: 15, 104: 21, 105: 22, 106: 11, 107: 16, 108: 15, 109: 12, 110: 17, 111: 16, 112: 16, 113: 12, 114: 18, 115: 7, 116: 15, 117: 6, 118: 14, 119: 17, 120: 14, 121: 19, 122: 6, 123: 13, 124: 7, 125: 18, 126: 12, 127: 7, 128: 19, 129: 18, 130: 12, 131: 12, 132: 15, 133: 14, 134: 14, 135: 15, 136: 12, 137: 6, 138: 12, 139: 14, 140: 16, 141: 7, 142: 8, 143: 7, 144: 13, 145: 6, 146: 12, 147: 11, 148: 16, 149: 13, 150: 6, 151: 7, 152: 7, 153: 7, 154: 15, 155: 17, 156: 13, 157: 12, 158: 11, 159: 9, 160: 16, 161: 10, 162: 10, 163: 10, 164: 11, 165: 6, 166: 5, 167: 8, 168: 12, 169: 14, 170: 10, 171: 9, 172: 10, 173: 13, 174: 9, 175: 11, 176: 3, 177: 2, 178: 7, 179: 10, 180: 15, 181: 7, 182: 9, 183: 6, 184: 12, 185: 8, 186: 15, 187: 9, 188: 15, 189: 13, 190: 4, 191: 6, 192: 5, 193: 9, 194: 7, 195: 6, 196: 11, 197: 10, 198: 7, 199: 5, 200: 5, 201: 4, 202: 10, 203: 12, 204: 9, 205: 6, 206: 5, 207: 5, 208: 3, 209: 5, 210: 4, 211: 5, 212: 10, 213: 7, 214: 5, 215: 4, 216: 6, 217: 8, 218: 5, 219: 3, 220: 3, 221: 4, 222: 5, 223: 5, 224: 5, 225: 5, 226: 1, 227: 1, 228: 7, 229: 3, 230: 4, 231: 6, 232: 4, 233: 7, 234: 7, 235: 5, 236: 9, 237: 11, 238: 4, 239: 5, 240: 2, 241: 1, 242: 3, 243: 1, 244: 3, 245: 2, 246: 1, 247: 2, 249: 4, 251: 2, 252: 6, 253: 7, 254: 5, 256: 3, 257: 3, 258: 3, 259: 3, 260: 4, 261: 3, 262: 5, 264: 2, 265: 4, 266: 6, 268: 1, 269: 1, 270: 2, 271: 3, 272: 2, 273: 3, 274: 3, 275: 3, 276: 1, 277: 2, 278: 4, 279: 6, 280: 2, 281: 1, 282: 2, 283: 2, 284: 3, 285: 4, 286: 1, 287: 4, 288: 1, 290: 4, 291: 1, 292: 2, 293: 2, 294: 1, 295: 2, 297: 2, 298: 1, 299: 2, 300: 2, 301: 5, 304: 4, 306: 4, 307: 1, 311: 4, 312: 1, 313: 2, 314: 2, 315: 2, 316: 1, 317: 1, 318: 1, 322: 2, 324: 1, 325: 2, 328: 1, 329: 2, 331: 2, 332: 1, 333: 4, 334: 2, 335: 3, 336: 4, 337: 1, 341: 1, 342: 2, 343: 1, 344: 1, 347: 2, 350: 3, 351: 2, 352: 3, 353: 3, 354: 1, 355: 2, 357: 2, 359: 2, 360: 1, 361: 3, 362: 1, 366: 1, 367: 2, 368: 3, 369: 1, 370: 2, 372: 1, 373: 1, 374: 1, 377: 1, 378: 1, 382: 1, 385: 2, 386: 1, 387: 1, 388: 1, 389: 1, 390: 1, 394: 1, 395: 1, 400: 1, 401: 1, 403: 1, 404: 1, 407: 1, 408: 1, 413: 1, 414: 2, 418: 1, 420: 2, 422: 1, 431: 1, 432: 1, 433: 1, 440: 1, 441: 1, 446: 2, 448: 1, 449: 1, 451: 2, 458: 1, 460: 1, 461: 2, 463: 1, 466: 1, 468: 1, 470: 1, 473: 1, 475: 2, 476: 1, 477: 1, 478: 1, 481: 1, 482: 1, 489: 1, 490: 1, 492: 1, 493: 1, 495: 1, 497: 1, 498: 1, 499: 1, 500: 2, 509: 1, 517: 1, 530: 1, 541: 1, 544: 1, 554: 1, 566: 1, 573: 1, 577: 1, 589: 1, 592: 1, 594: 1, 602: 1, 606: 1, 616: 1, 619: 1, 634: 2, 640: 1, 642: 1, 648: 1, 678: 1, 680: 1, 683: 1, 689: 1, 701: 2, 704: 1, 741: 1, 743: 1, 836: 1, 842: 1, 847: 1, 866: 1, 878: 1, 889: 1, 908: 1, 915: 1, 1111: 1, 1280: 1, 1314: 1, 1433: 1, 1850: 1}\n"
          ],
          "name": "stdout"
        }
      ]
    },
    {
      "cell_type": "code",
      "metadata": {
        "id": "WJbap8zeS6bH"
      },
      "source": [
        "# Setting max word len and char len\n",
        "max_word_len = 301\n",
        "max_char_len = 600"
      ],
      "execution_count": 8,
      "outputs": []
    },
    {
      "cell_type": "code",
      "metadata": {
        "colab": {
          "base_uri": "https://localhost:8080/"
        },
        "id": "5YK1uGANWDGl",
        "outputId": "ba7b0e43-a728-4c9c-99c2-fcd2e0ea1ee6"
      },
      "source": [
        "# Getting char wise answers\n",
        "char_wise_answers = []\n",
        "questions_for_char_wise_answers = []\n",
        "for question,i in zip(questions,answers):\n",
        "  char_wise_tokens = []\n",
        "  tokens = getTokenizer(i)\n",
        "  if len(tokens)==0:\n",
        "    continue\n",
        "  for j in tokens:\n",
        "    for k in j:\n",
        "      char_wise_tokens.append(k)\n",
        "  if len(char_wise_tokens) <= max_char_len:\n",
        "    char_wise_answers.append(char_wise_tokens)\n",
        "    questions_for_char_wise_answers.append(question)"
      ],
      "execution_count": 9,
      "outputs": [
        {
          "output_type": "stream",
          "text": [
            "Error in tokenization\n",
            "Error in tokenization\n",
            "Error in tokenization\n"
          ],
          "name": "stdout"
        }
      ]
    },
    {
      "cell_type": "code",
      "metadata": {
        "colab": {
          "base_uri": "https://localhost:8080/"
        },
        "id": "foHgoFJyY-vo",
        "outputId": "ddd6d657-e7fc-4397-88e4-a41ca138a40c"
      },
      "source": [
        "len(questions_for_char_wise_answers),len(char_wise_answers)"
      ],
      "execution_count": 10,
      "outputs": [
        {
          "output_type": "execute_result",
          "data": {
            "text/plain": [
              "(3067, 3067)"
            ]
          },
          "metadata": {
            "tags": []
          },
          "execution_count": 10
        }
      ]
    },
    {
      "cell_type": "markdown",
      "metadata": {
        "id": "e8pO61R-ZzKr"
      },
      "source": [
        "#### Transfomer model"
      ]
    },
    {
      "cell_type": "code",
      "metadata": {
        "id": "l2pRkYbUZ3fT"
      },
      "source": [
        "\r\n",
        "import torch\r\n",
        "import torch.nn as nn\r\n",
        "import torch.optim as optim\r\n",
        "\r\n",
        "import torchtext\r\n",
        "from torchtext.legacy import data\r\n",
        "from torchtext.legacy.data import Field, BucketIterator\r\n",
        "\r\n",
        "import matplotlib.pyplot as plt\r\n",
        "import matplotlib.ticker as ticker\r\n",
        "\r\n",
        "import spacy\r\n",
        "import numpy as np\r\n",
        "\r\n",
        "import random\r\n",
        "import math\r\n",
        "import time\r\n",
        "import pickle"
      ],
      "execution_count": 11,
      "outputs": []
    },
    {
      "cell_type": "code",
      "metadata": {
        "id": "kL5c1WIIZ8HU"
      },
      "source": [
        "SEED = 1007\r\n",
        "\r\n",
        "random.seed(SEED)\r\n",
        "np.random.seed(SEED)\r\n",
        "torch.manual_seed(SEED)\r\n",
        "torch.cuda.manual_seed(SEED)\r\n",
        "torch.backends.cudnn.deterministic = True"
      ],
      "execution_count": 12,
      "outputs": []
    },
    {
      "cell_type": "code",
      "metadata": {
        "colab": {
          "base_uri": "https://localhost:8080/"
        },
        "id": "NA9IKiSMaAMe",
        "outputId": "bcde8112-9306-4f9a-a325-44fc98b65e90"
      },
      "source": [
        "!python -m spacy download en"
      ],
      "execution_count": 13,
      "outputs": [
        {
          "output_type": "stream",
          "text": [
            "Requirement already satisfied: en_core_web_sm==2.2.5 from https://github.com/explosion/spacy-models/releases/download/en_core_web_sm-2.2.5/en_core_web_sm-2.2.5.tar.gz#egg=en_core_web_sm==2.2.5 in /usr/local/lib/python3.7/dist-packages (2.2.5)\n",
            "Requirement already satisfied: spacy>=2.2.2 in /usr/local/lib/python3.7/dist-packages (from en_core_web_sm==2.2.5) (2.2.4)\n",
            "Requirement already satisfied: murmurhash<1.1.0,>=0.28.0 in /usr/local/lib/python3.7/dist-packages (from spacy>=2.2.2->en_core_web_sm==2.2.5) (1.0.5)\n",
            "Requirement already satisfied: setuptools in /usr/local/lib/python3.7/dist-packages (from spacy>=2.2.2->en_core_web_sm==2.2.5) (54.0.0)\n",
            "Requirement already satisfied: plac<1.2.0,>=0.9.6 in /usr/local/lib/python3.7/dist-packages (from spacy>=2.2.2->en_core_web_sm==2.2.5) (1.1.3)\n",
            "Requirement already satisfied: srsly<1.1.0,>=1.0.2 in /usr/local/lib/python3.7/dist-packages (from spacy>=2.2.2->en_core_web_sm==2.2.5) (1.0.5)\n",
            "Requirement already satisfied: blis<0.5.0,>=0.4.0 in /usr/local/lib/python3.7/dist-packages (from spacy>=2.2.2->en_core_web_sm==2.2.5) (0.4.1)\n",
            "Requirement already satisfied: catalogue<1.1.0,>=0.0.7 in /usr/local/lib/python3.7/dist-packages (from spacy>=2.2.2->en_core_web_sm==2.2.5) (1.0.0)\n",
            "Requirement already satisfied: tqdm<5.0.0,>=4.38.0 in /usr/local/lib/python3.7/dist-packages (from spacy>=2.2.2->en_core_web_sm==2.2.5) (4.41.1)\n",
            "Requirement already satisfied: requests<3.0.0,>=2.13.0 in /usr/local/lib/python3.7/dist-packages (from spacy>=2.2.2->en_core_web_sm==2.2.5) (2.23.0)\n",
            "Requirement already satisfied: numpy>=1.15.0 in /usr/local/lib/python3.7/dist-packages (from spacy>=2.2.2->en_core_web_sm==2.2.5) (1.19.5)\n",
            "Requirement already satisfied: cymem<2.1.0,>=2.0.2 in /usr/local/lib/python3.7/dist-packages (from spacy>=2.2.2->en_core_web_sm==2.2.5) (2.0.5)\n",
            "Requirement already satisfied: wasabi<1.1.0,>=0.4.0 in /usr/local/lib/python3.7/dist-packages (from spacy>=2.2.2->en_core_web_sm==2.2.5) (0.8.2)\n",
            "Requirement already satisfied: thinc==7.4.0 in /usr/local/lib/python3.7/dist-packages (from spacy>=2.2.2->en_core_web_sm==2.2.5) (7.4.0)\n",
            "Requirement already satisfied: preshed<3.1.0,>=3.0.2 in /usr/local/lib/python3.7/dist-packages (from spacy>=2.2.2->en_core_web_sm==2.2.5) (3.0.5)\n",
            "Requirement already satisfied: importlib-metadata>=0.20; python_version < \"3.8\" in /usr/local/lib/python3.7/dist-packages (from catalogue<1.1.0,>=0.0.7->spacy>=2.2.2->en_core_web_sm==2.2.5) (3.7.0)\n",
            "Requirement already satisfied: chardet<4,>=3.0.2 in /usr/local/lib/python3.7/dist-packages (from requests<3.0.0,>=2.13.0->spacy>=2.2.2->en_core_web_sm==2.2.5) (3.0.4)\n",
            "Requirement already satisfied: idna<3,>=2.5 in /usr/local/lib/python3.7/dist-packages (from requests<3.0.0,>=2.13.0->spacy>=2.2.2->en_core_web_sm==2.2.5) (2.10)\n",
            "Requirement already satisfied: certifi>=2017.4.17 in /usr/local/lib/python3.7/dist-packages (from requests<3.0.0,>=2.13.0->spacy>=2.2.2->en_core_web_sm==2.2.5) (2020.12.5)\n",
            "Requirement already satisfied: urllib3!=1.25.0,!=1.25.1,<1.26,>=1.21.1 in /usr/local/lib/python3.7/dist-packages (from requests<3.0.0,>=2.13.0->spacy>=2.2.2->en_core_web_sm==2.2.5) (1.24.3)\n",
            "Requirement already satisfied: typing-extensions>=3.6.4; python_version < \"3.8\" in /usr/local/lib/python3.7/dist-packages (from importlib-metadata>=0.20; python_version < \"3.8\"->catalogue<1.1.0,>=0.0.7->spacy>=2.2.2->en_core_web_sm==2.2.5) (3.7.4.3)\n",
            "Requirement already satisfied: zipp>=0.5 in /usr/local/lib/python3.7/dist-packages (from importlib-metadata>=0.20; python_version < \"3.8\"->catalogue<1.1.0,>=0.0.7->spacy>=2.2.2->en_core_web_sm==2.2.5) (3.4.1)\n",
            "\u001b[38;5;2m✔ Download and installation successful\u001b[0m\n",
            "You can now load the model via spacy.load('en_core_web_sm')\n",
            "\u001b[38;5;2m✔ Linking successful\u001b[0m\n",
            "/usr/local/lib/python3.7/dist-packages/en_core_web_sm -->\n",
            "/usr/local/lib/python3.7/dist-packages/spacy/data/en\n",
            "You can now load the model via spacy.load('en')\n"
          ],
          "name": "stdout"
        }
      ]
    },
    {
      "cell_type": "code",
      "metadata": {
        "id": "oM1mLuqKaIz0"
      },
      "source": [
        "spacy_en = spacy.load('en')"
      ],
      "execution_count": 14,
      "outputs": []
    },
    {
      "cell_type": "code",
      "metadata": {
        "id": "S_ZAuM-9aNIX"
      },
      "source": [
        "def tokenize_en(text):\r\n",
        "    \"\"\"\r\n",
        "    Tokenizes English text from a string into a list of strings\r\n",
        "    \"\"\"\r\n",
        "    return [tok.text for tok in spacy_en.tokenizer(text)]"
      ],
      "execution_count": 15,
      "outputs": []
    },
    {
      "cell_type": "code",
      "metadata": {
        "id": "1a6YAiCPaSAj"
      },
      "source": [
        "SRC = Field(tokenize = tokenize_en, \r\n",
        "            init_token = '<sos>', \r\n",
        "            eos_token = '<eos>', \r\n",
        "            lower = True, \r\n",
        "            batch_first = True)\r\n",
        "\r\n",
        "TRG = Field(tokenize = None, \r\n",
        "            init_token = '<sos>', \r\n",
        "            eos_token = '<eos>', \r\n",
        "            lower = False, \r\n",
        "            batch_first = True)"
      ],
      "execution_count": 16,
      "outputs": []
    },
    {
      "cell_type": "code",
      "metadata": {
        "id": "guwyZixya9RW"
      },
      "source": [
        "fields = [('src', SRC), ('trg', TRG)]\r\n",
        "\r\n",
        "Examples = [data.Example.fromlist([i,j], fields) for i,j in zip(questions_for_char_wise_answers,char_wise_answers)]\r\n",
        "Dataset = data.Dataset(Examples, fields)"
      ],
      "execution_count": 17,
      "outputs": []
    },
    {
      "cell_type": "code",
      "metadata": {
        "id": "R3pBSBsVbgsh"
      },
      "source": [
        "train_data,valid_data = Dataset.split(split_ratio=[0.85,0.15])"
      ],
      "execution_count": 18,
      "outputs": []
    },
    {
      "cell_type": "code",
      "metadata": {
        "id": "g06uLc1TbmSj"
      },
      "source": [
        "SRC.build_vocab(train_data, min_freq = 2)\r\n",
        "TRG.build_vocab(train_data, min_freq = 2)"
      ],
      "execution_count": 19,
      "outputs": []
    },
    {
      "cell_type": "code",
      "metadata": {
        "colab": {
          "base_uri": "https://localhost:8080/"
        },
        "id": "cHT0iPaSfbRU",
        "outputId": "8ca4d266-90de-4d42-a6e7-a0577672fa7c"
      },
      "source": [
        "len(SRC.vocab)"
      ],
      "execution_count": 20,
      "outputs": [
        {
          "output_type": "execute_result",
          "data": {
            "text/plain": [
              "1141"
            ]
          },
          "metadata": {
            "tags": []
          },
          "execution_count": 20
        }
      ]
    },
    {
      "cell_type": "code",
      "metadata": {
        "colab": {
          "base_uri": "https://localhost:8080/"
        },
        "id": "3n9qQ3ViYodV",
        "outputId": "63f0007c-872a-4da0-b034-bc90fb2e2f8d"
      },
      "source": [
        "len(TRG.vocab)"
      ],
      "execution_count": 21,
      "outputs": [
        {
          "output_type": "execute_result",
          "data": {
            "text/plain": [
              "107"
            ]
          },
          "metadata": {
            "tags": []
          },
          "execution_count": 21
        }
      ]
    },
    {
      "cell_type": "code",
      "metadata": {
        "id": "17rVyfToe24k"
      },
      "source": [
        "# Dumps dicts\r\n",
        "with open(\"/content/SRC_stio\",\"wb\") as f:\r\n",
        "  pickle.dump(SRC.vocab.stoi,f)\r\n",
        "with open(\"/content/TRG_itos\",\"wb\") as f:\r\n",
        "  pickle.dump(TRG.vocab.itos,f)"
      ],
      "execution_count": 22,
      "outputs": []
    },
    {
      "cell_type": "code",
      "metadata": {
        "colab": {
          "base_uri": "https://localhost:8080/"
        },
        "id": "49ooxB_gbsne",
        "outputId": "00707091-4a77-458a-97c6-69de6d348e6c"
      },
      "source": [
        "device = torch.device('cuda' if torch.cuda.is_available() else 'cpu')\r\n",
        "device"
      ],
      "execution_count": 23,
      "outputs": [
        {
          "output_type": "execute_result",
          "data": {
            "text/plain": [
              "device(type='cuda')"
            ]
          },
          "metadata": {
            "tags": []
          },
          "execution_count": 23
        }
      ]
    },
    {
      "cell_type": "code",
      "metadata": {
        "id": "gRMN8gGIbt7N"
      },
      "source": [
        "BATCH_SIZE = 32\r\n",
        "\r\n",
        "train_iterator, valid_iterator = BucketIterator.splits(\r\n",
        "    (train_data, valid_data), \r\n",
        "     batch_size = BATCH_SIZE,\r\n",
        "     sort_key = lambda x: len(x.trg),\r\n",
        "     device = device)"
      ],
      "execution_count": 24,
      "outputs": []
    },
    {
      "cell_type": "code",
      "metadata": {
        "id": "7ByLoYmXcBD4"
      },
      "source": [
        "class PositionalEncodingComponent(nn.Module):\r\n",
        "  '''\r\n",
        "  Class to encode positional information to tokens.\r\n",
        "  \r\n",
        "\r\n",
        "  '''\r\n",
        "  def __init__(self,hid_dim,device,dropout=0.2,max_len=5000):\r\n",
        "    super().__init__()\r\n",
        "\r\n",
        "    assert hid_dim%2==0 # If not, it will result error in allocation to positional_encodings[:,1::2] later\r\n",
        "\r\n",
        "    self.dropout = nn.Dropout(dropout)\r\n",
        "\r\n",
        "    self.positional_encodings = torch.zeros(max_len,hid_dim)\r\n",
        "\r\n",
        "    pos = torch.arange(0,max_len).unsqueeze(1) # pos : [max_len,1]\r\n",
        "    div_term  = torch.exp(-torch.arange(0,hid_dim,2)*math.log(10000.0)/hid_dim) # Calculating value of 1/(10000^(2i/hid_dim)) in log space and then exponentiating it\r\n",
        "    # div_term: [hid_dim//2]\r\n",
        "\r\n",
        "    self.positional_encodings[:,0::2] = torch.sin(pos*div_term) # pos*div_term [max_len,hid_dim//2]\r\n",
        "    self.positional_encodings[:,1::2] = torch.cos(pos*div_term) \r\n",
        "\r\n",
        "    self.positional_encodings = self.positional_encodings.unsqueeze(0) # To account for batch_size in inputs\r\n",
        "\r\n",
        "    self.device = device\r\n",
        "\r\n",
        "  def forward(self,x):\r\n",
        "    x = x + self.positional_encodings[:,:x.size(1)].detach().to(self.device)\r\n",
        "    return self.dropout(x)"
      ],
      "execution_count": 25,
      "outputs": []
    },
    {
      "cell_type": "code",
      "metadata": {
        "id": "XOQC1vbJcFEo"
      },
      "source": [
        "class FeedForwardComponent(nn.Module):\r\n",
        "  '''\r\n",
        "  Class for pointwise feed forward connections\r\n",
        "  '''\r\n",
        "  def __init__(self,hid_dim,pf_dim,dropout):\r\n",
        "    super().__init__()\r\n",
        "\r\n",
        "    self.dropout = nn.Dropout(dropout)\r\n",
        "\r\n",
        "    self.fc1 = nn.Linear(hid_dim,pf_dim)\r\n",
        "    self.fc2 = nn.Linear(pf_dim,hid_dim)\r\n",
        "\r\n",
        "  def forward(self,x):\r\n",
        "\r\n",
        "    # x : [batch_size,seq_len,hid_dim]\r\n",
        "    x = self.dropout(torch.relu(self.fc1(x)))\r\n",
        "\r\n",
        "    # x : [batch_size,seq_len,pf_dim]\r\n",
        "    x = self.fc2(x)\r\n",
        "\r\n",
        "    # x : [batch_size,seq_len,hid_dim]\r\n",
        "    return x"
      ],
      "execution_count": 26,
      "outputs": []
    },
    {
      "cell_type": "code",
      "metadata": {
        "id": "lffcJcl-cYLq"
      },
      "source": [
        "class MultiHeadedAttentionComponent(nn.Module):\r\n",
        "  '''\r\n",
        "  Multiheaded attention Component. This implementation also supports mask. \r\n",
        "  The reason for mask that in Decoder, we don't want attention mechanism to get\r\n",
        "  important information from future tokens.\r\n",
        "  '''\r\n",
        "  def __init__(self,hid_dim, n_heads, dropout, device):\r\n",
        "    super().__init__()\r\n",
        "\r\n",
        "    assert hid_dim % n_heads == 0 # Since we split hid_dims into n_heads\r\n",
        "\r\n",
        "    self.hid_dim = hid_dim\r\n",
        "    self.n_heads = n_heads # no of heads in 'multiheaded' attention\r\n",
        "    self.head_dim = hid_dim//n_heads # dims of each head\r\n",
        "\r\n",
        "    # Transformation from source vector to query vector\r\n",
        "    self.fc_q = nn.Linear(hid_dim,hid_dim)\r\n",
        "\r\n",
        "    # Transformation from source vector to key vector\r\n",
        "    self.fc_k = nn.Linear(hid_dim,hid_dim)\r\n",
        "\r\n",
        "    # Transformation from source vector to value vector\r\n",
        "    self.fc_v = nn.Linear(hid_dim,hid_dim)\r\n",
        "\r\n",
        "    self.fc_o = nn.Linear(hid_dim,hid_dim)\r\n",
        "\r\n",
        "    self.dropout = nn.Dropout(dropout)\r\n",
        "\r\n",
        "    # Used in self attention for smoother gradients\r\n",
        "    self.scale = torch.sqrt(torch.FloatTensor([self.head_dim])).to(device)\r\n",
        "\r\n",
        "  def forward(self,query,key,value,mask=None):\r\n",
        "\r\n",
        "    #query : [batch_size, query_len, hid_dim]\r\n",
        "    #key : [batch_size, key_len, hid_dim]\r\n",
        "    #value : [batch_size, value_len, hid_dim]\r\n",
        "\r\n",
        "    batch_size = query.shape[0]\r\n",
        "\r\n",
        "    # Transforming quey,key,values\r\n",
        "    Q = self.fc_q(query)\r\n",
        "    K = self.fc_k(key)\r\n",
        "    V = self.fc_v(value)\r\n",
        "\r\n",
        "    #Q : [batch_size, query_len, hid_dim]\r\n",
        "    #K : [batch_size, key_len, hid_dim]\r\n",
        "    #V : [batch_size, value_len,hid_dim]\r\n",
        "\r\n",
        "    # Changing shapes to acocmadate n_heads information\r\n",
        "    Q = Q.view(batch_size, -1, self.n_heads, self.head_dim).permute(0, 2, 1, 3)\r\n",
        "    K = K.view(batch_size, -1, self.n_heads, self.head_dim).permute(0, 2, 1, 3)\r\n",
        "    V = V.view(batch_size, -1, self.n_heads, self.head_dim).permute(0, 2, 1, 3)\r\n",
        "\r\n",
        "    #Q : [batch_size, n_heads, query_len, head_dim]\r\n",
        "    #K : [batch_size, n_heads, key_len, head_dim]\r\n",
        "    #V : [batch_size, n_heads, value_len, head_dim]\r\n",
        "\r\n",
        "    # Calculating alpha\r\n",
        "    score = torch.matmul(Q,K.permute(0,1,3,2))/self.scale\r\n",
        "    # score : [batch_size, n_heads, query_len, key_len]\r\n",
        "\r\n",
        "    if mask is not None:\r\n",
        "      score = score.masked_fill(mask==0,-1e10)\r\n",
        "\r\n",
        "    alpha = torch.softmax(score,dim=-1)\r\n",
        "    # alpha : [batch_size, n_heads, query_len, key_len]\r\n",
        "\r\n",
        "    # Get the final self-attention  vector\r\n",
        "    x = torch.matmul(self.dropout(alpha),V)\r\n",
        "    # x : [batch_size, n_heads, query_len, head_dim]\r\n",
        "\r\n",
        "    # Reshaping self attention vector to concatenate\r\n",
        "    x = x.permute(0,2,1,3).contiguous()\r\n",
        "    # x : [batch_size, query_len, n_heads, head_dim]\r\n",
        "\r\n",
        "    x = x.view(batch_size,-1,self.hid_dim)\r\n",
        "    # x: [batch_size, query_len, hid_dim]\r\n",
        "\r\n",
        "    # Transforming concatenated outputs \r\n",
        "    x = self.fc_o(x)\r\n",
        "    #x : [batch_size, query_len, hid_dim] \r\n",
        "\r\n",
        "    return x, alpha"
      ],
      "execution_count": 27,
      "outputs": []
    },
    {
      "cell_type": "code",
      "metadata": {
        "id": "hDPR180Oci6d"
      },
      "source": [
        "class EncoderLayer(nn.Module):  \r\n",
        "  '''\r\n",
        "  Operations of a single layer in an Encoder. An Encoder employs multiple such layers. Each layer contains:\r\n",
        "  1) multihead attention, folllowed by\r\n",
        "  2) LayerNorm of addition of multihead attention output and input to the layer, followed by\r\n",
        "  3) FeedForward connections, followed by\r\n",
        "  4) LayerNorm of addition of FeedForward outputs and output of previous layerNorm.\r\n",
        "  '''\r\n",
        "  def __init__(self, hid_dim,n_heads,pf_dim,dropout,device):\r\n",
        "    super().__init__()\r\n",
        "    \r\n",
        "    self.self_attn_layer_norm = nn. LayerNorm(hid_dim) #Layer norm after self-attention\r\n",
        "    self.ff_layer_norm = nn.LayerNorm(hid_dim) # Layer norm after FeedForward component\r\n",
        "\r\n",
        "    self.self_attention = MultiHeadedAttentionComponent(hid_dim,n_heads,dropout,device)\r\n",
        "    self.feed_forward = FeedForwardComponent(hid_dim,pf_dim,dropout)\r\n",
        "\r\n",
        "    self.dropout = nn.Dropout(dropout)\r\n",
        "    \r\n",
        "  def forward(self,src,src_mask):\r\n",
        "    \r\n",
        "    # src : [batch_size, src_len, hid_dim]\r\n",
        "    # src_mask : [batch_size, 1, 1, src_len]\r\n",
        "\r\n",
        "    # get self-attention\r\n",
        "    _src, _ = self.self_attention(src,src,src,src_mask)\r\n",
        "\r\n",
        "    # LayerNorm after dropout\r\n",
        "    src = self.self_attn_layer_norm(src + self.dropout(_src))\r\n",
        "    # src : [batch_size, src_len, hid_dim]\r\n",
        "\r\n",
        "    # FeedForward\r\n",
        "    _src = self.feed_forward(src)\r\n",
        "\r\n",
        "    # layerNorm after dropout\r\n",
        "    src = self.ff_layer_norm(src + self.dropout(_src))\r\n",
        "    # src: [batch_size, src_len, hid_dim]\r\n",
        "\r\n",
        "    return src"
      ],
      "execution_count": 28,
      "outputs": []
    },
    {
      "cell_type": "code",
      "metadata": {
        "id": "Guap3xIzcvcW"
      },
      "source": [
        "class DecoderLayer(nn.Module):\r\n",
        "  '''\r\n",
        "  Operations of a single layer in an Decoder. An Decoder employs multiple such layers. Each layer contains:\r\n",
        "  1) masked decoder self attention, followed by\r\n",
        "  2) LayerNorm of addition of previous attention output and input to the layer,, followed by\r\n",
        "  3) encoder self attention, followed by\r\n",
        "  4) LayerNorm of addition of result of encoder self attention and its input, followed by\r\n",
        "  5) FeedForward connections, followed by\r\n",
        "  6) LayerNorm of addition of Feedforward results and its input.\r\n",
        "  '''\r\n",
        "  def __init__(self,hid_dim,n_heads,pf_dim,dropout,device):\r\n",
        "    super().__init__()\r\n",
        "\r\n",
        "    self.self_attn_layer_norm = nn.LayerNorm(hid_dim)\r\n",
        "    self.enc_attn_layer_norm = nn.LayerNorm(hid_dim)\r\n",
        "    self.ff_layer_norm = nn.LayerNorm(hid_dim)\r\n",
        "\r\n",
        "    # decoder self attention\r\n",
        "    self.self_attention = MultiHeadedAttentionComponent(hid_dim,n_heads,dropout,device)\r\n",
        "\r\n",
        "    # encoder attention\r\n",
        "    self.encoder_attention = MultiHeadedAttentionComponent(hid_dim,n_heads,dropout,device)\r\n",
        "\r\n",
        "    # FeedForward\r\n",
        "    self.feed_forward = FeedForwardComponent(hid_dim,pf_dim,dropout)\r\n",
        "\r\n",
        "    self.dropout = nn.Dropout(dropout)\r\n",
        "\r\n",
        "  def forward(self,trg, enc_src,trg_mask,src_mask):\r\n",
        "\r\n",
        "    #trg : [batch_size, trg_len, hid_dim]\r\n",
        "    #enc_src : [batch_size, src_len, hid_dim]\r\n",
        "    #trg_mask : [batch_size, 1, trg_len, trg_len]\r\n",
        "    #src_mask : [batch_size, 1, 1, src_len]\r\n",
        "\r\n",
        "    '''\r\n",
        "    Decoder self-attention\r\n",
        "    trg_mask is to force decoder to look only into past tokens and not get information from future tokens.\r\n",
        "    Since we apply mask before doing softmax, the final self attention vector gets no information from future tokens.\r\n",
        "    '''\r\n",
        "    _trg, _ = self.self_attention(trg,trg,trg,trg_mask)\r\n",
        "\r\n",
        "    # LayerNorm and dropout with resdiual connection\r\n",
        "    trg = self.self_attn_layer_norm(trg + self.dropout(_trg))\r\n",
        "    # trg : [batch_size, trg_len, hid_dim]\r\n",
        "\r\n",
        "    '''\r\n",
        "    Encoder attention:\r\n",
        "    Query: trg\r\n",
        "    key: enc_src\r\n",
        "    Value : enc_src\r\n",
        "    Why? \r\n",
        "    the idea here is to extract information from encoder outputs. So we use decoder self-attention as a query to find important values from enc_src\r\n",
        "    and that is why we use src_mask, to avoid getting information from enc_src positions where it is equal to pad-id\r\n",
        "    After we get necessary infromation from encoder outputs we add them back to decoder self-attention.\r\n",
        "    '''\r\n",
        "    _trg, encoder_attn_alpha = self.encoder_attention(trg,enc_src,enc_src,src_mask)\r\n",
        "\r\n",
        "        # LayerNorm , residual connection and dropout\r\n",
        "    trg = self.enc_attn_layer_norm(trg + self.dropout(_trg))\r\n",
        "    # trg : [ batch_size, trg_len, hid_dim]\r\n",
        "\r\n",
        "    # Feed Forward\r\n",
        "    _trg = self.feed_forward(trg)\r\n",
        "\r\n",
        "    # LayerNorm, residual connection and dropout\r\n",
        "    trg = self.ff_layer_norm(trg + self.dropout(_trg))\r\n",
        "\r\n",
        "    return trg, encoder_attn_alpha"
      ],
      "execution_count": 29,
      "outputs": []
    },
    {
      "cell_type": "code",
      "metadata": {
        "id": "Vz_6uSaFc7rn"
      },
      "source": [
        "class Encoder(nn.Module):\r\n",
        "  '''\r\n",
        "  An encoder, creates token embeddings and position embeddings and passes them through multiple encoder layers\r\n",
        "  '''\r\n",
        "  def __init__(self,input_dim,hid_dim,n_layers,n_heads,pf_dim,dropout,device,max_length = 5000):\r\n",
        "    super().__init__()\r\n",
        "    self.device = device\r\n",
        "\r\n",
        "    self.tok_embedding = nn.Embedding(input_dim,hid_dim)\r\n",
        "    self.pos_embedding = PositionalEncodingComponent(hid_dim,device,dropout,max_length)\r\n",
        "\r\n",
        "    # encoder layers\r\n",
        "    self.layers = nn.ModuleList([EncoderLayer(hid_dim,n_heads,pf_dim,dropout,device) for _ in range(n_layers)])\r\n",
        "\r\n",
        "    self.dropout = nn.Dropout(dropout)\r\n",
        "\r\n",
        "    self.scale = torch.sqrt(torch.FloatTensor([hid_dim])).to(device)\r\n",
        "\r\n",
        "  def forward(self,src,src_mask):\r\n",
        "\r\n",
        "    # src : [batch_size, src_len]\r\n",
        "    # src_mask : [batch_size,1,1,src_len]\r\n",
        "\r\n",
        "    batch_size = src.shape[0]\r\n",
        "    src_len = src.shape[1]\r\n",
        "\r\n",
        "    tok_embeddings = self.tok_embedding(src)*self.scale\r\n",
        "\r\n",
        "    # token plus position embeddings\r\n",
        "    src  = self.pos_embedding(tok_embeddings)\r\n",
        "\r\n",
        "    for layer in self.layers:\r\n",
        "      src = layer(src,src_mask)\r\n",
        "    # src : [batch_size, src_len, hid_dim]\r\n",
        "\r\n",
        "    return src"
      ],
      "execution_count": 30,
      "outputs": []
    },
    {
      "cell_type": "code",
      "metadata": {
        "id": "fVnPu_cedHuM"
      },
      "source": [
        "class Decoder(nn.Module):\r\n",
        "  '''\r\n",
        "  An decoder, creates token embeddings and position embeddings and passes them through multiple decoder layers\r\n",
        "  '''\r\n",
        "  def __init__(self,output_dim,hid_dim,n_layers,n_heads,pf_dim,dropout,device,max_length= 5000):\r\n",
        "    super().__init__()\r\n",
        "\r\n",
        "    self.device = device\r\n",
        "\r\n",
        "    self.tok_embedding = nn.Embedding(output_dim,hid_dim)\r\n",
        "    self.pos_embedding = PositionalEncodingComponent(hid_dim,device,dropout,max_length)\r\n",
        "\r\n",
        "    # decoder layers\r\n",
        "    self.layers = nn.ModuleList([DecoderLayer(hid_dim,n_heads,pf_dim,dropout,device) for _ in range(n_layers)])\r\n",
        "\r\n",
        "    # convert decoder outputs to real outputs\r\n",
        "    self.fc_out = nn.Linear(hid_dim,output_dim)\r\n",
        "\r\n",
        "    self.dropout = nn.Dropout(dropout)\r\n",
        "\r\n",
        "    self.scale = torch.sqrt(torch.FloatTensor([hid_dim])).to(device)\r\n",
        "\r\n",
        "  def forward(self, trg, enc_src,trg_mask,src_mask):\r\n",
        "    \r\n",
        "    #trg : [batch_size, trg_len]\r\n",
        "    #enc_src : [batch_size, src_len, hid_dim]\r\n",
        "    #trg_mask : [batch_size, 1, trg_len, trg_len]\r\n",
        "    #src_mask : [batch_size, 1, 1, src_len]\r\n",
        "\r\n",
        "    batch_size = trg.shape[0]\r\n",
        "    trg_len = trg.shape[1]\r\n",
        "\r\n",
        "    tok_embeddings = self.tok_embedding(trg)*self.scale\r\n",
        "\r\n",
        "    # token plus pos embeddings\r\n",
        "    trg = self.pos_embedding(tok_embeddings)\r\n",
        "    # trg : [batch_size, trg_len, hid_dim]\r\n",
        "\r\n",
        "    # Pass trg thorugh decoder layers\r\n",
        "    for layer in self.layers:\r\n",
        "      trg, encoder_attention = layer(trg,enc_src,trg_mask,src_mask)\r\n",
        "    \r\n",
        "    # trg : [batch_size,trg_len,hid_dim]\r\n",
        "    # encoder_attention :  [batch_size, n_head,trg_len, src_len]\r\n",
        "\r\n",
        "    # Convert to outputs\r\n",
        "    output = self.fc_out(trg)\r\n",
        "    # output : [batch_size, trg_len, output_dim]\r\n",
        "    \r\n",
        "    return output, encoder_attention"
      ],
      "execution_count": 31,
      "outputs": []
    },
    {
      "cell_type": "code",
      "metadata": {
        "id": "lS8s1DWqdNbK"
      },
      "source": [
        "\r\n",
        "class Seq2Seq(nn.Module):\r\n",
        "  def __init__(self, encoder, decoder, src_pad_idx, trg_pad_idx, device):\r\n",
        "    super().__init__()\r\n",
        "    self.encoder = encoder\r\n",
        "    self.decoder = decoder\r\n",
        "    self.src_pad_idx = src_pad_idx\r\n",
        "    self.trg_pad_idx = trg_pad_idx\r\n",
        "    self.device = device\r\n",
        "\r\n",
        "  def make_src_mask(self,src):\r\n",
        "    # src : [batch_size, src_len]\r\n",
        "\r\n",
        "    # Masking pad values\r\n",
        "    src_mask = (src != self.src_pad_idx).unsqueeze(1).unsqueeze(2)\r\n",
        "    # src_mask : [batch_size,1,1,src_len]\r\n",
        "\r\n",
        "    return src_mask\r\n",
        "\r\n",
        "  def make_trg_mask(self,trg):\r\n",
        "    # trg : [batch_size, trg_len]\r\n",
        "\r\n",
        "    # Masking pad values\r\n",
        "    trg_pad_mask = (trg != self.trg_pad_idx).unsqueeze(1).unsqueeze(2)\r\n",
        "    # trg_pad_mask : [batch_size,1,1, trg_len]\r\n",
        "\r\n",
        "    # Masking future values\r\n",
        "    trg_len = trg.shape[1]\r\n",
        "    trg_sub_mask = torch.tril(torch.ones((trg_len,trg_len),device= self.device)).bool()\r\n",
        "    # trg_sub_mask : [trg_len, trg_len]\r\n",
        "\r\n",
        "    # combine both masks\r\n",
        "    trg_mask = trg_pad_mask & trg_sub_mask\r\n",
        "    # trg_mask = [batch_size,1,trg_len,trg_len]\r\n",
        "\r\n",
        "    return trg_mask\r\n",
        "\r\n",
        "  def forward(self,src,trg):\r\n",
        "\r\n",
        "    # src : [batch_size, src_len]\r\n",
        "    # trg : [batch_size, trg_len]\r\n",
        "\r\n",
        "    src_mask = self.make_src_mask(src)\r\n",
        "    trg_mask = self.make_trg_mask(trg)\r\n",
        "\r\n",
        "    # src_mask : [ batch_size, 1,1,src_len]\r\n",
        "    # trg_mask : [batch_size, 1, trg_len, trg_len]\r\n",
        "\r\n",
        "    enc_src = self.encoder(src,src_mask)\r\n",
        "    #enc_src : [batch_size, src_len, hid_dim]\r\n",
        "\r\n",
        "    output, encoder_decoder_attention = self.decoder(trg,enc_src,trg_mask,src_mask)\r\n",
        "    # output : [batch_size, trg_len, output_dim]\r\n",
        "    # encoder_decoder_attention : [batch_size, n_heads, trg_len, src_len]\r\n",
        "\r\n",
        "    return output, encoder_decoder_attention"
      ],
      "execution_count": 32,
      "outputs": []
    },
    {
      "cell_type": "code",
      "metadata": {
        "id": "VotguMUgdaO-"
      },
      "source": [
        "INPUT_DIM = len(SRC.vocab)\r\n",
        "OUTPUT_DIM = len(TRG.vocab)\r\n",
        "HID_DIM = 256\r\n",
        "ENC_LAYERS = 3\r\n",
        "DEC_LAYERS = 6\r\n",
        "ENC_HEADS = 8\r\n",
        "DEC_HEADS = 8\r\n",
        "ENC_PF_DIM = 512\r\n",
        "DEC_PF_DIM = 512\r\n",
        "ENC_DROPOUT = 0.1\r\n",
        "DEC_DROPOUT = 0.1\r\n",
        "\r\n",
        "enc = Encoder(INPUT_DIM, \r\n",
        "              HID_DIM, \r\n",
        "              ENC_LAYERS, \r\n",
        "              ENC_HEADS, \r\n",
        "              ENC_PF_DIM, \r\n",
        "              ENC_DROPOUT, \r\n",
        "              device)\r\n",
        "\r\n",
        "dec = Decoder(OUTPUT_DIM, \r\n",
        "              HID_DIM, \r\n",
        "              DEC_LAYERS, \r\n",
        "              DEC_HEADS, \r\n",
        "              DEC_PF_DIM, \r\n",
        "              DEC_DROPOUT, \r\n",
        "              device)\r\n",
        "\r\n",
        "SRC_PAD_IDX = SRC.vocab.stoi[SRC.pad_token]\r\n",
        "TRG_PAD_IDX = TRG.vocab.stoi[TRG.pad_token]\r\n",
        "\r\n",
        "model = Seq2Seq(enc, dec, SRC_PAD_IDX, TRG_PAD_IDX, device).to(device)"
      ],
      "execution_count": 33,
      "outputs": []
    },
    {
      "cell_type": "code",
      "metadata": {
        "id": "Dx2KhnfvduVq"
      },
      "source": [
        "def initialize_weights(m):\r\n",
        "    if hasattr(m, 'weight') and m.weight.dim() > 1:\r\n",
        "        nn.init.xavier_uniform_(m.weight.data)\r\n",
        "\r\n",
        "model.apply(initialize_weights);"
      ],
      "execution_count": 34,
      "outputs": []
    },
    {
      "cell_type": "code",
      "metadata": {
        "colab": {
          "base_uri": "https://localhost:8080/"
        },
        "id": "ZjkCCx7Fd1aK",
        "outputId": "bb0db207-9057-42f3-ccef-eeef8529749e"
      },
      "source": [
        "def count_parameters(model):\r\n",
        "    return sum(p.numel() for p in model.parameters() if p.requires_grad)\r\n",
        "\r\n",
        "print(f'The model has {count_parameters(model):,} trainable parameters')"
      ],
      "execution_count": 35,
      "outputs": [
        {
          "output_type": "stream",
          "text": [
            "The model has 6,673,003 trainable parameters\n"
          ],
          "name": "stdout"
        }
      ]
    },
    {
      "cell_type": "code",
      "metadata": {
        "id": "8KyVSx1Pd6yy"
      },
      "source": [
        "LEARNING_RATE = 0.0001\r\n",
        "\r\n",
        "optimizer = torch.optim.Adam(model.parameters(), lr = LEARNING_RATE)\r\n",
        "\r\n",
        "criterion = nn.CrossEntropyLoss(ignore_index = TRG_PAD_IDX)"
      ],
      "execution_count": 36,
      "outputs": []
    },
    {
      "cell_type": "code",
      "metadata": {
        "id": "1Bh7Byisd_t5"
      },
      "source": [
        "def train(model, iterator, optimizer, criterion, clip):\r\n",
        "    \r\n",
        "    model.train()\r\n",
        "    \r\n",
        "    epoch_loss = 0\r\n",
        "    \r\n",
        "    for i, batch in enumerate(iterator):\r\n",
        "        \r\n",
        "        src = batch.src\r\n",
        "        trg = batch.trg\r\n",
        "        \r\n",
        "        optimizer.zero_grad()\r\n",
        "        \r\n",
        "        output, _ = model(src, trg[:,:-1])\r\n",
        "                \r\n",
        "        #output = [batch size, trg len - 1, output dim]\r\n",
        "        #trg = [batch size, trg len]\r\n",
        "            \r\n",
        "        output_dim = output.shape[-1]\r\n",
        "            \r\n",
        "        output = output.contiguous().view(-1, output_dim)\r\n",
        "        trg = trg[:,1:].contiguous().view(-1)\r\n",
        "                \r\n",
        "        #output = [batch size * trg len - 1, output dim]\r\n",
        "        #trg = [batch size * trg len - 1]\r\n",
        "            \r\n",
        "        loss = criterion(output, trg)\r\n",
        "        \r\n",
        "        loss.backward()\r\n",
        "\r\n",
        "        torch.nn.utils.clip_grad_norm_(model.parameters(), clip)\r\n",
        "        \r\n",
        "        optimizer.step()\r\n",
        "        \r\n",
        "        epoch_loss += loss.item()\r\n",
        "        \r\n",
        "    return epoch_loss / len(iterator)"
      ],
      "execution_count": 37,
      "outputs": []
    },
    {
      "cell_type": "code",
      "metadata": {
        "id": "yO07uDlleG__"
      },
      "source": [
        "def evaluate(model, iterator, criterion):\r\n",
        "    \r\n",
        "    model.eval()\r\n",
        "    \r\n",
        "    epoch_loss = 0\r\n",
        "    \r\n",
        "    with torch.no_grad():\r\n",
        "    \r\n",
        "        for i, batch in enumerate(iterator):\r\n",
        "\r\n",
        "            src = batch.src\r\n",
        "            trg = batch.trg\r\n",
        "\r\n",
        "            output, _ = model(src, trg[:,:-1])\r\n",
        "            \r\n",
        "            #output = [batch size, trg len - 1, output dim]\r\n",
        "            #trg = [batch size, trg len]\r\n",
        "            \r\n",
        "            output_dim = output.shape[-1]\r\n",
        "            \r\n",
        "            output = output.contiguous().view(-1, output_dim)\r\n",
        "            trg = trg[:,1:].contiguous().view(-1)\r\n",
        "            \r\n",
        "            #output = [batch size * trg len - 1, output dim]\r\n",
        "            #trg = [batch size * trg len - 1]\r\n",
        "            \r\n",
        "            loss = criterion(output, trg)\r\n",
        "\r\n",
        "            epoch_loss += loss.item()\r\n",
        "        \r\n",
        "    return epoch_loss / len(iterator)"
      ],
      "execution_count": 38,
      "outputs": []
    },
    {
      "cell_type": "code",
      "metadata": {
        "id": "WvRw5x6zeKan"
      },
      "source": [
        "def epoch_time(start_time, end_time):\r\n",
        "    elapsed_time = end_time - start_time\r\n",
        "    elapsed_mins = int(elapsed_time / 60)\r\n",
        "    elapsed_secs = int(elapsed_time - (elapsed_mins * 60))\r\n",
        "    return elapsed_mins, elapsed_secs"
      ],
      "execution_count": 39,
      "outputs": []
    },
    {
      "cell_type": "code",
      "metadata": {
        "colab": {
          "base_uri": "https://localhost:8080/"
        },
        "id": "pOTVSixJePPf",
        "outputId": "aa4e9d11-0815-4a53-e65f-4314b1d1035f"
      },
      "source": [
        "N_EPOCHS = 100\r\n",
        "CLIP = 1\r\n",
        "\r\n",
        "best_valid_loss = float('inf')\r\n",
        "\r\n",
        "for epoch in range(N_EPOCHS):\r\n",
        "    \r\n",
        "    start_time = time.time()\r\n",
        "    \r\n",
        "    train_loss = train(model, train_iterator, optimizer, criterion, CLIP)\r\n",
        "    valid_loss = evaluate(model, valid_iterator, criterion)\r\n",
        "    \r\n",
        "    end_time = time.time()\r\n",
        "    \r\n",
        "    epoch_mins, epoch_secs = epoch_time(start_time, end_time)\r\n",
        "    \r\n",
        "    if valid_loss < best_valid_loss:\r\n",
        "        best_valid_loss = valid_loss\r\n",
        "        torch.save(model.state_dict(), 'char_wise_decoder_model.pt')\r\n",
        "    \r\n",
        "    print(f'Epoch: {epoch+1:02} | Time: {epoch_mins}m {epoch_secs}s')\r\n",
        "    print(f'\\tTrain Loss: {train_loss:.3f} | Train PPL: {math.exp(train_loss):7.3f}')\r\n",
        "    print(f'\\t Val. Loss: {valid_loss:.3f} |  Val. PPL: {math.exp(valid_loss):7.3f}')"
      ],
      "execution_count": 40,
      "outputs": [
        {
          "output_type": "stream",
          "text": [
            "Epoch: 01 | Time: 1m 7s\n",
            "\tTrain Loss: 3.833 | Train PPL:  46.212\n",
            "\t Val. Loss: 3.622 |  Val. PPL:  37.416\n",
            "Epoch: 02 | Time: 1m 1s\n",
            "\tTrain Loss: 3.271 | Train PPL:  26.333\n",
            "\t Val. Loss: 2.889 |  Val. PPL:  17.976\n",
            "Epoch: 03 | Time: 1m 2s\n",
            "\tTrain Loss: 2.927 | Train PPL:  18.670\n",
            "\t Val. Loss: 2.702 |  Val. PPL:  14.903\n",
            "Epoch: 04 | Time: 1m 4s\n",
            "\tTrain Loss: 2.786 | Train PPL:  16.213\n",
            "\t Val. Loss: 2.608 |  Val. PPL:  13.578\n",
            "Epoch: 05 | Time: 1m 2s\n",
            "\tTrain Loss: 2.685 | Train PPL:  14.654\n",
            "\t Val. Loss: 2.502 |  Val. PPL:  12.209\n",
            "Epoch: 06 | Time: 1m 5s\n",
            "\tTrain Loss: 2.605 | Train PPL:  13.529\n",
            "\t Val. Loss: 2.424 |  Val. PPL:  11.295\n",
            "Epoch: 07 | Time: 1m 3s\n",
            "\tTrain Loss: 2.538 | Train PPL:  12.660\n",
            "\t Val. Loss: 2.364 |  Val. PPL:  10.634\n",
            "Epoch: 08 | Time: 1m 3s\n",
            "\tTrain Loss: 2.475 | Train PPL:  11.876\n",
            "\t Val. Loss: 2.311 |  Val. PPL:  10.085\n",
            "Epoch: 09 | Time: 1m 3s\n",
            "\tTrain Loss: 2.421 | Train PPL:  11.262\n",
            "\t Val. Loss: 2.265 |  Val. PPL:   9.629\n",
            "Epoch: 10 | Time: 1m 3s\n",
            "\tTrain Loss: 2.371 | Train PPL:  10.712\n",
            "\t Val. Loss: 2.226 |  Val. PPL:   9.265\n",
            "Epoch: 11 | Time: 1m 4s\n",
            "\tTrain Loss: 2.323 | Train PPL:  10.206\n",
            "\t Val. Loss: 2.173 |  Val. PPL:   8.787\n",
            "Epoch: 12 | Time: 1m 3s\n",
            "\tTrain Loss: 2.277 | Train PPL:   9.743\n",
            "\t Val. Loss: 2.135 |  Val. PPL:   8.453\n",
            "Epoch: 13 | Time: 1m 2s\n",
            "\tTrain Loss: 2.232 | Train PPL:   9.315\n",
            "\t Val. Loss: 2.104 |  Val. PPL:   8.202\n",
            "Epoch: 14 | Time: 1m 3s\n",
            "\tTrain Loss: 2.189 | Train PPL:   8.928\n",
            "\t Val. Loss: 2.056 |  Val. PPL:   7.817\n",
            "Epoch: 15 | Time: 1m 4s\n",
            "\tTrain Loss: 2.151 | Train PPL:   8.593\n",
            "\t Val. Loss: 2.035 |  Val. PPL:   7.655\n",
            "Epoch: 16 | Time: 1m 4s\n",
            "\tTrain Loss: 2.115 | Train PPL:   8.290\n",
            "\t Val. Loss: 2.004 |  Val. PPL:   7.419\n",
            "Epoch: 17 | Time: 1m 5s\n",
            "\tTrain Loss: 2.080 | Train PPL:   8.008\n",
            "\t Val. Loss: 1.980 |  Val. PPL:   7.243\n",
            "Epoch: 18 | Time: 1m 2s\n",
            "\tTrain Loss: 2.043 | Train PPL:   7.717\n",
            "\t Val. Loss: 1.950 |  Val. PPL:   7.027\n",
            "Epoch: 19 | Time: 1m 3s\n",
            "\tTrain Loss: 2.013 | Train PPL:   7.486\n",
            "\t Val. Loss: 1.929 |  Val. PPL:   6.885\n",
            "Epoch: 20 | Time: 1m 5s\n",
            "\tTrain Loss: 1.985 | Train PPL:   7.277\n",
            "\t Val. Loss: 1.905 |  Val. PPL:   6.718\n",
            "Epoch: 21 | Time: 1m 2s\n",
            "\tTrain Loss: 1.953 | Train PPL:   7.048\n",
            "\t Val. Loss: 1.884 |  Val. PPL:   6.580\n",
            "Epoch: 22 | Time: 1m 3s\n",
            "\tTrain Loss: 1.925 | Train PPL:   6.857\n",
            "\t Val. Loss: 1.863 |  Val. PPL:   6.442\n",
            "Epoch: 23 | Time: 1m 3s\n",
            "\tTrain Loss: 1.902 | Train PPL:   6.701\n",
            "\t Val. Loss: 1.844 |  Val. PPL:   6.321\n",
            "Epoch: 24 | Time: 1m 1s\n",
            "\tTrain Loss: 1.875 | Train PPL:   6.522\n",
            "\t Val. Loss: 1.832 |  Val. PPL:   6.249\n",
            "Epoch: 25 | Time: 1m 4s\n",
            "\tTrain Loss: 1.852 | Train PPL:   6.374\n",
            "\t Val. Loss: 1.803 |  Val. PPL:   6.069\n",
            "Epoch: 26 | Time: 1m 4s\n",
            "\tTrain Loss: 1.829 | Train PPL:   6.226\n",
            "\t Val. Loss: 1.794 |  Val. PPL:   6.013\n",
            "Epoch: 27 | Time: 1m 3s\n",
            "\tTrain Loss: 1.804 | Train PPL:   6.075\n",
            "\t Val. Loss: 1.773 |  Val. PPL:   5.889\n",
            "Epoch: 28 | Time: 1m 4s\n",
            "\tTrain Loss: 1.781 | Train PPL:   5.933\n",
            "\t Val. Loss: 1.763 |  Val. PPL:   5.828\n",
            "Epoch: 29 | Time: 1m 4s\n",
            "\tTrain Loss: 1.760 | Train PPL:   5.811\n",
            "\t Val. Loss: 1.749 |  Val. PPL:   5.750\n",
            "Epoch: 30 | Time: 1m 2s\n",
            "\tTrain Loss: 1.739 | Train PPL:   5.693\n",
            "\t Val. Loss: 1.735 |  Val. PPL:   5.668\n",
            "Epoch: 31 | Time: 1m 1s\n",
            "\tTrain Loss: 1.719 | Train PPL:   5.580\n",
            "\t Val. Loss: 1.719 |  Val. PPL:   5.579\n",
            "Epoch: 32 | Time: 1m 4s\n",
            "\tTrain Loss: 1.701 | Train PPL:   5.480\n",
            "\t Val. Loss: 1.703 |  Val. PPL:   5.491\n",
            "Epoch: 33 | Time: 1m 3s\n",
            "\tTrain Loss: 1.682 | Train PPL:   5.374\n",
            "\t Val. Loss: 1.687 |  Val. PPL:   5.405\n",
            "Epoch: 34 | Time: 1m 2s\n",
            "\tTrain Loss: 1.660 | Train PPL:   5.257\n",
            "\t Val. Loss: 1.688 |  Val. PPL:   5.410\n",
            "Epoch: 35 | Time: 1m 4s\n",
            "\tTrain Loss: 1.647 | Train PPL:   5.192\n",
            "\t Val. Loss: 1.675 |  Val. PPL:   5.340\n",
            "Epoch: 36 | Time: 1m 2s\n",
            "\tTrain Loss: 1.627 | Train PPL:   5.091\n",
            "\t Val. Loss: 1.658 |  Val. PPL:   5.249\n",
            "Epoch: 37 | Time: 1m 2s\n",
            "\tTrain Loss: 1.608 | Train PPL:   4.995\n",
            "\t Val. Loss: 1.656 |  Val. PPL:   5.241\n",
            "Epoch: 38 | Time: 1m 3s\n",
            "\tTrain Loss: 1.591 | Train PPL:   4.908\n",
            "\t Val. Loss: 1.640 |  Val. PPL:   5.154\n",
            "Epoch: 39 | Time: 1m 3s\n",
            "\tTrain Loss: 1.574 | Train PPL:   4.826\n",
            "\t Val. Loss: 1.632 |  Val. PPL:   5.112\n",
            "Epoch: 40 | Time: 1m 4s\n",
            "\tTrain Loss: 1.563 | Train PPL:   4.774\n",
            "\t Val. Loss: 1.622 |  Val. PPL:   5.061\n",
            "Epoch: 41 | Time: 1m 2s\n",
            "\tTrain Loss: 1.544 | Train PPL:   4.683\n",
            "\t Val. Loss: 1.610 |  Val. PPL:   5.003\n",
            "Epoch: 42 | Time: 1m 4s\n",
            "\tTrain Loss: 1.525 | Train PPL:   4.594\n",
            "\t Val. Loss: 1.608 |  Val. PPL:   4.994\n",
            "Epoch: 43 | Time: 1m 2s\n",
            "\tTrain Loss: 1.513 | Train PPL:   4.542\n",
            "\t Val. Loss: 1.608 |  Val. PPL:   4.993\n",
            "Epoch: 44 | Time: 1m 1s\n",
            "\tTrain Loss: 1.496 | Train PPL:   4.462\n",
            "\t Val. Loss: 1.592 |  Val. PPL:   4.915\n",
            "Epoch: 45 | Time: 1m 2s\n",
            "\tTrain Loss: 1.481 | Train PPL:   4.397\n",
            "\t Val. Loss: 1.589 |  Val. PPL:   4.901\n",
            "Epoch: 46 | Time: 1m 2s\n",
            "\tTrain Loss: 1.466 | Train PPL:   4.334\n",
            "\t Val. Loss: 1.585 |  Val. PPL:   4.881\n",
            "Epoch: 47 | Time: 1m 0s\n",
            "\tTrain Loss: 1.452 | Train PPL:   4.270\n",
            "\t Val. Loss: 1.575 |  Val. PPL:   4.829\n",
            "Epoch: 48 | Time: 1m 2s\n",
            "\tTrain Loss: 1.438 | Train PPL:   4.214\n",
            "\t Val. Loss: 1.570 |  Val. PPL:   4.808\n",
            "Epoch: 49 | Time: 1m 4s\n",
            "\tTrain Loss: 1.427 | Train PPL:   4.168\n",
            "\t Val. Loss: 1.563 |  Val. PPL:   4.775\n",
            "Epoch: 50 | Time: 1m 2s\n",
            "\tTrain Loss: 1.415 | Train PPL:   4.115\n",
            "\t Val. Loss: 1.550 |  Val. PPL:   4.713\n",
            "Epoch: 51 | Time: 1m 2s\n",
            "\tTrain Loss: 1.403 | Train PPL:   4.067\n",
            "\t Val. Loss: 1.556 |  Val. PPL:   4.741\n",
            "Epoch: 52 | Time: 1m 2s\n",
            "\tTrain Loss: 1.388 | Train PPL:   4.008\n",
            "\t Val. Loss: 1.549 |  Val. PPL:   4.709\n",
            "Epoch: 53 | Time: 1m 2s\n",
            "\tTrain Loss: 1.379 | Train PPL:   3.971\n",
            "\t Val. Loss: 1.536 |  Val. PPL:   4.647\n",
            "Epoch: 54 | Time: 1m 3s\n",
            "\tTrain Loss: 1.365 | Train PPL:   3.916\n",
            "\t Val. Loss: 1.537 |  Val. PPL:   4.649\n",
            "Epoch: 55 | Time: 1m 4s\n",
            "\tTrain Loss: 1.355 | Train PPL:   3.877\n",
            "\t Val. Loss: 1.533 |  Val. PPL:   4.631\n",
            "Epoch: 56 | Time: 1m 3s\n",
            "\tTrain Loss: 1.342 | Train PPL:   3.825\n",
            "\t Val. Loss: 1.526 |  Val. PPL:   4.602\n",
            "Epoch: 57 | Time: 1m 3s\n",
            "\tTrain Loss: 1.332 | Train PPL:   3.789\n",
            "\t Val. Loss: 1.525 |  Val. PPL:   4.597\n",
            "Epoch: 58 | Time: 1m 4s\n",
            "\tTrain Loss: 1.318 | Train PPL:   3.735\n",
            "\t Val. Loss: 1.512 |  Val. PPL:   4.534\n",
            "Epoch: 59 | Time: 1m 2s\n",
            "\tTrain Loss: 1.311 | Train PPL:   3.709\n",
            "\t Val. Loss: 1.514 |  Val. PPL:   4.544\n",
            "Epoch: 60 | Time: 1m 3s\n",
            "\tTrain Loss: 1.294 | Train PPL:   3.646\n",
            "\t Val. Loss: 1.515 |  Val. PPL:   4.550\n",
            "Epoch: 61 | Time: 1m 5s\n",
            "\tTrain Loss: 1.287 | Train PPL:   3.621\n",
            "\t Val. Loss: 1.502 |  Val. PPL:   4.490\n",
            "Epoch: 62 | Time: 1m 4s\n",
            "\tTrain Loss: 1.274 | Train PPL:   3.576\n",
            "\t Val. Loss: 1.500 |  Val. PPL:   4.482\n",
            "Epoch: 63 | Time: 1m 4s\n",
            "\tTrain Loss: 1.264 | Train PPL:   3.538\n",
            "\t Val. Loss: 1.497 |  Val. PPL:   4.469\n",
            "Epoch: 64 | Time: 1m 2s\n",
            "\tTrain Loss: 1.254 | Train PPL:   3.506\n",
            "\t Val. Loss: 1.496 |  Val. PPL:   4.462\n",
            "Epoch: 65 | Time: 1m 3s\n",
            "\tTrain Loss: 1.241 | Train PPL:   3.459\n",
            "\t Val. Loss: 1.489 |  Val. PPL:   4.434\n",
            "Epoch: 66 | Time: 1m 4s\n",
            "\tTrain Loss: 1.234 | Train PPL:   3.434\n",
            "\t Val. Loss: 1.497 |  Val. PPL:   4.468\n",
            "Epoch: 67 | Time: 1m 4s\n",
            "\tTrain Loss: 1.227 | Train PPL:   3.412\n",
            "\t Val. Loss: 1.484 |  Val. PPL:   4.408\n",
            "Epoch: 68 | Time: 1m 2s\n",
            "\tTrain Loss: 1.214 | Train PPL:   3.368\n",
            "\t Val. Loss: 1.486 |  Val. PPL:   4.419\n",
            "Epoch: 69 | Time: 1m 3s\n",
            "\tTrain Loss: 1.203 | Train PPL:   3.329\n",
            "\t Val. Loss: 1.486 |  Val. PPL:   4.421\n",
            "Epoch: 70 | Time: 1m 5s\n",
            "\tTrain Loss: 1.195 | Train PPL:   3.302\n",
            "\t Val. Loss: 1.476 |  Val. PPL:   4.375\n",
            "Epoch: 71 | Time: 1m 1s\n",
            "\tTrain Loss: 1.182 | Train PPL:   3.261\n",
            "\t Val. Loss: 1.482 |  Val. PPL:   4.402\n",
            "Epoch: 72 | Time: 1m 3s\n",
            "\tTrain Loss: 1.176 | Train PPL:   3.243\n",
            "\t Val. Loss: 1.476 |  Val. PPL:   4.376\n",
            "Epoch: 73 | Time: 1m 3s\n",
            "\tTrain Loss: 1.168 | Train PPL:   3.217\n",
            "\t Val. Loss: 1.469 |  Val. PPL:   4.344\n",
            "Epoch: 74 | Time: 1m 3s\n",
            "\tTrain Loss: 1.157 | Train PPL:   3.182\n",
            "\t Val. Loss: 1.490 |  Val. PPL:   4.437\n",
            "Epoch: 75 | Time: 1m 4s\n",
            "\tTrain Loss: 1.150 | Train PPL:   3.157\n",
            "\t Val. Loss: 1.463 |  Val. PPL:   4.319\n",
            "Epoch: 76 | Time: 1m 2s\n",
            "\tTrain Loss: 1.138 | Train PPL:   3.121\n",
            "\t Val. Loss: 1.469 |  Val. PPL:   4.346\n",
            "Epoch: 77 | Time: 1m 3s\n",
            "\tTrain Loss: 1.131 | Train PPL:   3.098\n",
            "\t Val. Loss: 1.466 |  Val. PPL:   4.334\n",
            "Epoch: 78 | Time: 1m 4s\n",
            "\tTrain Loss: 1.126 | Train PPL:   3.084\n",
            "\t Val. Loss: 1.465 |  Val. PPL:   4.327\n",
            "Epoch: 79 | Time: 1m 3s\n",
            "\tTrain Loss: 1.116 | Train PPL:   3.052\n",
            "\t Val. Loss: 1.462 |  Val. PPL:   4.315\n",
            "Epoch: 80 | Time: 1m 4s\n",
            "\tTrain Loss: 1.106 | Train PPL:   3.023\n",
            "\t Val. Loss: 1.468 |  Val. PPL:   4.340\n",
            "Epoch: 81 | Time: 1m 3s\n",
            "\tTrain Loss: 1.099 | Train PPL:   3.000\n",
            "\t Val. Loss: 1.446 |  Val. PPL:   4.246\n",
            "Epoch: 82 | Time: 1m 2s\n",
            "\tTrain Loss: 1.091 | Train PPL:   2.979\n",
            "\t Val. Loss: 1.462 |  Val. PPL:   4.314\n",
            "Epoch: 83 | Time: 1m 3s\n",
            "\tTrain Loss: 1.081 | Train PPL:   2.949\n",
            "\t Val. Loss: 1.462 |  Val. PPL:   4.315\n",
            "Epoch: 84 | Time: 1m 3s\n",
            "\tTrain Loss: 1.074 | Train PPL:   2.927\n",
            "\t Val. Loss: 1.457 |  Val. PPL:   4.294\n",
            "Epoch: 85 | Time: 1m 2s\n",
            "\tTrain Loss: 1.067 | Train PPL:   2.905\n",
            "\t Val. Loss: 1.452 |  Val. PPL:   4.273\n",
            "Epoch: 86 | Time: 1m 2s\n",
            "\tTrain Loss: 1.060 | Train PPL:   2.886\n",
            "\t Val. Loss: 1.469 |  Val. PPL:   4.344\n",
            "Epoch: 87 | Time: 1m 3s\n",
            "\tTrain Loss: 1.049 | Train PPL:   2.855\n",
            "\t Val. Loss: 1.446 |  Val. PPL:   4.247\n",
            "Epoch: 88 | Time: 1m 2s\n",
            "\tTrain Loss: 1.043 | Train PPL:   2.837\n",
            "\t Val. Loss: 1.458 |  Val. PPL:   4.296\n",
            "Epoch: 89 | Time: 1m 3s\n",
            "\tTrain Loss: 1.036 | Train PPL:   2.818\n",
            "\t Val. Loss: 1.451 |  Val. PPL:   4.268\n",
            "Epoch: 90 | Time: 1m 3s\n",
            "\tTrain Loss: 1.026 | Train PPL:   2.791\n",
            "\t Val. Loss: 1.454 |  Val. PPL:   4.281\n",
            "Epoch: 91 | Time: 1m 3s\n",
            "\tTrain Loss: 1.020 | Train PPL:   2.775\n",
            "\t Val. Loss: 1.442 |  Val. PPL:   4.230\n",
            "Epoch: 92 | Time: 1m 2s\n",
            "\tTrain Loss: 1.015 | Train PPL:   2.760\n",
            "\t Val. Loss: 1.444 |  Val. PPL:   4.239\n",
            "Epoch: 93 | Time: 1m 4s\n",
            "\tTrain Loss: 1.006 | Train PPL:   2.735\n",
            "\t Val. Loss: 1.454 |  Val. PPL:   4.281\n",
            "Epoch: 94 | Time: 1m 3s\n",
            "\tTrain Loss: 1.002 | Train PPL:   2.723\n",
            "\t Val. Loss: 1.455 |  Val. PPL:   4.283\n",
            "Epoch: 95 | Time: 1m 3s\n",
            "\tTrain Loss: 0.991 | Train PPL:   2.695\n",
            "\t Val. Loss: 1.448 |  Val. PPL:   4.253\n",
            "Epoch: 96 | Time: 1m 3s\n",
            "\tTrain Loss: 0.986 | Train PPL:   2.680\n",
            "\t Val. Loss: 1.446 |  Val. PPL:   4.247\n",
            "Epoch: 97 | Time: 1m 3s\n",
            "\tTrain Loss: 0.979 | Train PPL:   2.663\n",
            "\t Val. Loss: 1.447 |  Val. PPL:   4.252\n",
            "Epoch: 98 | Time: 1m 4s\n",
            "\tTrain Loss: 0.971 | Train PPL:   2.640\n",
            "\t Val. Loss: 1.447 |  Val. PPL:   4.250\n",
            "Epoch: 99 | Time: 1m 4s\n",
            "\tTrain Loss: 0.969 | Train PPL:   2.635\n",
            "\t Val. Loss: 1.460 |  Val. PPL:   4.308\n",
            "Epoch: 100 | Time: 1m 4s\n",
            "\tTrain Loss: 0.961 | Train PPL:   2.614\n",
            "\t Val. Loss: 1.442 |  Val. PPL:   4.231\n"
          ],
          "name": "stdout"
        }
      ]
    },
    {
      "cell_type": "code",
      "metadata": {
        "id": "4pDCSWjyhKjn"
      },
      "source": [
        "\r\n",
        "import pickle\r\n",
        "\r\n",
        "with open(\"SRC_stio\",\"rb\") as f:\r\n",
        "  stoi = pickle.load(f)\r\n",
        "with open(\"TRG_itos\",\"rb\") as f:\r\n",
        "  itos = pickle.load(f)\r\n",
        "\r\n",
        "# Load model\r\n",
        "trained_model = 'char_wise_decoder_model.pt'\r\n",
        "model.load_state_dict(torch.load(trained_model));\r\n",
        "model.eval()"
      ],
      "execution_count": null,
      "outputs": []
    },
    {
      "cell_type": "code",
      "metadata": {
        "id": "o0X6MdGEhhU9"
      },
      "source": [
        "import spacy\r\n",
        "spacy_en = spacy.load('en')\r\n",
        "\r\n",
        "def encode_inputs(input,vocab):\r\n",
        "\r\n",
        "  tokenized_input = [tok.text.lower() for tok in spacy_en.tokenizer(input)]\r\n",
        "  tokenized_input = ['<sos>'] + tokenized_input +['<eos>']\r\n",
        "\r\n",
        "  numericalized_input = [vocab[i] for i in tokenized_input]\r\n",
        "\r\n",
        "  tensor_input = torch.LongTensor([numericalized_input])\r\n",
        "  \r\n",
        "  return tensor_input\r\n",
        "\r\n",
        "def decode_outputs(output,vocab):\r\n",
        "  # output: [1,1,hid_dim]\r\n",
        "  predicted_token = output.argmax(-1)\r\n",
        "  return vocab[predicted_token.item()], predicted_token"
      ],
      "execution_count": 42,
      "outputs": []
    },
    {
      "cell_type": "code",
      "metadata": {
        "colab": {
          "base_uri": "https://localhost:8080/"
        },
        "id": "8Ng3cU0Yh0Jd",
        "outputId": "ee2c2da4-975e-4cf5-98c4-5532c06f4c27"
      },
      "source": [
        "print(\" Enter q or quit to exit.\")\r\n",
        "\r\n",
        "answer_max_len = 600\r\n",
        "\r\n",
        "while(True):\r\n",
        "\r\n",
        "  input_ = input(\"Enter text:\")\r\n",
        "\r\n",
        "  if input_=='q' or input_=='quit':\r\n",
        "    break\r\n",
        "\r\n",
        "  src = encode_inputs(input_,stoi).to(device)\r\n",
        "  # src_mask = torch.ones([1,1,1,src.shape[-1]]).to(device)\r\n",
        "  src_mask = model.make_src_mask(src)\r\n",
        "\r\n",
        "  with torch.no_grad():\r\n",
        "    enc_src = model.encoder(src,src_mask)\r\n",
        "  \r\n",
        "  trg = '<sos>'\r\n",
        "  trg_indexes = [stoi[trg]]\r\n",
        "  # trg_mask = torch.ones([1,1,1,1]).to(device)\r\n",
        "\r\n",
        "  decoder_outputs = []\r\n",
        "  for i in range(chatbot_answer_max_len):\r\n",
        "    trg_tensor = torch.LongTensor(trg_indexes).unsqueeze(0).to(device)\r\n",
        "    trg_mask = model.make_trg_mask(trg_tensor)\r\n",
        "    \r\n",
        "    with torch.no_grad():\r\n",
        "      decoder_output,_ = model.decoder(trg_tensor,enc_src,trg_mask,src_mask)\r\n",
        "\r\n",
        "    pred_token = decoder_output.argmax(2)[:,-1].item()\r\n",
        "\r\n",
        "    if pred_token == TRG.vocab.stoi[TRG.eos_token]:\r\n",
        "      break\r\n",
        "    decoder_outputs.append(itos[pred_token])\r\n",
        "    trg_indexes.append(pred_token)\r\n",
        "\r\n",
        "    \r\n",
        "  print(\"\".join(decoder_outputs))"
      ],
      "execution_count": 49,
      "outputs": [
        {
          "output_type": "stream",
          "text": [
            " Enter q or quit to exit.\n",
            "Enter text:write a program to add two numbers\n",
            "num1=10\n",
            "num2=60\n",
            "num2=num1+num2\n",
            "print(num1,num2)\n",
            "\n",
            "Enter text:write a program to multiply two numbers\n",
            "num1=1.5\n",
            "num2=14\n",
            "print(num1,num2)\n",
            "\n",
            "Enter text:write a program to substract two numbers\n",
            "num1=10\n",
            "num2=6\n",
            "num2=num1.5\n",
            "print(num1,num2)\n",
            "\n",
            "Enter text:Write a Python function to calculate the geometric sum of n-1\n",
            "defsum_is(n):\n",
            "\tifn<=0:\n",
            "\t\treturn0\n",
            "else:\n",
            "\t\treturn((n-1)+(n-2)+1)\n",
            "\n",
            "Enter text:Write a Python function to find the greatest common divisor (gcd) of two integers\n",
            "defgcd(x,y):\n",
            "\tgcd=y\n",
            "gcd=1\n",
            "ifx%y==0:\n",
            "\t\t\treturnx\n",
            "returnx\n",
            "\n",
            "Enter text:q\n"
          ],
          "name": "stdout"
        }
      ]
    }
  ]
}
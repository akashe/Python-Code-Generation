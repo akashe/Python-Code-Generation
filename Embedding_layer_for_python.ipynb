{
  "nbformat": 4,
  "nbformat_minor": 0,
  "metadata": {
    "colab": {
      "name": "Embedding layer for python.ipynb",
      "provenance": [],
      "toc_visible": true,
      "authorship_tag": "ABX9TyM3xmkE0c1edQeEECt+lVFq",
      "include_colab_link": true
    },
    "kernelspec": {
      "name": "python3",
      "display_name": "Python 3"
    }
  },
  "cells": [
    {
      "cell_type": "markdown",
      "metadata": {
        "id": "view-in-github",
        "colab_type": "text"
      },
      "source": [
        "<a href=\"https://colab.research.google.com/github/akashe/Python-Code-Generation/blob/main/Embedding_layer_for_python.ipynb\" target=\"_parent\"><img src=\"https://colab.research.google.com/assets/colab-badge.svg\" alt=\"Open In Colab\"/></a>"
      ]
    },
    {
      "cell_type": "markdown",
      "metadata": {
        "id": "4i3K8hsZHUwc"
      },
      "source": [
        "#### Download dataset and analyze\r\n",
        "\r\n",
        "We will train a autoregressive langauge model to get python embeddings. \r\n",
        "\r\n",
        "The dataset is at http://www.phontron.com/download/conala-corpus-v1.1.zip\r\n",
        "\r\n",
        "We will do language model on the  conala-mined part of the dataset."
      ]
    },
    {
      "cell_type": "code",
      "metadata": {
        "colab": {
          "base_uri": "https://localhost:8080/"
        },
        "id": "ys2FqLooG_PZ",
        "outputId": "e21d2fe9-f1c2-4abf-b71e-27fdbec8661c"
      },
      "source": [
        "!wget -c http://www.phontron.com/download/conala-corpus-v1.1.zip"
      ],
      "execution_count": 1,
      "outputs": [
        {
          "output_type": "stream",
          "text": [
            "--2021-03-06 06:18:18--  http://www.phontron.com/download/conala-corpus-v1.1.zip\n",
            "Resolving www.phontron.com (www.phontron.com)... 208.113.196.149\n",
            "Connecting to www.phontron.com (www.phontron.com)|208.113.196.149|:80... connected.\n",
            "HTTP request sent, awaiting response... 200 OK\n",
            "Length: 52105440 (50M) [application/zip]\n",
            "Saving to: ‘conala-corpus-v1.1.zip’\n",
            "\n",
            "conala-corpus-v1.1. 100%[===================>]  49.69M  7.60MB/s    in 11s     \n",
            "\n",
            "2021-03-06 06:18:29 (4.57 MB/s) - ‘conala-corpus-v1.1.zip’ saved [52105440/52105440]\n",
            "\n"
          ],
          "name": "stdout"
        }
      ]
    },
    {
      "cell_type": "code",
      "metadata": {
        "colab": {
          "base_uri": "https://localhost:8080/"
        },
        "id": "WCmmZG18L_Vr",
        "outputId": "cef80101-e4ba-4e4e-b874-5e63c73403d4"
      },
      "source": [
        "!unzip conala-corpus-v1.1.zip"
      ],
      "execution_count": 2,
      "outputs": [
        {
          "output_type": "stream",
          "text": [
            "Archive:  conala-corpus-v1.1.zip\n",
            "   creating: conala-corpus/\n",
            "  inflating: conala-corpus/conala-mined.jsonl  \n",
            "  inflating: conala-corpus/conala-train.json  \n",
            "  inflating: conala-corpus/conala-test.json  \n"
          ],
          "name": "stdout"
        }
      ]
    },
    {
      "cell_type": "code",
      "metadata": {
        "colab": {
          "base_uri": "https://localhost:8080/"
        },
        "id": "jVPLer9GMIw8",
        "outputId": "68ebd814-4248-4858-aad1-c2f4a0c6273c"
      },
      "source": [
        "!head -1 conala-corpus/conala-mined.jsonl"
      ],
      "execution_count": 3,
      "outputs": [
        {
          "output_type": "stream",
          "text": [
            "{\"parent_answer_post_id\": 34705233, \"prob\": 0.8690001442846342, \"snippet\": \"sorted(l, key=lambda x: (-int(x[1]), x[0]))\", \"intent\": \"Sort a nested list by two elements\", \"id\": \"34705205_34705233_0\", \"question_id\": 34705205}\n"
          ],
          "name": "stdout"
        }
      ]
    }
  ]
}
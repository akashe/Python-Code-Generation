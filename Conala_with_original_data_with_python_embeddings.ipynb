{
  "nbformat": 4,
  "nbformat_minor": 0,
  "metadata": {
    "colab": {
      "name": "Conala with original data with python embeddings.ipynb",
      "provenance": [],
      "collapsed_sections": [],
      "authorship_tag": "ABX9TyM5ecHzvypds9fO/jpVgDCA",
      "include_colab_link": true
    },
    "kernelspec": {
      "name": "python3",
      "display_name": "Python 3"
    },
    "accelerator": "GPU"
  },
  "cells": [
    {
      "cell_type": "markdown",
      "metadata": {
        "id": "view-in-github",
        "colab_type": "text"
      },
      "source": [
        "<a href=\"https://colab.research.google.com/github/akashe/Python-Code-Generation/blob/main/Conala_with_original_data_with_python_embeddings.ipynb\" target=\"_parent\"><img src=\"https://colab.research.google.com/assets/colab-badge.svg\" alt=\"Open In Colab\"/></a>"
      ]
    },
    {
      "cell_type": "code",
      "metadata": {
        "colab": {
          "base_uri": "https://localhost:8080/"
        },
        "id": "FwZ6BsshCGZv",
        "outputId": "26a1c265-febe-47d9-aa46-0d3dc9a36108"
      },
      "source": [
        "!pip install rouge"
      ],
      "execution_count": 1,
      "outputs": [
        {
          "output_type": "stream",
          "text": [
            "Requirement already satisfied: rouge in /usr/local/lib/python3.7/dist-packages (1.0.0)\n",
            "Requirement already satisfied: six in /usr/local/lib/python3.7/dist-packages (from rouge) (1.15.0)\n"
          ],
          "name": "stdout"
        }
      ]
    },
    {
      "cell_type": "code",
      "metadata": {
        "id": "h3jYaF2NxaFI"
      },
      "source": [
        "import torch\n",
        "import torch.nn as nn\n",
        "import torch.optim as optim\n",
        "\n",
        "import torchtext\n",
        "from torchtext.legacy import data\n",
        "from torchtext.legacy.data import Field, BucketIterator\n",
        "\n",
        "import matplotlib.pyplot as plt\n",
        "import matplotlib.ticker as ticker\n",
        "\n",
        "import spacy\n",
        "import numpy as np\n",
        "\n",
        "import random\n",
        "import math\n",
        "import time\n",
        "import pickle\n",
        "import json\n",
        "import re\n",
        "\n",
        "from rouge import Rouge"
      ],
      "execution_count": 2,
      "outputs": []
    },
    {
      "cell_type": "code",
      "metadata": {
        "colab": {
          "base_uri": "https://localhost:8080/"
        },
        "id": "0OMTNG2PxhOq",
        "outputId": "1c84e97f-9713-4b29-8780-0cd3114aaa4a"
      },
      "source": [
        "! git clone https://github.com/akashe/Python-Code-Generation"
      ],
      "execution_count": 3,
      "outputs": [
        {
          "output_type": "stream",
          "text": [
            "fatal: destination path 'Python-Code-Generation' already exists and is not an empty directory.\n"
          ],
          "name": "stdout"
        }
      ]
    },
    {
      "cell_type": "code",
      "metadata": {
        "id": "rY-aGuxDxist"
      },
      "source": [
        "import sys\n",
        "sys.path.append(\"/content/Python-Code-Generation/\")"
      ],
      "execution_count": 4,
      "outputs": []
    },
    {
      "cell_type": "code",
      "metadata": {
        "id": "O9tutyvZxkrg"
      },
      "source": [
        "from data_processing import getTokenizer,getData"
      ],
      "execution_count": 5,
      "outputs": []
    },
    {
      "cell_type": "code",
      "metadata": {
        "colab": {
          "base_uri": "https://localhost:8080/"
        },
        "id": "cTvI-Pb_xl1m",
        "outputId": "ea1b0cf3-b8cb-4803-db3b-7b028293980b"
      },
      "source": [
        "!wget -c \"http://www.phontron.com/download/conala-corpus-v1.1.zip\""
      ],
      "execution_count": 6,
      "outputs": [
        {
          "output_type": "stream",
          "text": [
            "--2021-03-13 20:35:40--  http://www.phontron.com/download/conala-corpus-v1.1.zip\n",
            "Resolving www.phontron.com (www.phontron.com)... 208.113.196.149\n",
            "Connecting to www.phontron.com (www.phontron.com)|208.113.196.149|:80... connected.\n",
            "HTTP request sent, awaiting response... 416 Requested Range Not Satisfiable\n",
            "\n",
            "    The file is already fully retrieved; nothing to do.\n",
            "\n"
          ],
          "name": "stdout"
        }
      ]
    },
    {
      "cell_type": "code",
      "metadata": {
        "colab": {
          "base_uri": "https://localhost:8080/"
        },
        "id": "pvNkOb54xmQX",
        "outputId": "38ae7987-7b56-4988-8e97-f73280ba2ba7"
      },
      "source": [
        "!unzip -n conala-corpus-v1.1.zip"
      ],
      "execution_count": 7,
      "outputs": [
        {
          "output_type": "stream",
          "text": [
            "Archive:  conala-corpus-v1.1.zip\n"
          ],
          "name": "stdout"
        }
      ]
    },
    {
      "cell_type": "code",
      "metadata": {
        "colab": {
          "base_uri": "https://localhost:8080/"
        },
        "id": "En3A5BQWxn9P",
        "outputId": "696845fe-469b-4c57-cb43-4338c37555fb"
      },
      "source": [
        "!head -20 conala-corpus/conala-test.json"
      ],
      "execution_count": 8,
      "outputs": [
        {
          "output_type": "stream",
          "text": [
            "[\n",
            "  {\n",
            "    \"intent\": \"How can I send a signal from a python program?\",\n",
            "    \"rewritten_intent\": \"send a signal `signal.SIGUSR1` to the current process\",\n",
            "    \"snippet\": \"os.kill(os.getpid(), signal.SIGUSR1)\",\n",
            "    \"question_id\": 15080500\n",
            "  },\n",
            "  {\n",
            "    \"intent\": \"Decode Hex String in Python 3\",\n",
            "    \"rewritten_intent\": \"decode a hex string '4a4b4c' to UTF-8.\",\n",
            "    \"snippet\": \"bytes.fromhex('4a4b4c').decode('utf-8')\",\n",
            "    \"question_id\": 3283984\n",
            "  },\n",
            "  {\n",
            "    \"intent\": \"check if all elements in a list are identical\",\n",
            "    \"rewritten_intent\": \"check if all elements in list `myList` are identical\",\n",
            "    \"snippet\": \"all(x == myList[0] for x in myList)\",\n",
            "    \"question_id\": 3844801\n",
            "  },\n",
            "  {\n"
          ],
          "name": "stdout"
        }
      ]
    },
    {
      "cell_type": "code",
      "metadata": {
        "id": "zjinuEdDxr4n"
      },
      "source": [
        "questions, answers = [],[]"
      ],
      "execution_count": 9,
      "outputs": []
    },
    {
      "cell_type": "code",
      "metadata": {
        "id": "-PpIlzVNxtNI"
      },
      "source": [
        "# loading train json\n",
        "f = open(\"/content/conala-corpus/conala-train.json\",\"r\")\n",
        "train_file = json.load(f)\n",
        "f.close()"
      ],
      "execution_count": 10,
      "outputs": []
    },
    {
      "cell_type": "code",
      "metadata": {
        "id": "QriUuRU4xuiH"
      },
      "source": [
        "for num,i in enumerate(train_file):\n",
        "  if i['intent'] is not None:\n",
        "    questions.append(i['intent'])\n",
        "    answers.append(i['snippet'])"
      ],
      "execution_count": 11,
      "outputs": []
    },
    {
      "cell_type": "code",
      "metadata": {
        "id": "OK27P2rsxwNE"
      },
      "source": [
        "# loading train json\n",
        "f = open(\"/content/conala-corpus/conala-test.json\",\"r\")\n",
        "test_file = json.load(f)\n",
        "f.close()"
      ],
      "execution_count": 12,
      "outputs": []
    },
    {
      "cell_type": "code",
      "metadata": {
        "id": "WKWO3SymxxLB"
      },
      "source": [
        "for num,i in enumerate(test_file):\n",
        "  if i['intent'] is not None:\n",
        "    questions.append(i['intent'])\n",
        "    answers.append(i['snippet'])\n"
      ],
      "execution_count": 13,
      "outputs": []
    },
    {
      "cell_type": "code",
      "metadata": {
        "id": "oRJSvV_w9qiY"
      },
      "source": [
        "# questions[50:70],answers[50:70]"
      ],
      "execution_count": 14,
      "outputs": []
    },
    {
      "cell_type": "code",
      "metadata": {
        "id": "fq185vXoxyvq"
      },
      "source": [
        "questions_, answers_ = getData(\"/content/Python-Code-Generation/data/english_python_data_pruned.txt\")"
      ],
      "execution_count": 15,
      "outputs": []
    },
    {
      "cell_type": "code",
      "metadata": {
        "id": "6sLzaWVxxzMe"
      },
      "source": [
        "# Setting max word len\n",
        "max_word_len = 301"
      ],
      "execution_count": 16,
      "outputs": []
    },
    {
      "cell_type": "code",
      "metadata": {
        "colab": {
          "base_uri": "https://localhost:8080/"
        },
        "id": "j1xBUHYmx0mF",
        "outputId": "790bfdd8-1289-4f48-d29b-d1f9f5220472"
      },
      "source": [
        "# removing examples with len more than max_word_len\n",
        "# Only checking in original data because I checked in CONALA data and answers their dont exceed 301.\n",
        "pruned_questions = []\n",
        "pruned_answers = []\n",
        "for j,i in zip(questions_,answers_):\n",
        "  tokens = getTokenizer(i)\n",
        "  if not len(tokens) > max_word_len:\n",
        "    pruned_answers.append(i)\n",
        "    pruned_questions.append(j)\n",
        "\n",
        "print(len(pruned_answers))\n",
        "answers_ = pruned_answers\n",
        "questions_ = pruned_questions"
      ],
      "execution_count": 17,
      "outputs": [
        {
          "output_type": "stream",
          "text": [
            "Error in tokenization\n",
            "3061\n"
          ],
          "name": "stdout"
        }
      ]
    },
    {
      "cell_type": "code",
      "metadata": {
        "id": "t5sUoxQGx1-a"
      },
      "source": [
        "questions = questions + questions_\n",
        "answers = answers + answers_"
      ],
      "execution_count": 18,
      "outputs": []
    },
    {
      "cell_type": "code",
      "metadata": {
        "colab": {
          "base_uri": "https://localhost:8080/"
        },
        "id": "liZsYtBQx3U7",
        "outputId": "1f27f138-74b9-49ef-d724-b5cd9d64c62a"
      },
      "source": [
        "questions[100],answers[100]"
      ],
      "execution_count": 19,
      "outputs": [
        {
          "output_type": "execute_result",
          "data": {
            "text/plain": [
              "('Clicking a link using selenium using python',\n",
              " \"driver.find_element_by_xpath('xpath').click()\")"
            ]
          },
          "metadata": {
            "tags": []
          },
          "execution_count": 19
        }
      ]
    },
    {
      "cell_type": "code",
      "metadata": {
        "colab": {
          "base_uri": "https://localhost:8080/"
        },
        "id": "VB-Z3Yu-x4Yz",
        "outputId": "c62faae1-b8ad-46a8-85c8-d64b95da80df"
      },
      "source": [
        "print(len(questions),len(answers))"
      ],
      "execution_count": 20,
      "outputs": [
        {
          "output_type": "stream",
          "text": [
            "5940 5940\n"
          ],
          "name": "stdout"
        }
      ]
    },
    {
      "cell_type": "code",
      "metadata": {
        "id": "QHjZk5zxx5ik"
      },
      "source": [
        "SEED = 1327\n",
        "\n",
        "random.seed(SEED)\n",
        "np.random.seed(SEED)\n",
        "torch.manual_seed(SEED)\n",
        "torch.cuda.manual_seed(SEED)\n",
        "torch.backends.cudnn.deterministic = True"
      ],
      "execution_count": 21,
      "outputs": []
    },
    {
      "cell_type": "code",
      "metadata": {
        "colab": {
          "base_uri": "https://localhost:8080/"
        },
        "id": "iPECgzYox6xt",
        "outputId": "b71a44c5-8998-41b8-b34f-1484f58947b8"
      },
      "source": [
        "!python -m spacy download en"
      ],
      "execution_count": 22,
      "outputs": [
        {
          "output_type": "stream",
          "text": [
            "Requirement already satisfied: en_core_web_sm==2.2.5 from https://github.com/explosion/spacy-models/releases/download/en_core_web_sm-2.2.5/en_core_web_sm-2.2.5.tar.gz#egg=en_core_web_sm==2.2.5 in /usr/local/lib/python3.7/dist-packages (2.2.5)\n",
            "Requirement already satisfied: spacy>=2.2.2 in /usr/local/lib/python3.7/dist-packages (from en_core_web_sm==2.2.5) (2.2.4)\n",
            "Requirement already satisfied: numpy>=1.15.0 in /usr/local/lib/python3.7/dist-packages (from spacy>=2.2.2->en_core_web_sm==2.2.5) (1.19.5)\n",
            "Requirement already satisfied: plac<1.2.0,>=0.9.6 in /usr/local/lib/python3.7/dist-packages (from spacy>=2.2.2->en_core_web_sm==2.2.5) (1.1.3)\n",
            "Requirement already satisfied: cymem<2.1.0,>=2.0.2 in /usr/local/lib/python3.7/dist-packages (from spacy>=2.2.2->en_core_web_sm==2.2.5) (2.0.5)\n",
            "Requirement already satisfied: preshed<3.1.0,>=3.0.2 in /usr/local/lib/python3.7/dist-packages (from spacy>=2.2.2->en_core_web_sm==2.2.5) (3.0.5)\n",
            "Requirement already satisfied: wasabi<1.1.0,>=0.4.0 in /usr/local/lib/python3.7/dist-packages (from spacy>=2.2.2->en_core_web_sm==2.2.5) (0.8.2)\n",
            "Requirement already satisfied: murmurhash<1.1.0,>=0.28.0 in /usr/local/lib/python3.7/dist-packages (from spacy>=2.2.2->en_core_web_sm==2.2.5) (1.0.5)\n",
            "Requirement already satisfied: srsly<1.1.0,>=1.0.2 in /usr/local/lib/python3.7/dist-packages (from spacy>=2.2.2->en_core_web_sm==2.2.5) (1.0.5)\n",
            "Requirement already satisfied: requests<3.0.0,>=2.13.0 in /usr/local/lib/python3.7/dist-packages (from spacy>=2.2.2->en_core_web_sm==2.2.5) (2.23.0)\n",
            "Requirement already satisfied: blis<0.5.0,>=0.4.0 in /usr/local/lib/python3.7/dist-packages (from spacy>=2.2.2->en_core_web_sm==2.2.5) (0.4.1)\n",
            "Requirement already satisfied: catalogue<1.1.0,>=0.0.7 in /usr/local/lib/python3.7/dist-packages (from spacy>=2.2.2->en_core_web_sm==2.2.5) (1.0.0)\n",
            "Requirement already satisfied: setuptools in /usr/local/lib/python3.7/dist-packages (from spacy>=2.2.2->en_core_web_sm==2.2.5) (54.0.0)\n",
            "Requirement already satisfied: thinc==7.4.0 in /usr/local/lib/python3.7/dist-packages (from spacy>=2.2.2->en_core_web_sm==2.2.5) (7.4.0)\n",
            "Requirement already satisfied: tqdm<5.0.0,>=4.38.0 in /usr/local/lib/python3.7/dist-packages (from spacy>=2.2.2->en_core_web_sm==2.2.5) (4.41.1)\n",
            "Requirement already satisfied: chardet<4,>=3.0.2 in /usr/local/lib/python3.7/dist-packages (from requests<3.0.0,>=2.13.0->spacy>=2.2.2->en_core_web_sm==2.2.5) (3.0.4)\n",
            "Requirement already satisfied: urllib3!=1.25.0,!=1.25.1,<1.26,>=1.21.1 in /usr/local/lib/python3.7/dist-packages (from requests<3.0.0,>=2.13.0->spacy>=2.2.2->en_core_web_sm==2.2.5) (1.24.3)\n",
            "Requirement already satisfied: certifi>=2017.4.17 in /usr/local/lib/python3.7/dist-packages (from requests<3.0.0,>=2.13.0->spacy>=2.2.2->en_core_web_sm==2.2.5) (2020.12.5)\n",
            "Requirement already satisfied: idna<3,>=2.5 in /usr/local/lib/python3.7/dist-packages (from requests<3.0.0,>=2.13.0->spacy>=2.2.2->en_core_web_sm==2.2.5) (2.10)\n",
            "Requirement already satisfied: importlib-metadata>=0.20; python_version < \"3.8\" in /usr/local/lib/python3.7/dist-packages (from catalogue<1.1.0,>=0.0.7->spacy>=2.2.2->en_core_web_sm==2.2.5) (3.7.0)\n",
            "Requirement already satisfied: zipp>=0.5 in /usr/local/lib/python3.7/dist-packages (from importlib-metadata>=0.20; python_version < \"3.8\"->catalogue<1.1.0,>=0.0.7->spacy>=2.2.2->en_core_web_sm==2.2.5) (3.4.1)\n",
            "Requirement already satisfied: typing-extensions>=3.6.4; python_version < \"3.8\" in /usr/local/lib/python3.7/dist-packages (from importlib-metadata>=0.20; python_version < \"3.8\"->catalogue<1.1.0,>=0.0.7->spacy>=2.2.2->en_core_web_sm==2.2.5) (3.7.4.3)\n",
            "\u001b[38;5;2m✔ Download and installation successful\u001b[0m\n",
            "You can now load the model via spacy.load('en_core_web_sm')\n",
            "\u001b[38;5;2m✔ Linking successful\u001b[0m\n",
            "/usr/local/lib/python3.7/dist-packages/en_core_web_sm -->\n",
            "/usr/local/lib/python3.7/dist-packages/spacy/data/en\n",
            "You can now load the model via spacy.load('en')\n"
          ],
          "name": "stdout"
        }
      ]
    },
    {
      "cell_type": "code",
      "metadata": {
        "id": "0RKCvzMnx7_v"
      },
      "source": [
        "spacy_en = spacy.load('en')"
      ],
      "execution_count": 23,
      "outputs": []
    },
    {
      "cell_type": "code",
      "metadata": {
        "id": "5iT71I83x9FP"
      },
      "source": [
        "def tokenize_en(text):\n",
        "    \"\"\"\n",
        "    Tokenizes English text from a string into a list of strings\n",
        "    \"\"\"\n",
        "    return [tok.text for tok in spacy_en.tokenizer(text)]"
      ],
      "execution_count": 24,
      "outputs": []
    },
    {
      "cell_type": "code",
      "metadata": {
        "id": "BNLt9Bhfx-vp"
      },
      "source": [
        "SRC = Field(tokenize = tokenize_en, \n",
        "            init_token = '<sos>', \n",
        "            eos_token = '<eos>', \n",
        "            lower = True, \n",
        "            batch_first = True)\n",
        "\n",
        "TRG = Field(tokenize = getTokenizer, \n",
        "            init_token = '<sos>', \n",
        "            eos_token = '<eos>', \n",
        "            lower = False, \n",
        "            batch_first = True)"
      ],
      "execution_count": 25,
      "outputs": []
    },
    {
      "cell_type": "code",
      "metadata": {
        "colab": {
          "base_uri": "https://localhost:8080/"
        },
        "id": "q0dwLgsxx_Nl",
        "outputId": "69c23c69-89bc-4d38-906f-c467f10ffb38"
      },
      "source": [
        "fields = [('src', SRC), ('trg', TRG)]\n",
        "\n",
        "Examples = [data.Example.fromlist([i,j], fields) for i,j in zip(questions,answers)]\n",
        "Dataset = data.Dataset(Examples, fields)"
      ],
      "execution_count": 26,
      "outputs": [
        {
          "output_type": "stream",
          "text": [
            "Error in tokenization\n"
          ],
          "name": "stdout"
        }
      ]
    },
    {
      "cell_type": "code",
      "metadata": {
        "id": "bAX890DdyA6e"
      },
      "source": [
        "train_data,valid_data = Dataset.split(split_ratio=[0.90,0.10])"
      ],
      "execution_count": 27,
      "outputs": []
    },
    {
      "cell_type": "code",
      "metadata": {
        "id": "8jz4qsZPyBdw"
      },
      "source": [
        "SRC.build_vocab(train_data, min_freq = 1)\n",
        "TRG.build_vocab(train_data, min_freq = 1)"
      ],
      "execution_count": 28,
      "outputs": []
    },
    {
      "cell_type": "code",
      "metadata": {
        "colab": {
          "base_uri": "https://localhost:8080/"
        },
        "id": "-Fdl1V03yDlw",
        "outputId": "ea327362-8f2c-4fd1-b3c9-1d51d3c404de"
      },
      "source": [
        "print(len(SRC.vocab))\n",
        "print(len(TRG.vocab))"
      ],
      "execution_count": 29,
      "outputs": [
        {
          "output_type": "stream",
          "text": [
            "2882\n",
            "4567\n"
          ],
          "name": "stdout"
        }
      ]
    },
    {
      "cell_type": "code",
      "metadata": {
        "id": "bKq0T5zAyEsH"
      },
      "source": [
        "# Dumps dicts\n",
        "with open(\"/content/SRC_stio_local\",\"wb\") as f:\n",
        "  pickle.dump(SRC.vocab.stoi,f)\n",
        "with open(\"/content/TRG_itos_local\",\"wb\") as f:\n",
        "  pickle.dump(TRG.vocab.itos,f)"
      ],
      "execution_count": 30,
      "outputs": []
    },
    {
      "cell_type": "code",
      "metadata": {
        "colab": {
          "base_uri": "https://localhost:8080/"
        },
        "id": "AkRq2zvqyJCK",
        "outputId": "107987ed-35a8-4070-8048-001794271e9b"
      },
      "source": [
        "device = torch.device('cuda' if torch.cuda.is_available() else 'cpu')\n",
        "device"
      ],
      "execution_count": 31,
      "outputs": [
        {
          "output_type": "execute_result",
          "data": {
            "text/plain": [
              "device(type='cuda')"
            ]
          },
          "metadata": {
            "tags": []
          },
          "execution_count": 31
        }
      ]
    },
    {
      "cell_type": "code",
      "metadata": {
        "id": "JvDEFNU2yKph"
      },
      "source": [
        "BATCH_SIZE = 32\n",
        "\n",
        "train_iterator, valid_iterator = BucketIterator.splits(\n",
        "    (train_data, valid_data), \n",
        "     batch_size = BATCH_SIZE,\n",
        "     sort_key = lambda x: len(x.trg),\n",
        "     device = device)"
      ],
      "execution_count": 32,
      "outputs": []
    },
    {
      "cell_type": "code",
      "metadata": {
        "id": "fxfoYfe0yLIy"
      },
      "source": [
        "class PositionalEncodingComponent(nn.Module):\n",
        "  '''\n",
        "  Class to encode positional information to tokens.\n",
        "  \n",
        "\n",
        "  '''\n",
        "  def __init__(self,hid_dim,device,dropout=0.2,max_len=5000):\n",
        "    super().__init__()\n",
        "\n",
        "    assert hid_dim%2==0 # If not, it will result error in allocation to positional_encodings[:,1::2] later\n",
        "\n",
        "    self.dropout = nn.Dropout(dropout)\n",
        "\n",
        "    self.positional_encodings = torch.zeros(max_len,hid_dim)\n",
        "\n",
        "    pos = torch.arange(0,max_len).unsqueeze(1) # pos : [max_len,1]\n",
        "    div_term  = torch.exp(-torch.arange(0,hid_dim,2)*math.log(10000.0)/hid_dim) # Calculating value of 1/(10000^(2i/hid_dim)) in log space and then exponentiating it\n",
        "    # div_term: [hid_dim//2]\n",
        "\n",
        "    self.positional_encodings[:,0::2] = torch.sin(pos*div_term) # pos*div_term [max_len,hid_dim//2]\n",
        "    self.positional_encodings[:,1::2] = torch.cos(pos*div_term) \n",
        "\n",
        "    self.positional_encodings = self.positional_encodings.unsqueeze(0) # To account for batch_size in inputs\n",
        "\n",
        "    self.device = device\n",
        "\n",
        "  def forward(self,x):\n",
        "    x = x + self.positional_encodings[:,:x.size(1)].detach().to(self.device)\n",
        "    return self.dropout(x)"
      ],
      "execution_count": 33,
      "outputs": []
    },
    {
      "cell_type": "code",
      "metadata": {
        "id": "2ZoZTEBayMS7"
      },
      "source": [
        "class FeedForwardComponent(nn.Module):\n",
        "  '''\n",
        "  Class for pointwise feed forward connections\n",
        "  '''\n",
        "  def __init__(self,hid_dim,pf_dim,dropout):\n",
        "    super().__init__()\n",
        "\n",
        "    self.dropout = nn.Dropout(dropout)\n",
        "\n",
        "    self.fc1 = nn.Linear(hid_dim,pf_dim)\n",
        "    self.fc2 = nn.Linear(pf_dim,hid_dim)\n",
        "\n",
        "  def forward(self,x):\n",
        "\n",
        "    # x : [batch_size,seq_len,hid_dim]\n",
        "    x = self.dropout(torch.relu(self.fc1(x)))\n",
        "\n",
        "    # x : [batch_size,seq_len,pf_dim]\n",
        "    x = self.fc2(x)\n",
        "\n",
        "    # x : [batch_size,seq_len,hid_dim]\n",
        "    return x"
      ],
      "execution_count": 34,
      "outputs": []
    },
    {
      "cell_type": "code",
      "metadata": {
        "id": "cE3EQX0dyNns"
      },
      "source": [
        "class MultiHeadedAttentionComponent(nn.Module):\n",
        "  '''\n",
        "  Multiheaded attention Component. This implementation also supports mask. \n",
        "  The reason for mask that in Decoder, we don't want attention mechanism to get\n",
        "  important information from future tokens.\n",
        "  '''\n",
        "  def __init__(self,hid_dim, n_heads, dropout, device):\n",
        "    super().__init__()\n",
        "\n",
        "    assert hid_dim % n_heads == 0 # Since we split hid_dims into n_heads\n",
        "\n",
        "    self.hid_dim = hid_dim\n",
        "    self.n_heads = n_heads # no of heads in 'multiheaded' attention\n",
        "    self.head_dim = hid_dim//n_heads # dims of each head\n",
        "\n",
        "    # Transformation from source vector to query vector\n",
        "    self.fc_q = nn.Linear(hid_dim,hid_dim)\n",
        "\n",
        "    # Transformation from source vector to key vector\n",
        "    self.fc_k = nn.Linear(hid_dim,hid_dim)\n",
        "\n",
        "    # Transformation from source vector to value vector\n",
        "    self.fc_v = nn.Linear(hid_dim,hid_dim)\n",
        "\n",
        "    self.fc_o = nn.Linear(hid_dim,hid_dim)\n",
        "\n",
        "    self.dropout = nn.Dropout(dropout)\n",
        "\n",
        "    # Used in self attention for smoother gradients\n",
        "    self.scale = torch.sqrt(torch.FloatTensor([self.head_dim])).to(device)\n",
        "\n",
        "  def forward(self,query,key,value,mask=None):\n",
        "\n",
        "    #query : [batch_size, query_len, hid_dim]\n",
        "    #key : [batch_size, key_len, hid_dim]\n",
        "    #value : [batch_size, value_len, hid_dim]\n",
        "\n",
        "    batch_size = query.shape[0]\n",
        "\n",
        "    # Transforming quey,key,values\n",
        "    Q = self.fc_q(query)\n",
        "    K = self.fc_k(key)\n",
        "    V = self.fc_v(value)\n",
        "\n",
        "    #Q : [batch_size, query_len, hid_dim]\n",
        "    #K : [batch_size, key_len, hid_dim]\n",
        "    #V : [batch_size, value_len,hid_dim]\n",
        "\n",
        "    # Changing shapes to acocmadate n_heads information\n",
        "    Q = Q.view(batch_size, -1, self.n_heads, self.head_dim).permute(0, 2, 1, 3)\n",
        "    K = K.view(batch_size, -1, self.n_heads, self.head_dim).permute(0, 2, 1, 3)\n",
        "    V = V.view(batch_size, -1, self.n_heads, self.head_dim).permute(0, 2, 1, 3)\n",
        "\n",
        "    #Q : [batch_size, n_heads, query_len, head_dim]\n",
        "    #K : [batch_size, n_heads, key_len, head_dim]\n",
        "    #V : [batch_size, n_heads, value_len, head_dim]\n",
        "\n",
        "    # Calculating alpha\n",
        "    score = torch.matmul(Q,K.permute(0,1,3,2))/self.scale\n",
        "    # score : [batch_size, n_heads, query_len, key_len]\n",
        "\n",
        "    if mask is not None:\n",
        "      score = score.masked_fill(mask==0,-1e10)\n",
        "\n",
        "    alpha = torch.softmax(score,dim=-1)\n",
        "    # alpha : [batch_size, n_heads, query_len, key_len]\n",
        "\n",
        "    # Get the final self-attention  vector\n",
        "    x = torch.matmul(self.dropout(alpha),V)\n",
        "    # x : [batch_size, n_heads, query_len, head_dim]\n",
        "\n",
        "    # Reshaping self attention vector to concatenate\n",
        "    x = x.permute(0,2,1,3).contiguous()\n",
        "    # x : [batch_size, query_len, n_heads, head_dim]\n",
        "\n",
        "    x = x.view(batch_size,-1,self.hid_dim)\n",
        "    # x: [batch_size, query_len, hid_dim]\n",
        "\n",
        "    # Transforming concatenated outputs \n",
        "    x = self.fc_o(x)\n",
        "    #x : [batch_size, query_len, hid_dim] \n",
        "\n",
        "    return x, alpha"
      ],
      "execution_count": 35,
      "outputs": []
    },
    {
      "cell_type": "code",
      "metadata": {
        "id": "x0o8hEs2yOvl"
      },
      "source": [
        "class EncoderLayer(nn.Module):  \n",
        "  '''\n",
        "  Operations of a single layer in an Encoder. An Encoder employs multiple such layers. Each layer contains:\n",
        "  1) multihead attention, folllowed by\n",
        "  2) LayerNorm of addition of multihead attention output and input to the layer, followed by\n",
        "  3) FeedForward connections, followed by\n",
        "  4) LayerNorm of addition of FeedForward outputs and output of previous layerNorm.\n",
        "  '''\n",
        "  def __init__(self, hid_dim,n_heads,pf_dim,dropout,device):\n",
        "    super().__init__()\n",
        "    \n",
        "    self.self_attn_layer_norm = nn. LayerNorm(hid_dim) #Layer norm after self-attention\n",
        "    self.ff_layer_norm = nn.LayerNorm(hid_dim) # Layer norm after FeedForward component\n",
        "\n",
        "    self.self_attention = MultiHeadedAttentionComponent(hid_dim,n_heads,dropout,device)\n",
        "    self.feed_forward = FeedForwardComponent(hid_dim,pf_dim,dropout)\n",
        "\n",
        "    self.dropout = nn.Dropout(dropout)\n",
        "    \n",
        "  def forward(self,src,src_mask):\n",
        "    \n",
        "    # src : [batch_size, src_len, hid_dim]\n",
        "    # src_mask : [batch_size, 1, 1, src_len]\n",
        "\n",
        "    # get self-attention\n",
        "    _src, _ = self.self_attention(src,src,src,src_mask)\n",
        "\n",
        "    # LayerNorm after dropout\n",
        "    src = self.self_attn_layer_norm(src + self.dropout(_src))\n",
        "    # src : [batch_size, src_len, hid_dim]\n",
        "\n",
        "    # FeedForward\n",
        "    _src = self.feed_forward(src)\n",
        "\n",
        "    # layerNorm after dropout\n",
        "    src = self.ff_layer_norm(src + self.dropout(_src))\n",
        "    # src: [batch_size, src_len, hid_dim]\n",
        "\n",
        "    return src"
      ],
      "execution_count": 36,
      "outputs": []
    },
    {
      "cell_type": "code",
      "metadata": {
        "id": "8USmzaqwyP58"
      },
      "source": [
        "class DecoderLayer(nn.Module):\n",
        "  '''\n",
        "  Operations of a single layer in an Decoder. An Decoder employs multiple such layers. Each layer contains:\n",
        "  1) masked decoder self attention, followed by\n",
        "  2) LayerNorm of addition of previous attention output and input to the layer,, followed by\n",
        "  3) encoder self attention, followed by\n",
        "  4) LayerNorm of addition of result of encoder self attention and its input, followed by\n",
        "  5) FeedForward connections, followed by\n",
        "  6) LayerNorm of addition of Feedforward results and its input.\n",
        "  '''\n",
        "  def __init__(self,hid_dim,n_heads,pf_dim,dropout,device):\n",
        "    super().__init__()\n",
        "\n",
        "    self.self_attn_layer_norm = nn.LayerNorm(hid_dim)\n",
        "    self.enc_attn_layer_norm = nn.LayerNorm(hid_dim)\n",
        "    self.ff_layer_norm = nn.LayerNorm(hid_dim)\n",
        "\n",
        "    # decoder self attention\n",
        "    self.self_attention = MultiHeadedAttentionComponent(hid_dim,n_heads,dropout,device)\n",
        "\n",
        "    # encoder attention\n",
        "    self.encoder_attention = MultiHeadedAttentionComponent(hid_dim,n_heads,dropout,device)\n",
        "\n",
        "    # FeedForward\n",
        "    self.feed_forward = FeedForwardComponent(hid_dim,pf_dim,dropout)\n",
        "\n",
        "    self.dropout = nn.Dropout(dropout)\n",
        "\n",
        "  def forward(self,trg, enc_src,trg_mask,src_mask):\n",
        "\n",
        "    #trg : [batch_size, trg_len, hid_dim]\n",
        "    #enc_src : [batch_size, src_len, hid_dim]\n",
        "    #trg_mask : [batch_size, 1, trg_len, trg_len]\n",
        "    #src_mask : [batch_size, 1, 1, src_len]\n",
        "\n",
        "    '''\n",
        "    Decoder self-attention\n",
        "    trg_mask is to force decoder to look only into past tokens and not get information from future tokens.\n",
        "    Since we apply mask before doing softmax, the final self attention vector gets no information from future tokens.\n",
        "    '''\n",
        "    _trg, _ = self.self_attention(trg,trg,trg,trg_mask)\n",
        "\n",
        "    # LayerNorm and dropout with resdiual connection\n",
        "    trg = self.self_attn_layer_norm(trg + self.dropout(_trg))\n",
        "    # trg : [batch_size, trg_len, hid_dim]\n",
        "\n",
        "    '''\n",
        "    Encoder attention:\n",
        "    Query: trg\n",
        "    key: enc_src\n",
        "    Value : enc_src\n",
        "    Why? \n",
        "    the idea here is to extract information from encoder outputs. So we use decoder self-attention as a query to find important values from enc_src\n",
        "    and that is why we use src_mask, to avoid getting information from enc_src positions where it is equal to pad-id\n",
        "    After we get necessary infromation from encoder outputs we add them back to decoder self-attention.\n",
        "    '''\n",
        "    _trg, encoder_attn_alpha = self.encoder_attention(trg,enc_src,enc_src,src_mask)\n",
        "\n",
        "        # LayerNorm , residual connection and dropout\n",
        "    trg = self.enc_attn_layer_norm(trg + self.dropout(_trg))\n",
        "    # trg : [ batch_size, trg_len, hid_dim]\n",
        "\n",
        "    # Feed Forward\n",
        "    _trg = self.feed_forward(trg)\n",
        "\n",
        "    # LayerNorm, residual connection and dropout\n",
        "    trg = self.ff_layer_norm(trg + self.dropout(_trg))\n",
        "\n",
        "    return trg, encoder_attn_alpha"
      ],
      "execution_count": 37,
      "outputs": []
    },
    {
      "cell_type": "code",
      "metadata": {
        "id": "2PoUKoRiyRIV"
      },
      "source": [
        "class Encoder(nn.Module):\n",
        "  '''\n",
        "  An encoder, creates token embeddings and position embeddings and passes them through multiple encoder layers\n",
        "  '''\n",
        "  def __init__(self,input_dim,hid_dim,n_layers,n_heads,pf_dim,dropout,device,max_length = 5000):\n",
        "    super().__init__()\n",
        "    self.device = device\n",
        "\n",
        "    self.tok_embedding = nn.Embedding(input_dim,hid_dim)\n",
        "    self.pos_embedding = PositionalEncodingComponent(hid_dim,device,dropout,max_length)\n",
        "\n",
        "    # encoder layers\n",
        "    self.layers = nn.ModuleList([EncoderLayer(hid_dim,n_heads,pf_dim,dropout,device) for _ in range(n_layers)])\n",
        "\n",
        "    self.dropout = nn.Dropout(dropout)\n",
        "\n",
        "    self.scale = torch.sqrt(torch.FloatTensor([hid_dim])).to(device)\n",
        "\n",
        "  def forward(self,src,src_mask):\n",
        "\n",
        "    # src : [batch_size, src_len]\n",
        "    # src_mask : [batch_size,1,1,src_len]\n",
        "\n",
        "    batch_size = src.shape[0]\n",
        "    src_len = src.shape[1]\n",
        "\n",
        "    tok_embeddings = self.tok_embedding(src)*self.scale\n",
        "\n",
        "    # token plus position embeddings\n",
        "    src  = self.pos_embedding(tok_embeddings)\n",
        "\n",
        "    for layer in self.layers:\n",
        "      src = layer(src,src_mask)\n",
        "    # src : [batch_size, src_len, hid_dim]\n",
        "\n",
        "    return src"
      ],
      "execution_count": 38,
      "outputs": []
    },
    {
      "cell_type": "code",
      "metadata": {
        "id": "70Bg3YGPySQ4"
      },
      "source": [
        "class Decoder(nn.Module):\n",
        "  '''\n",
        "  An decoder, creates token embeddings and position embeddings and passes them through multiple decoder layers\n",
        "  '''\n",
        "  def __init__(self,output_dim,hid_dim,n_layers,n_heads,pf_dim,dropout,device,max_length= 5000):\n",
        "    super().__init__()\n",
        "\n",
        "    self.device = device\n",
        "\n",
        "    self.tok_embedding = nn.Embedding(output_dim,hid_dim)\n",
        "    self.pos_embedding = PositionalEncodingComponent(hid_dim,device,dropout,max_length)\n",
        "\n",
        "    # decoder layers\n",
        "    self.layers = nn.ModuleList([DecoderLayer(hid_dim,n_heads,pf_dim,dropout,device) for _ in range(n_layers)])\n",
        "\n",
        "    # convert decoder outputs to real outputs\n",
        "    self.fc_out = nn.Linear(hid_dim,output_dim)\n",
        "\n",
        "    self.dropout = nn.Dropout(dropout)\n",
        "\n",
        "    self.scale = torch.sqrt(torch.FloatTensor([hid_dim])).to(device)\n",
        "\n",
        "  def forward(self, trg, enc_src,trg_mask,src_mask):\n",
        "    \n",
        "    #trg : [batch_size, trg_len]\n",
        "    #enc_src : [batch_size, src_len, hid_dim]\n",
        "    #trg_mask : [batch_size, 1, trg_len, trg_len]\n",
        "    #src_mask : [batch_size, 1, 1, src_len]\n",
        "\n",
        "    batch_size = trg.shape[0]\n",
        "    trg_len = trg.shape[1]\n",
        "\n",
        "    tok_embeddings = self.tok_embedding(trg)*self.scale\n",
        "\n",
        "    # token plus pos embeddings\n",
        "    trg = self.pos_embedding(tok_embeddings)\n",
        "    # trg : [batch_size, trg_len, hid_dim]\n",
        "\n",
        "    # Pass trg thorugh decoder layers\n",
        "    for layer in self.layers:\n",
        "      trg, encoder_attention = layer(trg,enc_src,trg_mask,src_mask)\n",
        "    \n",
        "    # trg : [batch_size,trg_len,hid_dim]\n",
        "    # encoder_attention :  [batch_size, n_head,trg_len, src_len]\n",
        "\n",
        "    # Convert to outputs\n",
        "    output = self.fc_out(trg)\n",
        "    # output : [batch_size, trg_len, output_dim]\n",
        "    \n",
        "    return output, encoder_attention"
      ],
      "execution_count": 39,
      "outputs": []
    },
    {
      "cell_type": "code",
      "metadata": {
        "id": "uXzefNw-yTer"
      },
      "source": [
        "\n",
        "class Seq2Seq(nn.Module):\n",
        "  def __init__(self, encoder, decoder, src_pad_idx, trg_pad_idx, device):\n",
        "    super().__init__()\n",
        "    self.encoder = encoder\n",
        "    self.decoder = decoder\n",
        "    self.src_pad_idx = src_pad_idx\n",
        "    self.trg_pad_idx = trg_pad_idx\n",
        "    self.device = device\n",
        "\n",
        "  def make_src_mask(self,src):\n",
        "    # src : [batch_size, src_len]\n",
        "\n",
        "    # Masking pad values\n",
        "    src_mask = (src != self.src_pad_idx).unsqueeze(1).unsqueeze(2)\n",
        "    # src_mask : [batch_size,1,1,src_len]\n",
        "\n",
        "    return src_mask\n",
        "\n",
        "  def make_trg_mask(self,trg):\n",
        "    # trg : [batch_size, trg_len]\n",
        "\n",
        "    # Masking pad values\n",
        "    trg_pad_mask = (trg != self.trg_pad_idx).unsqueeze(1).unsqueeze(2)\n",
        "    # trg_pad_mask : [batch_size,1,1, trg_len]\n",
        "\n",
        "    # Masking future values\n",
        "    trg_len = trg.shape[1]\n",
        "    trg_sub_mask = torch.tril(torch.ones((trg_len,trg_len),device= self.device)).bool()\n",
        "    # trg_sub_mask : [trg_len, trg_len]\n",
        "\n",
        "    # combine both masks\n",
        "    trg_mask = trg_pad_mask & trg_sub_mask\n",
        "    # trg_mask = [batch_size,1,trg_len,trg_len]\n",
        "\n",
        "    return trg_mask\n",
        "\n",
        "  def forward(self,src,trg):\n",
        "\n",
        "    # src : [batch_size, src_len]\n",
        "    # trg : [batch_size, trg_len]\n",
        "\n",
        "    src_mask = self.make_src_mask(src)\n",
        "    trg_mask = self.make_trg_mask(trg)\n",
        "\n",
        "    # src_mask : [ batch_size, 1,1,src_len]\n",
        "    # trg_mask : [batch_size, 1, trg_len, trg_len]\n",
        "\n",
        "    enc_src = self.encoder(src,src_mask)\n",
        "    #enc_src : [batch_size, src_len, hid_dim]\n",
        "\n",
        "    output, encoder_decoder_attention = self.decoder(trg,enc_src,trg_mask,src_mask)\n",
        "    # output : [batch_size, trg_len, output_dim]\n",
        "    # encoder_decoder_attention : [batch_size, n_heads, trg_len, src_len]\n",
        "\n",
        "    return output, encoder_decoder_attention"
      ],
      "execution_count": 40,
      "outputs": []
    },
    {
      "cell_type": "code",
      "metadata": {
        "id": "PmQttitayUp2"
      },
      "source": [
        "INPUT_DIM = len(SRC.vocab)\n",
        "OUTPUT_DIM = len(TRG.vocab)\n",
        "HID_DIM = 256\n",
        "ENC_LAYERS = 3\n",
        "DEC_LAYERS = 3\n",
        "ENC_HEADS = 8\n",
        "DEC_HEADS = 8\n",
        "ENC_PF_DIM = 512\n",
        "DEC_PF_DIM = 512\n",
        "ENC_DROPOUT = 0.1\n",
        "DEC_DROPOUT = 0.1\n",
        "\n",
        "enc = Encoder(INPUT_DIM, \n",
        "              HID_DIM, \n",
        "              ENC_LAYERS, \n",
        "              ENC_HEADS, \n",
        "              ENC_PF_DIM, \n",
        "              ENC_DROPOUT, \n",
        "              device)\n",
        "\n",
        "dec = Decoder(OUTPUT_DIM, \n",
        "              HID_DIM, \n",
        "              DEC_LAYERS, \n",
        "              DEC_HEADS, \n",
        "              DEC_PF_DIM, \n",
        "              DEC_DROPOUT, \n",
        "              device)\n",
        "\n",
        "SRC_PAD_IDX = SRC.vocab.stoi[SRC.pad_token]\n",
        "TRG_PAD_IDX = TRG.vocab.stoi[TRG.pad_token]\n",
        "\n",
        "model = Seq2Seq(enc, dec, SRC_PAD_IDX, TRG_PAD_IDX, device).to(device)"
      ],
      "execution_count": 41,
      "outputs": []
    },
    {
      "cell_type": "code",
      "metadata": {
        "id": "fNZkpmLryVx7"
      },
      "source": [
        "def initialize_weights(m):\n",
        "    if hasattr(m, 'weight') and m.weight.dim() > 1:\n",
        "        nn.init.xavier_uniform_(m.weight.data)\n",
        "\n",
        "model.apply(initialize_weights);"
      ],
      "execution_count": 42,
      "outputs": []
    },
    {
      "cell_type": "code",
      "metadata": {
        "colab": {
          "base_uri": "https://localhost:8080/"
        },
        "id": "TM4dSNbF3U4j",
        "outputId": "353016a6-334c-42e0-849f-f973599ad465"
      },
      "source": [
        "model.decoder.tok_embedding"
      ],
      "execution_count": 43,
      "outputs": [
        {
          "output_type": "execute_result",
          "data": {
            "text/plain": [
              "Embedding(4567, 256)"
            ]
          },
          "metadata": {
            "tags": []
          },
          "execution_count": 43
        }
      ]
    },
    {
      "cell_type": "code",
      "metadata": {
        "colab": {
          "base_uri": "https://localhost:8080/"
        },
        "id": "lD4oJ-ch4GQi",
        "outputId": "7bb9912e-1a3b-49ec-8883-645da93ba879"
      },
      "source": [
        "# load python embedding weights\n",
        "pretrained_embeddings = torch.load('/content/Python-Code-Generation/data/python_embedding_weigts.pt')\n",
        "pretrained_embeddings"
      ],
      "execution_count": 44,
      "outputs": [
        {
          "output_type": "execute_result",
          "data": {
            "text/plain": [
              "Embedding(15018, 256)"
            ]
          },
          "metadata": {
            "tags": []
          },
          "execution_count": 44
        }
      ]
    },
    {
      "cell_type": "code",
      "metadata": {
        "id": "zlA3wWgrz2TY"
      },
      "source": [
        "# Loading pretrained embeddings\n",
        "\n",
        "with open(\"/content/Python-Code-Generation/data/TRG_stio\",\"rb\") as f:\n",
        "  stoi_weights = pickle.load(f)\n",
        "\n",
        "with torch.no_grad():\n",
        "  indexes = []\n",
        "  for i,j in enumerate(TRG.vocab.stoi):\n",
        "    if j in stoi_weights:\n",
        "      model.decoder.tok_embedding.weight[TRG.vocab.stoi[j]] = pretrained_embeddings.weight[stoi_weights[j]]\n",
        "    else:\n",
        "      model.decoder.tok_embedding.weight[TRG.vocab.stoi[j]] = pretrained_embeddings.weight[stoi_weights['<unk>']]\n",
        "\n"
      ],
      "execution_count": 45,
      "outputs": []
    },
    {
      "cell_type": "code",
      "metadata": {
        "colab": {
          "base_uri": "https://localhost:8080/"
        },
        "id": "IuLULqqFyXDk",
        "outputId": "ce711fb7-9a7e-478d-f19d-77323289ee55"
      },
      "source": [
        "def count_parameters(model):\n",
        "    return sum(p.numel() for p in model.parameters() if p.requires_grad)\n",
        "\n",
        "print(f'The model has {count_parameters(model):,} trainable parameters')"
      ],
      "execution_count": 46,
      "outputs": [
        {
          "output_type": "stream",
          "text": [
            "The model has 7,034,327 trainable parameters\n"
          ],
          "name": "stdout"
        }
      ]
    },
    {
      "cell_type": "code",
      "metadata": {
        "id": "tccCxPXjyYKO"
      },
      "source": [
        "LEARNING_RATE = 0.0001\n",
        "\n",
        "optimizer = torch.optim.Adam(model.parameters(), lr = LEARNING_RATE)\n",
        "\n",
        "criterion = nn.CrossEntropyLoss(ignore_index = TRG_PAD_IDX)"
      ],
      "execution_count": 47,
      "outputs": []
    },
    {
      "cell_type": "code",
      "metadata": {
        "id": "4r3UAlYGEQnc"
      },
      "source": [
        "def get_rouge_score(output,trg,vocab=TRG.vocab.itos):\n",
        "  rouge = Rouge()\n",
        "  rouge_score = 0\n",
        "  argmax_outputs = output.argmax(2)\n",
        "  assert argmax_outputs.shape == trg.shape\n",
        "  with torch.no_grad():\n",
        "    for i,row in enumerate(argmax_outputs):\n",
        "      output_sentence = []\n",
        "      trg_sentence = []\n",
        "      for j,column in enumerate(row):\n",
        "        output_sentence.append(vocab[argmax_outputs[i][j]])\n",
        "        trg_sentence.append(vocab[trg[i][j]])\n",
        "      output_sentence = \"\".join(output_sentence)\n",
        "      trg_sentence = \"\".join(trg_sentence)\n",
        "\n",
        "      rouge_score += rouge.get_scores(output_sentence, trg_sentence)[0][\"rouge-l\"][\"f\"]\n",
        "\n",
        "  return rouge_score/len(output)\n"
      ],
      "execution_count": 48,
      "outputs": []
    },
    {
      "cell_type": "code",
      "metadata": {
        "id": "7VGzrP2-yeg_"
      },
      "source": [
        "def train(model, iterator, optimizer, criterion, clip):\n",
        "    \n",
        "    model.train()\n",
        "    \n",
        "    epoch_loss = 0\n",
        "    \n",
        "    for i, batch in enumerate(iterator):\n",
        "        \n",
        "        src = batch.src\n",
        "        trg = batch.trg\n",
        "        \n",
        "        optimizer.zero_grad()\n",
        "        \n",
        "        output, _ = model(src, trg[:,:-1])\n",
        "                \n",
        "        #output = [batch size, trg len - 1, output dim]\n",
        "        #trg = [batch size, trg len]\n",
        "            \n",
        "        output_dim = output.shape[-1]\n",
        "            \n",
        "        output = output.contiguous().view(-1, output_dim)\n",
        "        trg = trg[:,1:].contiguous().view(-1)\n",
        "                \n",
        "        #output = [batch size * trg len - 1, output dim]\n",
        "        #trg = [batch size * trg len - 1]\n",
        "            \n",
        "        loss = criterion(output, trg)\n",
        "        \n",
        "        loss.backward()\n",
        "\n",
        "        torch.nn.utils.clip_grad_norm_(model.parameters(), clip)\n",
        "        \n",
        "        optimizer.step()\n",
        "        \n",
        "        epoch_loss += loss.item()\n",
        "        \n",
        "    return epoch_loss / len(iterator)"
      ],
      "execution_count": 49,
      "outputs": []
    },
    {
      "cell_type": "code",
      "metadata": {
        "id": "X-zlXEgDyfk0"
      },
      "source": [
        "def evaluate(model, iterator, criterion):\n",
        "    \n",
        "    model.eval()\n",
        "    \n",
        "    epoch_loss = 0\n",
        "\n",
        "    epoch_rouge = 0\n",
        "    \n",
        "    with torch.no_grad():\n",
        "    \n",
        "        for i, batch in enumerate(iterator):\n",
        "\n",
        "            src = batch.src\n",
        "            trg = batch.trg\n",
        "\n",
        "            output, _ = model(src, trg[:,:-1])\n",
        "            \n",
        "            #output = [batch size, trg len - 1, output dim]\n",
        "            #trg = [batch size, trg len]\n",
        "\n",
        "            rouge_score = get_rouge_score(output, trg[:,1:])\n",
        "\n",
        "            epoch_rouge += rouge_score\n",
        "            \n",
        "            output_dim = output.shape[-1]\n",
        "            \n",
        "            output = output.contiguous().view(-1, output_dim)\n",
        "            trg = trg[:,1:].contiguous().view(-1)\n",
        "            \n",
        "            #output = [batch size * trg len - 1, output dim]\n",
        "            #trg = [batch size * trg len - 1]\n",
        "            \n",
        "            loss = criterion(output, trg)\n",
        "\n",
        "            epoch_loss += loss.item()\n",
        "\n",
        "        \n",
        "    return epoch_loss / len(iterator) , epoch_rouge / len(iterator)"
      ],
      "execution_count": 50,
      "outputs": []
    },
    {
      "cell_type": "code",
      "metadata": {
        "id": "AiwOdJ9dygp0"
      },
      "source": [
        "def epoch_time(start_time, end_time):\n",
        "    elapsed_time = end_time - start_time\n",
        "    elapsed_mins = int(elapsed_time / 60)\n",
        "    elapsed_secs = int(elapsed_time - (elapsed_mins * 60))\n",
        "    return elapsed_mins, elapsed_secs"
      ],
      "execution_count": 51,
      "outputs": []
    },
    {
      "cell_type": "code",
      "metadata": {
        "colab": {
          "base_uri": "https://localhost:8080/"
        },
        "id": "BWMHus2iyhwz",
        "outputId": "3ef976fe-18da-4fc2-ac27-5d90e011b5e9"
      },
      "source": [
        "N_EPOCHS = 150\n",
        "CLIP = 1\n",
        "\n",
        "best_valid_loss = float('inf')\n",
        "best_train_loss = float('inf')\n",
        "\n",
        "for epoch in range(N_EPOCHS):\n",
        "    \n",
        "    start_time = time.time()\n",
        "    \n",
        "    train_loss = train(model, train_iterator, optimizer, criterion, CLIP)\n",
        "    valid_loss, rouge_score = evaluate(model, valid_iterator, criterion)\n",
        "    \n",
        "    end_time = time.time()\n",
        "    \n",
        "    epoch_mins, epoch_secs = epoch_time(start_time, end_time)\n",
        "    \n",
        "    if valid_loss < best_valid_loss:\n",
        "        best_valid_loss = valid_loss\n",
        "        torch.save(model.state_dict(), 'conala_plus_original_data.pt')\n",
        "    \n",
        "    if train_loss < best_train_loss:\n",
        "        best_train_loss = train_loss\n",
        "        torch.save(model.state_dict(), 'best_train_loss.pt')\n",
        "    \n",
        "    print(f'Epoch: {epoch+1:02} | Time: {epoch_mins}m {epoch_secs}s')\n",
        "    print(f'\\tTrain Loss: {train_loss:.3f} | Train PPL: {math.exp(train_loss):7.3f}')\n",
        "    print(f'\\t Val. Loss: {valid_loss:.3f} |  Val. PPL: {math.exp(valid_loss):7.3f} | Val. Rouge: {rouge_score:7.3f}')"
      ],
      "execution_count": 52,
      "outputs": [
        {
          "output_type": "stream",
          "text": [
            "Epoch: 01 | Time: 0m 13s\n",
            "\tTrain Loss: 5.663 | Train PPL: 288.126\n",
            "\t Val. Loss: 4.036 |  Val. PPL:  56.619 | Val. Rouge:   0.000\n",
            "Epoch: 02 | Time: 0m 13s\n",
            "\tTrain Loss: 3.687 | Train PPL:  39.919\n",
            "\t Val. Loss: 3.278 |  Val. PPL:  26.536 | Val. Rouge:   0.002\n",
            "Epoch: 03 | Time: 0m 13s\n",
            "\tTrain Loss: 3.209 | Train PPL:  24.752\n",
            "\t Val. Loss: 2.977 |  Val. PPL:  19.633 | Val. Rouge:   0.002\n",
            "Epoch: 04 | Time: 0m 13s\n",
            "\tTrain Loss: 2.967 | Train PPL:  19.433\n",
            "\t Val. Loss: 2.811 |  Val. PPL:  16.629 | Val. Rouge:   0.005\n",
            "Epoch: 05 | Time: 0m 13s\n",
            "\tTrain Loss: 2.803 | Train PPL:  16.496\n",
            "\t Val. Loss: 2.670 |  Val. PPL:  14.438 | Val. Rouge:   0.018\n",
            "Epoch: 06 | Time: 0m 13s\n",
            "\tTrain Loss: 2.670 | Train PPL:  14.443\n",
            "\t Val. Loss: 2.562 |  Val. PPL:  12.964 | Val. Rouge:   0.025\n",
            "Epoch: 07 | Time: 0m 13s\n",
            "\tTrain Loss: 2.566 | Train PPL:  13.007\n",
            "\t Val. Loss: 2.484 |  Val. PPL:  11.992 | Val. Rouge:   0.030\n",
            "Epoch: 08 | Time: 0m 13s\n",
            "\tTrain Loss: 2.477 | Train PPL:  11.907\n",
            "\t Val. Loss: 2.411 |  Val. PPL:  11.148 | Val. Rouge:   0.037\n",
            "Epoch: 09 | Time: 0m 13s\n",
            "\tTrain Loss: 2.395 | Train PPL:  10.967\n",
            "\t Val. Loss: 2.350 |  Val. PPL:  10.483 | Val. Rouge:   0.041\n",
            "Epoch: 10 | Time: 0m 13s\n",
            "\tTrain Loss: 2.319 | Train PPL:  10.161\n",
            "\t Val. Loss: 2.298 |  Val. PPL:   9.956 | Val. Rouge:   0.042\n",
            "Epoch: 11 | Time: 0m 13s\n",
            "\tTrain Loss: 2.255 | Train PPL:   9.532\n",
            "\t Val. Loss: 2.248 |  Val. PPL:   9.465 | Val. Rouge:   0.045\n",
            "Epoch: 12 | Time: 0m 13s\n",
            "\tTrain Loss: 2.189 | Train PPL:   8.922\n",
            "\t Val. Loss: 2.205 |  Val. PPL:   9.066 | Val. Rouge:   0.051\n",
            "Epoch: 13 | Time: 0m 13s\n",
            "\tTrain Loss: 2.140 | Train PPL:   8.502\n",
            "\t Val. Loss: 2.171 |  Val. PPL:   8.768 | Val. Rouge:   0.055\n",
            "Epoch: 14 | Time: 0m 13s\n",
            "\tTrain Loss: 2.084 | Train PPL:   8.033\n",
            "\t Val. Loss: 2.146 |  Val. PPL:   8.553 | Val. Rouge:   0.051\n",
            "Epoch: 15 | Time: 0m 13s\n",
            "\tTrain Loss: 2.029 | Train PPL:   7.610\n",
            "\t Val. Loss: 2.110 |  Val. PPL:   8.252 | Val. Rouge:   0.055\n",
            "Epoch: 16 | Time: 0m 13s\n",
            "\tTrain Loss: 1.992 | Train PPL:   7.329\n",
            "\t Val. Loss: 2.092 |  Val. PPL:   8.102 | Val. Rouge:   0.053\n",
            "Epoch: 17 | Time: 0m 13s\n",
            "\tTrain Loss: 1.939 | Train PPL:   6.953\n",
            "\t Val. Loss: 2.062 |  Val. PPL:   7.865 | Val. Rouge:   0.054\n",
            "Epoch: 18 | Time: 0m 13s\n",
            "\tTrain Loss: 1.901 | Train PPL:   6.691\n",
            "\t Val. Loss: 2.042 |  Val. PPL:   7.709 | Val. Rouge:   0.057\n",
            "Epoch: 19 | Time: 0m 13s\n",
            "\tTrain Loss: 1.858 | Train PPL:   6.408\n",
            "\t Val. Loss: 2.023 |  Val. PPL:   7.565 | Val. Rouge:   0.061\n",
            "Epoch: 20 | Time: 0m 13s\n",
            "\tTrain Loss: 1.819 | Train PPL:   6.166\n",
            "\t Val. Loss: 2.005 |  Val. PPL:   7.428 | Val. Rouge:   0.063\n",
            "Epoch: 21 | Time: 0m 13s\n",
            "\tTrain Loss: 1.783 | Train PPL:   5.946\n",
            "\t Val. Loss: 1.989 |  Val. PPL:   7.306 | Val. Rouge:   0.062\n",
            "Epoch: 22 | Time: 0m 13s\n",
            "\tTrain Loss: 1.749 | Train PPL:   5.750\n",
            "\t Val. Loss: 1.975 |  Val. PPL:   7.204 | Val. Rouge:   0.065\n",
            "Epoch: 23 | Time: 0m 14s\n",
            "\tTrain Loss: 1.714 | Train PPL:   5.553\n",
            "\t Val. Loss: 1.964 |  Val. PPL:   7.127 | Val. Rouge:   0.070\n",
            "Epoch: 24 | Time: 0m 13s\n",
            "\tTrain Loss: 1.680 | Train PPL:   5.366\n",
            "\t Val. Loss: 1.952 |  Val. PPL:   7.043 | Val. Rouge:   0.067\n",
            "Epoch: 25 | Time: 0m 13s\n",
            "\tTrain Loss: 1.648 | Train PPL:   5.198\n",
            "\t Val. Loss: 1.951 |  Val. PPL:   7.033 | Val. Rouge:   0.067\n",
            "Epoch: 26 | Time: 0m 13s\n",
            "\tTrain Loss: 1.612 | Train PPL:   5.013\n",
            "\t Val. Loss: 1.937 |  Val. PPL:   6.941 | Val. Rouge:   0.072\n",
            "Epoch: 27 | Time: 0m 13s\n",
            "\tTrain Loss: 1.585 | Train PPL:   4.880\n",
            "\t Val. Loss: 1.927 |  Val. PPL:   6.867 | Val. Rouge:   0.070\n",
            "Epoch: 28 | Time: 0m 13s\n",
            "\tTrain Loss: 1.551 | Train PPL:   4.717\n",
            "\t Val. Loss: 1.922 |  Val. PPL:   6.832 | Val. Rouge:   0.077\n",
            "Epoch: 29 | Time: 0m 13s\n",
            "\tTrain Loss: 1.525 | Train PPL:   4.593\n",
            "\t Val. Loss: 1.908 |  Val. PPL:   6.741 | Val. Rouge:   0.076\n",
            "Epoch: 30 | Time: 0m 13s\n",
            "\tTrain Loss: 1.493 | Train PPL:   4.452\n",
            "\t Val. Loss: 1.904 |  Val. PPL:   6.714 | Val. Rouge:   0.080\n",
            "Epoch: 31 | Time: 0m 13s\n",
            "\tTrain Loss: 1.467 | Train PPL:   4.336\n",
            "\t Val. Loss: 1.900 |  Val. PPL:   6.683 | Val. Rouge:   0.078\n",
            "Epoch: 32 | Time: 0m 13s\n",
            "\tTrain Loss: 1.442 | Train PPL:   4.229\n",
            "\t Val. Loss: 1.893 |  Val. PPL:   6.639 | Val. Rouge:   0.080\n",
            "Epoch: 33 | Time: 0m 13s\n",
            "\tTrain Loss: 1.418 | Train PPL:   4.128\n",
            "\t Val. Loss: 1.891 |  Val. PPL:   6.625 | Val. Rouge:   0.080\n",
            "Epoch: 34 | Time: 0m 13s\n",
            "\tTrain Loss: 1.391 | Train PPL:   4.018\n",
            "\t Val. Loss: 1.884 |  Val. PPL:   6.577 | Val. Rouge:   0.083\n",
            "Epoch: 35 | Time: 0m 13s\n",
            "\tTrain Loss: 1.369 | Train PPL:   3.931\n",
            "\t Val. Loss: 1.893 |  Val. PPL:   6.640 | Val. Rouge:   0.082\n",
            "Epoch: 36 | Time: 0m 13s\n",
            "\tTrain Loss: 1.340 | Train PPL:   3.820\n",
            "\t Val. Loss: 1.882 |  Val. PPL:   6.568 | Val. Rouge:   0.088\n",
            "Epoch: 37 | Time: 0m 13s\n",
            "\tTrain Loss: 1.320 | Train PPL:   3.743\n",
            "\t Val. Loss: 1.886 |  Val. PPL:   6.591 | Val. Rouge:   0.086\n",
            "Epoch: 38 | Time: 0m 13s\n",
            "\tTrain Loss: 1.298 | Train PPL:   3.661\n",
            "\t Val. Loss: 1.871 |  Val. PPL:   6.493 | Val. Rouge:   0.091\n",
            "Epoch: 39 | Time: 0m 13s\n",
            "\tTrain Loss: 1.277 | Train PPL:   3.586\n",
            "\t Val. Loss: 1.880 |  Val. PPL:   6.555 | Val. Rouge:   0.088\n",
            "Epoch: 40 | Time: 0m 13s\n",
            "\tTrain Loss: 1.252 | Train PPL:   3.499\n",
            "\t Val. Loss: 1.871 |  Val. PPL:   6.493 | Val. Rouge:   0.087\n",
            "Epoch: 41 | Time: 0m 13s\n",
            "\tTrain Loss: 1.230 | Train PPL:   3.421\n",
            "\t Val. Loss: 1.871 |  Val. PPL:   6.494 | Val. Rouge:   0.096\n",
            "Epoch: 42 | Time: 0m 13s\n",
            "\tTrain Loss: 1.214 | Train PPL:   3.368\n",
            "\t Val. Loss: 1.873 |  Val. PPL:   6.508 | Val. Rouge:   0.087\n",
            "Epoch: 43 | Time: 0m 13s\n",
            "\tTrain Loss: 1.193 | Train PPL:   3.297\n",
            "\t Val. Loss: 1.875 |  Val. PPL:   6.520 | Val. Rouge:   0.093\n",
            "Epoch: 44 | Time: 0m 13s\n",
            "\tTrain Loss: 1.174 | Train PPL:   3.236\n",
            "\t Val. Loss: 1.875 |  Val. PPL:   6.521 | Val. Rouge:   0.090\n",
            "Epoch: 45 | Time: 0m 13s\n",
            "\tTrain Loss: 1.153 | Train PPL:   3.167\n",
            "\t Val. Loss: 1.881 |  Val. PPL:   6.558 | Val. Rouge:   0.092\n",
            "Epoch: 46 | Time: 0m 13s\n",
            "\tTrain Loss: 1.133 | Train PPL:   3.105\n",
            "\t Val. Loss: 1.881 |  Val. PPL:   6.559 | Val. Rouge:   0.100\n",
            "Epoch: 47 | Time: 0m 13s\n",
            "\tTrain Loss: 1.119 | Train PPL:   3.063\n",
            "\t Val. Loss: 1.882 |  Val. PPL:   6.569 | Val. Rouge:   0.094\n",
            "Epoch: 48 | Time: 0m 13s\n",
            "\tTrain Loss: 1.097 | Train PPL:   2.994\n",
            "\t Val. Loss: 1.888 |  Val. PPL:   6.608 | Val. Rouge:   0.102\n",
            "Epoch: 49 | Time: 0m 13s\n",
            "\tTrain Loss: 1.081 | Train PPL:   2.946\n",
            "\t Val. Loss: 1.889 |  Val. PPL:   6.612 | Val. Rouge:   0.107\n",
            "Epoch: 50 | Time: 0m 13s\n",
            "\tTrain Loss: 1.061 | Train PPL:   2.891\n",
            "\t Val. Loss: 1.882 |  Val. PPL:   6.568 | Val. Rouge:   0.101\n",
            "Epoch: 51 | Time: 0m 13s\n",
            "\tTrain Loss: 1.047 | Train PPL:   2.849\n",
            "\t Val. Loss: 1.886 |  Val. PPL:   6.594 | Val. Rouge:   0.102\n",
            "Epoch: 52 | Time: 0m 13s\n",
            "\tTrain Loss: 1.033 | Train PPL:   2.808\n",
            "\t Val. Loss: 1.890 |  Val. PPL:   6.616 | Val. Rouge:   0.099\n",
            "Epoch: 53 | Time: 0m 13s\n",
            "\tTrain Loss: 1.016 | Train PPL:   2.762\n",
            "\t Val. Loss: 1.894 |  Val. PPL:   6.645 | Val. Rouge:   0.106\n",
            "Epoch: 54 | Time: 0m 13s\n",
            "\tTrain Loss: 0.998 | Train PPL:   2.713\n",
            "\t Val. Loss: 1.899 |  Val. PPL:   6.681 | Val. Rouge:   0.108\n",
            "Epoch: 55 | Time: 0m 13s\n",
            "\tTrain Loss: 0.985 | Train PPL:   2.678\n",
            "\t Val. Loss: 1.906 |  Val. PPL:   6.728 | Val. Rouge:   0.107\n",
            "Epoch: 56 | Time: 0m 13s\n",
            "\tTrain Loss: 0.970 | Train PPL:   2.638\n",
            "\t Val. Loss: 1.914 |  Val. PPL:   6.778 | Val. Rouge:   0.105\n",
            "Epoch: 57 | Time: 0m 13s\n",
            "\tTrain Loss: 0.955 | Train PPL:   2.599\n",
            "\t Val. Loss: 1.919 |  Val. PPL:   6.813 | Val. Rouge:   0.111\n",
            "Epoch: 58 | Time: 0m 13s\n",
            "\tTrain Loss: 0.940 | Train PPL:   2.560\n",
            "\t Val. Loss: 1.923 |  Val. PPL:   6.839 | Val. Rouge:   0.110\n",
            "Epoch: 59 | Time: 0m 13s\n",
            "\tTrain Loss: 0.929 | Train PPL:   2.531\n",
            "\t Val. Loss: 1.923 |  Val. PPL:   6.839 | Val. Rouge:   0.110\n",
            "Epoch: 60 | Time: 0m 13s\n",
            "\tTrain Loss: 0.918 | Train PPL:   2.504\n",
            "\t Val. Loss: 1.922 |  Val. PPL:   6.833 | Val. Rouge:   0.115\n",
            "Epoch: 61 | Time: 0m 13s\n",
            "\tTrain Loss: 0.902 | Train PPL:   2.466\n",
            "\t Val. Loss: 1.927 |  Val. PPL:   6.870 | Val. Rouge:   0.111\n",
            "Epoch: 62 | Time: 0m 13s\n",
            "\tTrain Loss: 0.891 | Train PPL:   2.437\n",
            "\t Val. Loss: 1.936 |  Val. PPL:   6.931 | Val. Rouge:   0.111\n",
            "Epoch: 63 | Time: 0m 13s\n",
            "\tTrain Loss: 0.880 | Train PPL:   2.410\n",
            "\t Val. Loss: 1.936 |  Val. PPL:   6.934 | Val. Rouge:   0.117\n",
            "Epoch: 64 | Time: 0m 13s\n",
            "\tTrain Loss: 0.867 | Train PPL:   2.379\n",
            "\t Val. Loss: 1.942 |  Val. PPL:   6.969 | Val. Rouge:   0.117\n",
            "Epoch: 65 | Time: 0m 13s\n",
            "\tTrain Loss: 0.856 | Train PPL:   2.355\n",
            "\t Val. Loss: 1.955 |  Val. PPL:   7.064 | Val. Rouge:   0.116\n",
            "Epoch: 66 | Time: 0m 13s\n",
            "\tTrain Loss: 0.847 | Train PPL:   2.332\n",
            "\t Val. Loss: 1.955 |  Val. PPL:   7.065 | Val. Rouge:   0.121\n",
            "Epoch: 67 | Time: 0m 13s\n",
            "\tTrain Loss: 0.831 | Train PPL:   2.296\n",
            "\t Val. Loss: 1.961 |  Val. PPL:   7.109 | Val. Rouge:   0.121\n",
            "Epoch: 68 | Time: 0m 13s\n",
            "\tTrain Loss: 0.821 | Train PPL:   2.273\n",
            "\t Val. Loss: 1.970 |  Val. PPL:   7.171 | Val. Rouge:   0.119\n",
            "Epoch: 69 | Time: 0m 13s\n",
            "\tTrain Loss: 0.811 | Train PPL:   2.250\n",
            "\t Val. Loss: 1.970 |  Val. PPL:   7.168 | Val. Rouge:   0.120\n",
            "Epoch: 70 | Time: 0m 13s\n",
            "\tTrain Loss: 0.799 | Train PPL:   2.223\n",
            "\t Val. Loss: 1.977 |  Val. PPL:   7.218 | Val. Rouge:   0.124\n",
            "Epoch: 71 | Time: 0m 13s\n",
            "\tTrain Loss: 0.790 | Train PPL:   2.203\n",
            "\t Val. Loss: 1.986 |  Val. PPL:   7.283 | Val. Rouge:   0.123\n",
            "Epoch: 72 | Time: 0m 13s\n",
            "\tTrain Loss: 0.784 | Train PPL:   2.190\n",
            "\t Val. Loss: 1.991 |  Val. PPL:   7.323 | Val. Rouge:   0.127\n",
            "Epoch: 73 | Time: 0m 13s\n",
            "\tTrain Loss: 0.771 | Train PPL:   2.163\n",
            "\t Val. Loss: 2.013 |  Val. PPL:   7.488 | Val. Rouge:   0.124\n",
            "Epoch: 74 | Time: 0m 13s\n",
            "\tTrain Loss: 0.760 | Train PPL:   2.139\n",
            "\t Val. Loss: 2.005 |  Val. PPL:   7.427 | Val. Rouge:   0.123\n",
            "Epoch: 75 | Time: 0m 13s\n",
            "\tTrain Loss: 0.756 | Train PPL:   2.130\n",
            "\t Val. Loss: 2.014 |  Val. PPL:   7.494 | Val. Rouge:   0.124\n",
            "Epoch: 76 | Time: 0m 13s\n",
            "\tTrain Loss: 0.742 | Train PPL:   2.101\n",
            "\t Val. Loss: 2.031 |  Val. PPL:   7.622 | Val. Rouge:   0.129\n",
            "Epoch: 77 | Time: 0m 13s\n",
            "\tTrain Loss: 0.737 | Train PPL:   2.090\n",
            "\t Val. Loss: 2.025 |  Val. PPL:   7.574 | Val. Rouge:   0.133\n",
            "Epoch: 78 | Time: 0m 13s\n",
            "\tTrain Loss: 0.725 | Train PPL:   2.064\n",
            "\t Val. Loss: 2.024 |  Val. PPL:   7.572 | Val. Rouge:   0.125\n",
            "Epoch: 79 | Time: 0m 14s\n",
            "\tTrain Loss: 0.719 | Train PPL:   2.052\n",
            "\t Val. Loss: 2.036 |  Val. PPL:   7.658 | Val. Rouge:   0.127\n",
            "Epoch: 80 | Time: 0m 14s\n",
            "\tTrain Loss: 0.709 | Train PPL:   2.033\n",
            "\t Val. Loss: 2.050 |  Val. PPL:   7.764 | Val. Rouge:   0.133\n",
            "Epoch: 81 | Time: 0m 13s\n",
            "\tTrain Loss: 0.697 | Train PPL:   2.007\n",
            "\t Val. Loss: 2.055 |  Val. PPL:   7.807 | Val. Rouge:   0.131\n",
            "Epoch: 82 | Time: 0m 13s\n",
            "\tTrain Loss: 0.692 | Train PPL:   1.998\n",
            "\t Val. Loss: 2.058 |  Val. PPL:   7.831 | Val. Rouge:   0.127\n",
            "Epoch: 83 | Time: 0m 13s\n",
            "\tTrain Loss: 0.683 | Train PPL:   1.980\n",
            "\t Val. Loss: 2.064 |  Val. PPL:   7.877 | Val. Rouge:   0.127\n",
            "Epoch: 84 | Time: 0m 13s\n",
            "\tTrain Loss: 0.677 | Train PPL:   1.969\n",
            "\t Val. Loss: 2.072 |  Val. PPL:   7.939 | Val. Rouge:   0.131\n",
            "Epoch: 85 | Time: 0m 13s\n",
            "\tTrain Loss: 0.666 | Train PPL:   1.947\n",
            "\t Val. Loss: 2.086 |  Val. PPL:   8.051 | Val. Rouge:   0.130\n",
            "Epoch: 86 | Time: 0m 13s\n",
            "\tTrain Loss: 0.664 | Train PPL:   1.942\n",
            "\t Val. Loss: 2.089 |  Val. PPL:   8.079 | Val. Rouge:   0.133\n",
            "Epoch: 87 | Time: 0m 13s\n",
            "\tTrain Loss: 0.650 | Train PPL:   1.915\n",
            "\t Val. Loss: 2.090 |  Val. PPL:   8.084 | Val. Rouge:   0.130\n",
            "Epoch: 88 | Time: 0m 13s\n",
            "\tTrain Loss: 0.645 | Train PPL:   1.906\n",
            "\t Val. Loss: 2.109 |  Val. PPL:   8.242 | Val. Rouge:   0.129\n",
            "Epoch: 89 | Time: 0m 13s\n",
            "\tTrain Loss: 0.639 | Train PPL:   1.895\n",
            "\t Val. Loss: 2.111 |  Val. PPL:   8.256 | Val. Rouge:   0.133\n",
            "Epoch: 90 | Time: 0m 13s\n",
            "\tTrain Loss: 0.637 | Train PPL:   1.890\n",
            "\t Val. Loss: 2.119 |  Val. PPL:   8.325 | Val. Rouge:   0.133\n",
            "Epoch: 91 | Time: 0m 13s\n",
            "\tTrain Loss: 0.625 | Train PPL:   1.868\n",
            "\t Val. Loss: 2.129 |  Val. PPL:   8.408 | Val. Rouge:   0.136\n",
            "Epoch: 92 | Time: 0m 13s\n",
            "\tTrain Loss: 0.616 | Train PPL:   1.851\n",
            "\t Val. Loss: 2.121 |  Val. PPL:   8.343 | Val. Rouge:   0.135\n",
            "Epoch: 93 | Time: 0m 13s\n",
            "\tTrain Loss: 0.614 | Train PPL:   1.847\n",
            "\t Val. Loss: 2.140 |  Val. PPL:   8.503 | Val. Rouge:   0.137\n",
            "Epoch: 94 | Time: 0m 13s\n",
            "\tTrain Loss: 0.604 | Train PPL:   1.830\n",
            "\t Val. Loss: 2.149 |  Val. PPL:   8.577 | Val. Rouge:   0.136\n",
            "Epoch: 95 | Time: 0m 13s\n",
            "\tTrain Loss: 0.600 | Train PPL:   1.822\n",
            "\t Val. Loss: 2.146 |  Val. PPL:   8.553 | Val. Rouge:   0.133\n",
            "Epoch: 96 | Time: 0m 13s\n",
            "\tTrain Loss: 0.596 | Train PPL:   1.815\n",
            "\t Val. Loss: 2.149 |  Val. PPL:   8.575 | Val. Rouge:   0.136\n",
            "Epoch: 97 | Time: 0m 13s\n",
            "\tTrain Loss: 0.589 | Train PPL:   1.802\n",
            "\t Val. Loss: 2.169 |  Val. PPL:   8.751 | Val. Rouge:   0.138\n",
            "Epoch: 98 | Time: 0m 13s\n",
            "\tTrain Loss: 0.584 | Train PPL:   1.793\n",
            "\t Val. Loss: 2.167 |  Val. PPL:   8.731 | Val. Rouge:   0.136\n",
            "Epoch: 99 | Time: 0m 13s\n",
            "\tTrain Loss: 0.574 | Train PPL:   1.775\n",
            "\t Val. Loss: 2.182 |  Val. PPL:   8.863 | Val. Rouge:   0.135\n",
            "Epoch: 100 | Time: 0m 13s\n",
            "\tTrain Loss: 0.572 | Train PPL:   1.772\n",
            "\t Val. Loss: 2.180 |  Val. PPL:   8.842 | Val. Rouge:   0.137\n",
            "Epoch: 101 | Time: 0m 14s\n",
            "\tTrain Loss: 0.568 | Train PPL:   1.765\n",
            "\t Val. Loss: 2.181 |  Val. PPL:   8.858 | Val. Rouge:   0.142\n",
            "Epoch: 102 | Time: 0m 13s\n",
            "\tTrain Loss: 0.556 | Train PPL:   1.745\n",
            "\t Val. Loss: 2.190 |  Val. PPL:   8.931 | Val. Rouge:   0.138\n",
            "Epoch: 103 | Time: 0m 13s\n",
            "\tTrain Loss: 0.553 | Train PPL:   1.738\n",
            "\t Val. Loss: 2.194 |  Val. PPL:   8.975 | Val. Rouge:   0.141\n",
            "Epoch: 104 | Time: 0m 13s\n",
            "\tTrain Loss: 0.547 | Train PPL:   1.728\n",
            "\t Val. Loss: 2.206 |  Val. PPL:   9.078 | Val. Rouge:   0.138\n",
            "Epoch: 105 | Time: 0m 13s\n",
            "\tTrain Loss: 0.541 | Train PPL:   1.718\n",
            "\t Val. Loss: 2.223 |  Val. PPL:   9.235 | Val. Rouge:   0.137\n",
            "Epoch: 106 | Time: 0m 13s\n",
            "\tTrain Loss: 0.536 | Train PPL:   1.709\n",
            "\t Val. Loss: 2.216 |  Val. PPL:   9.172 | Val. Rouge:   0.139\n",
            "Epoch: 107 | Time: 0m 13s\n",
            "\tTrain Loss: 0.526 | Train PPL:   1.692\n",
            "\t Val. Loss: 2.221 |  Val. PPL:   9.216 | Val. Rouge:   0.135\n",
            "Epoch: 108 | Time: 0m 13s\n",
            "\tTrain Loss: 0.532 | Train PPL:   1.702\n",
            "\t Val. Loss: 2.228 |  Val. PPL:   9.285 | Val. Rouge:   0.141\n",
            "Epoch: 109 | Time: 0m 13s\n",
            "\tTrain Loss: 0.523 | Train PPL:   1.687\n",
            "\t Val. Loss: 2.245 |  Val. PPL:   9.436 | Val. Rouge:   0.139\n",
            "Epoch: 110 | Time: 0m 13s\n",
            "\tTrain Loss: 0.514 | Train PPL:   1.672\n",
            "\t Val. Loss: 2.242 |  Val. PPL:   9.417 | Val. Rouge:   0.143\n",
            "Epoch: 111 | Time: 0m 13s\n",
            "\tTrain Loss: 0.512 | Train PPL:   1.669\n",
            "\t Val. Loss: 2.257 |  Val. PPL:   9.559 | Val. Rouge:   0.140\n",
            "Epoch: 112 | Time: 0m 13s\n",
            "\tTrain Loss: 0.506 | Train PPL:   1.658\n",
            "\t Val. Loss: 2.253 |  Val. PPL:   9.514 | Val. Rouge:   0.147\n",
            "Epoch: 113 | Time: 0m 13s\n",
            "\tTrain Loss: 0.503 | Train PPL:   1.653\n",
            "\t Val. Loss: 2.253 |  Val. PPL:   9.520 | Val. Rouge:   0.141\n",
            "Epoch: 114 | Time: 0m 13s\n",
            "\tTrain Loss: 0.498 | Train PPL:   1.645\n",
            "\t Val. Loss: 2.263 |  Val. PPL:   9.608 | Val. Rouge:   0.145\n",
            "Epoch: 115 | Time: 0m 13s\n",
            "\tTrain Loss: 0.492 | Train PPL:   1.636\n",
            "\t Val. Loss: 2.275 |  Val. PPL:   9.724 | Val. Rouge:   0.141\n",
            "Epoch: 116 | Time: 0m 13s\n",
            "\tTrain Loss: 0.492 | Train PPL:   1.636\n",
            "\t Val. Loss: 2.284 |  Val. PPL:   9.813 | Val. Rouge:   0.144\n",
            "Epoch: 117 | Time: 0m 13s\n",
            "\tTrain Loss: 0.486 | Train PPL:   1.626\n",
            "\t Val. Loss: 2.297 |  Val. PPL:   9.946 | Val. Rouge:   0.144\n",
            "Epoch: 118 | Time: 0m 14s\n",
            "\tTrain Loss: 0.480 | Train PPL:   1.616\n",
            "\t Val. Loss: 2.285 |  Val. PPL:   9.830 | Val. Rouge:   0.141\n",
            "Epoch: 119 | Time: 0m 13s\n",
            "\tTrain Loss: 0.474 | Train PPL:   1.606\n",
            "\t Val. Loss: 2.284 |  Val. PPL:   9.816 | Val. Rouge:   0.145\n",
            "Epoch: 120 | Time: 0m 13s\n",
            "\tTrain Loss: 0.469 | Train PPL:   1.599\n",
            "\t Val. Loss: 2.311 |  Val. PPL:  10.084 | Val. Rouge:   0.145\n",
            "Epoch: 121 | Time: 0m 13s\n",
            "\tTrain Loss: 0.465 | Train PPL:   1.592\n",
            "\t Val. Loss: 2.304 |  Val. PPL:  10.012 | Val. Rouge:   0.147\n",
            "Epoch: 122 | Time: 0m 13s\n",
            "\tTrain Loss: 0.461 | Train PPL:   1.586\n",
            "\t Val. Loss: 2.317 |  Val. PPL:  10.147 | Val. Rouge:   0.146\n",
            "Epoch: 123 | Time: 0m 13s\n",
            "\tTrain Loss: 0.456 | Train PPL:   1.578\n",
            "\t Val. Loss: 2.327 |  Val. PPL:  10.251 | Val. Rouge:   0.146\n",
            "Epoch: 124 | Time: 0m 13s\n",
            "\tTrain Loss: 0.455 | Train PPL:   1.576\n",
            "\t Val. Loss: 2.321 |  Val. PPL:  10.188 | Val. Rouge:   0.142\n",
            "Epoch: 125 | Time: 0m 13s\n",
            "\tTrain Loss: 0.450 | Train PPL:   1.568\n",
            "\t Val. Loss: 2.332 |  Val. PPL:  10.298 | Val. Rouge:   0.143\n",
            "Epoch: 126 | Time: 0m 13s\n",
            "\tTrain Loss: 0.446 | Train PPL:   1.563\n",
            "\t Val. Loss: 2.353 |  Val. PPL:  10.513 | Val. Rouge:   0.141\n",
            "Epoch: 127 | Time: 0m 13s\n",
            "\tTrain Loss: 0.442 | Train PPL:   1.556\n",
            "\t Val. Loss: 2.347 |  Val. PPL:  10.456 | Val. Rouge:   0.148\n",
            "Epoch: 128 | Time: 0m 13s\n",
            "\tTrain Loss: 0.439 | Train PPL:   1.551\n",
            "\t Val. Loss: 2.351 |  Val. PPL:  10.498 | Val. Rouge:   0.146\n",
            "Epoch: 129 | Time: 0m 13s\n",
            "\tTrain Loss: 0.435 | Train PPL:   1.545\n",
            "\t Val. Loss: 2.355 |  Val. PPL:  10.536 | Val. Rouge:   0.145\n",
            "Epoch: 130 | Time: 0m 13s\n",
            "\tTrain Loss: 0.432 | Train PPL:   1.540\n",
            "\t Val. Loss: 2.365 |  Val. PPL:  10.649 | Val. Rouge:   0.142\n",
            "Epoch: 131 | Time: 0m 13s\n",
            "\tTrain Loss: 0.426 | Train PPL:   1.532\n",
            "\t Val. Loss: 2.364 |  Val. PPL:  10.630 | Val. Rouge:   0.140\n",
            "Epoch: 132 | Time: 0m 13s\n",
            "\tTrain Loss: 0.424 | Train PPL:   1.528\n",
            "\t Val. Loss: 2.377 |  Val. PPL:  10.776 | Val. Rouge:   0.144\n",
            "Epoch: 133 | Time: 0m 13s\n",
            "\tTrain Loss: 0.420 | Train PPL:   1.522\n",
            "\t Val. Loss: 2.384 |  Val. PPL:  10.849 | Val. Rouge:   0.148\n",
            "Epoch: 134 | Time: 0m 13s\n",
            "\tTrain Loss: 0.417 | Train PPL:   1.518\n",
            "\t Val. Loss: 2.390 |  Val. PPL:  10.914 | Val. Rouge:   0.143\n",
            "Epoch: 135 | Time: 0m 13s\n",
            "\tTrain Loss: 0.413 | Train PPL:   1.511\n",
            "\t Val. Loss: 2.380 |  Val. PPL:  10.802 | Val. Rouge:   0.145\n",
            "Epoch: 136 | Time: 0m 13s\n",
            "\tTrain Loss: 0.411 | Train PPL:   1.508\n",
            "\t Val. Loss: 2.398 |  Val. PPL:  11.002 | Val. Rouge:   0.146\n",
            "Epoch: 137 | Time: 0m 13s\n",
            "\tTrain Loss: 0.407 | Train PPL:   1.503\n",
            "\t Val. Loss: 2.416 |  Val. PPL:  11.202 | Val. Rouge:   0.147\n",
            "Epoch: 138 | Time: 0m 13s\n",
            "\tTrain Loss: 0.405 | Train PPL:   1.500\n",
            "\t Val. Loss: 2.418 |  Val. PPL:  11.225 | Val. Rouge:   0.146\n",
            "Epoch: 139 | Time: 0m 13s\n",
            "\tTrain Loss: 0.400 | Train PPL:   1.492\n",
            "\t Val. Loss: 2.424 |  Val. PPL:  11.295 | Val. Rouge:   0.150\n",
            "Epoch: 140 | Time: 0m 13s\n",
            "\tTrain Loss: 0.397 | Train PPL:   1.487\n",
            "\t Val. Loss: 2.429 |  Val. PPL:  11.345 | Val. Rouge:   0.149\n",
            "Epoch: 141 | Time: 0m 13s\n",
            "\tTrain Loss: 0.396 | Train PPL:   1.486\n",
            "\t Val. Loss: 2.428 |  Val. PPL:  11.341 | Val. Rouge:   0.147\n",
            "Epoch: 142 | Time: 0m 13s\n",
            "\tTrain Loss: 0.392 | Train PPL:   1.480\n",
            "\t Val. Loss: 2.436 |  Val. PPL:  11.429 | Val. Rouge:   0.144\n",
            "Epoch: 143 | Time: 0m 13s\n",
            "\tTrain Loss: 0.386 | Train PPL:   1.472\n",
            "\t Val. Loss: 2.446 |  Val. PPL:  11.539 | Val. Rouge:   0.143\n",
            "Epoch: 144 | Time: 0m 13s\n",
            "\tTrain Loss: 0.386 | Train PPL:   1.471\n",
            "\t Val. Loss: 2.444 |  Val. PPL:  11.514 | Val. Rouge:   0.151\n",
            "Epoch: 145 | Time: 0m 13s\n",
            "\tTrain Loss: 0.383 | Train PPL:   1.467\n",
            "\t Val. Loss: 2.456 |  Val. PPL:  11.659 | Val. Rouge:   0.151\n",
            "Epoch: 146 | Time: 0m 13s\n",
            "\tTrain Loss: 0.379 | Train PPL:   1.460\n",
            "\t Val. Loss: 2.451 |  Val. PPL:  11.597 | Val. Rouge:   0.149\n",
            "Epoch: 147 | Time: 0m 13s\n",
            "\tTrain Loss: 0.378 | Train PPL:   1.460\n",
            "\t Val. Loss: 2.465 |  Val. PPL:  11.760 | Val. Rouge:   0.150\n",
            "Epoch: 148 | Time: 0m 13s\n",
            "\tTrain Loss: 0.374 | Train PPL:   1.454\n",
            "\t Val. Loss: 2.469 |  Val. PPL:  11.810 | Val. Rouge:   0.150\n",
            "Epoch: 149 | Time: 0m 13s\n",
            "\tTrain Loss: 0.370 | Train PPL:   1.448\n",
            "\t Val. Loss: 2.479 |  Val. PPL:  11.923 | Val. Rouge:   0.145\n",
            "Epoch: 150 | Time: 0m 13s\n",
            "\tTrain Loss: 0.369 | Train PPL:   1.447\n",
            "\t Val. Loss: 2.473 |  Val. PPL:  11.855 | Val. Rouge:   0.148\n"
          ],
          "name": "stdout"
        }
      ]
    },
    {
      "cell_type": "code",
      "metadata": {
        "id": "lvjHMGS2ykod",
        "colab": {
          "base_uri": "https://localhost:8080/"
        },
        "outputId": "ff1430f1-41be-494c-a8f1-6bd74ecca291"
      },
      "source": [
        "import pickle\n",
        "\n",
        "with open(\"SRC_stio_local\",\"rb\") as f:\n",
        "  stoi = pickle.load(f)\n",
        "with open(\"TRG_itos_local\",\"rb\") as f:\n",
        "  itos = pickle.load(f)\n",
        "\n",
        "# Load model\n",
        "# trained_model = 'conala_plus_original_data.pt'\n",
        "trained_model = '/content/best_train_loss.pt'\n",
        "model.load_state_dict(torch.load(trained_model));\n",
        "model.eval()"
      ],
      "execution_count": 53,
      "outputs": [
        {
          "output_type": "execute_result",
          "data": {
            "text/plain": [
              "Seq2Seq(\n",
              "  (encoder): Encoder(\n",
              "    (tok_embedding): Embedding(2882, 256)\n",
              "    (pos_embedding): PositionalEncodingComponent(\n",
              "      (dropout): Dropout(p=0.1, inplace=False)\n",
              "    )\n",
              "    (layers): ModuleList(\n",
              "      (0): EncoderLayer(\n",
              "        (self_attn_layer_norm): LayerNorm((256,), eps=1e-05, elementwise_affine=True)\n",
              "        (ff_layer_norm): LayerNorm((256,), eps=1e-05, elementwise_affine=True)\n",
              "        (self_attention): MultiHeadedAttentionComponent(\n",
              "          (fc_q): Linear(in_features=256, out_features=256, bias=True)\n",
              "          (fc_k): Linear(in_features=256, out_features=256, bias=True)\n",
              "          (fc_v): Linear(in_features=256, out_features=256, bias=True)\n",
              "          (fc_o): Linear(in_features=256, out_features=256, bias=True)\n",
              "          (dropout): Dropout(p=0.1, inplace=False)\n",
              "        )\n",
              "        (feed_forward): FeedForwardComponent(\n",
              "          (dropout): Dropout(p=0.1, inplace=False)\n",
              "          (fc1): Linear(in_features=256, out_features=512, bias=True)\n",
              "          (fc2): Linear(in_features=512, out_features=256, bias=True)\n",
              "        )\n",
              "        (dropout): Dropout(p=0.1, inplace=False)\n",
              "      )\n",
              "      (1): EncoderLayer(\n",
              "        (self_attn_layer_norm): LayerNorm((256,), eps=1e-05, elementwise_affine=True)\n",
              "        (ff_layer_norm): LayerNorm((256,), eps=1e-05, elementwise_affine=True)\n",
              "        (self_attention): MultiHeadedAttentionComponent(\n",
              "          (fc_q): Linear(in_features=256, out_features=256, bias=True)\n",
              "          (fc_k): Linear(in_features=256, out_features=256, bias=True)\n",
              "          (fc_v): Linear(in_features=256, out_features=256, bias=True)\n",
              "          (fc_o): Linear(in_features=256, out_features=256, bias=True)\n",
              "          (dropout): Dropout(p=0.1, inplace=False)\n",
              "        )\n",
              "        (feed_forward): FeedForwardComponent(\n",
              "          (dropout): Dropout(p=0.1, inplace=False)\n",
              "          (fc1): Linear(in_features=256, out_features=512, bias=True)\n",
              "          (fc2): Linear(in_features=512, out_features=256, bias=True)\n",
              "        )\n",
              "        (dropout): Dropout(p=0.1, inplace=False)\n",
              "      )\n",
              "      (2): EncoderLayer(\n",
              "        (self_attn_layer_norm): LayerNorm((256,), eps=1e-05, elementwise_affine=True)\n",
              "        (ff_layer_norm): LayerNorm((256,), eps=1e-05, elementwise_affine=True)\n",
              "        (self_attention): MultiHeadedAttentionComponent(\n",
              "          (fc_q): Linear(in_features=256, out_features=256, bias=True)\n",
              "          (fc_k): Linear(in_features=256, out_features=256, bias=True)\n",
              "          (fc_v): Linear(in_features=256, out_features=256, bias=True)\n",
              "          (fc_o): Linear(in_features=256, out_features=256, bias=True)\n",
              "          (dropout): Dropout(p=0.1, inplace=False)\n",
              "        )\n",
              "        (feed_forward): FeedForwardComponent(\n",
              "          (dropout): Dropout(p=0.1, inplace=False)\n",
              "          (fc1): Linear(in_features=256, out_features=512, bias=True)\n",
              "          (fc2): Linear(in_features=512, out_features=256, bias=True)\n",
              "        )\n",
              "        (dropout): Dropout(p=0.1, inplace=False)\n",
              "      )\n",
              "    )\n",
              "    (dropout): Dropout(p=0.1, inplace=False)\n",
              "  )\n",
              "  (decoder): Decoder(\n",
              "    (tok_embedding): Embedding(4567, 256)\n",
              "    (pos_embedding): PositionalEncodingComponent(\n",
              "      (dropout): Dropout(p=0.1, inplace=False)\n",
              "    )\n",
              "    (layers): ModuleList(\n",
              "      (0): DecoderLayer(\n",
              "        (self_attn_layer_norm): LayerNorm((256,), eps=1e-05, elementwise_affine=True)\n",
              "        (enc_attn_layer_norm): LayerNorm((256,), eps=1e-05, elementwise_affine=True)\n",
              "        (ff_layer_norm): LayerNorm((256,), eps=1e-05, elementwise_affine=True)\n",
              "        (self_attention): MultiHeadedAttentionComponent(\n",
              "          (fc_q): Linear(in_features=256, out_features=256, bias=True)\n",
              "          (fc_k): Linear(in_features=256, out_features=256, bias=True)\n",
              "          (fc_v): Linear(in_features=256, out_features=256, bias=True)\n",
              "          (fc_o): Linear(in_features=256, out_features=256, bias=True)\n",
              "          (dropout): Dropout(p=0.1, inplace=False)\n",
              "        )\n",
              "        (encoder_attention): MultiHeadedAttentionComponent(\n",
              "          (fc_q): Linear(in_features=256, out_features=256, bias=True)\n",
              "          (fc_k): Linear(in_features=256, out_features=256, bias=True)\n",
              "          (fc_v): Linear(in_features=256, out_features=256, bias=True)\n",
              "          (fc_o): Linear(in_features=256, out_features=256, bias=True)\n",
              "          (dropout): Dropout(p=0.1, inplace=False)\n",
              "        )\n",
              "        (feed_forward): FeedForwardComponent(\n",
              "          (dropout): Dropout(p=0.1, inplace=False)\n",
              "          (fc1): Linear(in_features=256, out_features=512, bias=True)\n",
              "          (fc2): Linear(in_features=512, out_features=256, bias=True)\n",
              "        )\n",
              "        (dropout): Dropout(p=0.1, inplace=False)\n",
              "      )\n",
              "      (1): DecoderLayer(\n",
              "        (self_attn_layer_norm): LayerNorm((256,), eps=1e-05, elementwise_affine=True)\n",
              "        (enc_attn_layer_norm): LayerNorm((256,), eps=1e-05, elementwise_affine=True)\n",
              "        (ff_layer_norm): LayerNorm((256,), eps=1e-05, elementwise_affine=True)\n",
              "        (self_attention): MultiHeadedAttentionComponent(\n",
              "          (fc_q): Linear(in_features=256, out_features=256, bias=True)\n",
              "          (fc_k): Linear(in_features=256, out_features=256, bias=True)\n",
              "          (fc_v): Linear(in_features=256, out_features=256, bias=True)\n",
              "          (fc_o): Linear(in_features=256, out_features=256, bias=True)\n",
              "          (dropout): Dropout(p=0.1, inplace=False)\n",
              "        )\n",
              "        (encoder_attention): MultiHeadedAttentionComponent(\n",
              "          (fc_q): Linear(in_features=256, out_features=256, bias=True)\n",
              "          (fc_k): Linear(in_features=256, out_features=256, bias=True)\n",
              "          (fc_v): Linear(in_features=256, out_features=256, bias=True)\n",
              "          (fc_o): Linear(in_features=256, out_features=256, bias=True)\n",
              "          (dropout): Dropout(p=0.1, inplace=False)\n",
              "        )\n",
              "        (feed_forward): FeedForwardComponent(\n",
              "          (dropout): Dropout(p=0.1, inplace=False)\n",
              "          (fc1): Linear(in_features=256, out_features=512, bias=True)\n",
              "          (fc2): Linear(in_features=512, out_features=256, bias=True)\n",
              "        )\n",
              "        (dropout): Dropout(p=0.1, inplace=False)\n",
              "      )\n",
              "      (2): DecoderLayer(\n",
              "        (self_attn_layer_norm): LayerNorm((256,), eps=1e-05, elementwise_affine=True)\n",
              "        (enc_attn_layer_norm): LayerNorm((256,), eps=1e-05, elementwise_affine=True)\n",
              "        (ff_layer_norm): LayerNorm((256,), eps=1e-05, elementwise_affine=True)\n",
              "        (self_attention): MultiHeadedAttentionComponent(\n",
              "          (fc_q): Linear(in_features=256, out_features=256, bias=True)\n",
              "          (fc_k): Linear(in_features=256, out_features=256, bias=True)\n",
              "          (fc_v): Linear(in_features=256, out_features=256, bias=True)\n",
              "          (fc_o): Linear(in_features=256, out_features=256, bias=True)\n",
              "          (dropout): Dropout(p=0.1, inplace=False)\n",
              "        )\n",
              "        (encoder_attention): MultiHeadedAttentionComponent(\n",
              "          (fc_q): Linear(in_features=256, out_features=256, bias=True)\n",
              "          (fc_k): Linear(in_features=256, out_features=256, bias=True)\n",
              "          (fc_v): Linear(in_features=256, out_features=256, bias=True)\n",
              "          (fc_o): Linear(in_features=256, out_features=256, bias=True)\n",
              "          (dropout): Dropout(p=0.1, inplace=False)\n",
              "        )\n",
              "        (feed_forward): FeedForwardComponent(\n",
              "          (dropout): Dropout(p=0.1, inplace=False)\n",
              "          (fc1): Linear(in_features=256, out_features=512, bias=True)\n",
              "          (fc2): Linear(in_features=512, out_features=256, bias=True)\n",
              "        )\n",
              "        (dropout): Dropout(p=0.1, inplace=False)\n",
              "      )\n",
              "    )\n",
              "    (fc_out): Linear(in_features=256, out_features=4567, bias=True)\n",
              "    (dropout): Dropout(p=0.1, inplace=False)\n",
              "  )\n",
              ")"
            ]
          },
          "metadata": {
            "tags": []
          },
          "execution_count": 53
        }
      ]
    },
    {
      "cell_type": "code",
      "metadata": {
        "id": "Q0q23Cs8yo8f"
      },
      "source": [
        "import spacy\n",
        "spacy_en = spacy.load('en')\n",
        "\n",
        "def encode_inputs(input,vocab):\n",
        "\n",
        "  tokenized_input_ = [tok.text.lower() for tok in spacy_en.tokenizer(input)]\n",
        "  tokenized_input = ['<sos>'] + tokenized_input_ +['<eos>']\n",
        "\n",
        "  numericalized_input = [vocab[i] for i in tokenized_input]\n",
        "\n",
        "  tensor_input = torch.LongTensor([numericalized_input])\n",
        "  \n",
        "  return tensor_input,tokenized_input_\n",
        "\n",
        "def decode_outputs(output,vocab):\n",
        "  # output: [1,1,hid_dim]\n",
        "  predicted_token = output.argmax(-1)\n",
        "  return vocab[predicted_token.item()], predicted_token"
      ],
      "execution_count": 54,
      "outputs": []
    },
    {
      "cell_type": "code",
      "metadata": {
        "id": "_aM5tB6r2BcI"
      },
      "source": [
        "def display_attention(sentence, translation, attention, n_heads = 8, n_rows = 4, n_cols = 2):\n",
        "    \n",
        "    assert n_rows * n_cols == n_heads\n",
        "    \n",
        "    fig = plt.figure(figsize=(15,25))\n",
        "    \n",
        "    for i in range(n_heads):\n",
        "        \n",
        "        ax = fig.add_subplot(n_rows, n_cols, i+1)\n",
        "        \n",
        "        _attention = attention.squeeze(0)[i].cpu().detach().numpy()\n",
        "\n",
        "        cax = ax.matshow(_attention, cmap='bone')\n",
        "\n",
        "        ax.tick_params(labelsize=12)\n",
        "        ax.set_xticklabels(['']+['<sos>']+[t.lower() for t in sentence]+['<eos>'], \n",
        "                           rotation=45)\n",
        "        ax.set_yticklabels(['']+translation)\n",
        "\n",
        "        ax.xaxis.set_major_locator(ticker.MultipleLocator(1))\n",
        "        ax.yaxis.set_major_locator(ticker.MultipleLocator(1))\n",
        "\n",
        "    plt.show()"
      ],
      "execution_count": 55,
      "outputs": []
    },
    {
      "cell_type": "code",
      "metadata": {
        "id": "63t2JTVt2lmA"
      },
      "source": [
        "def print_decoder_output(decoder_outputs):\n",
        "  # print(decoder_outputs)\n",
        "  combined_output = \" \".join(decoder_outputs)\n",
        "  pruned_output = re.sub(r'\\n |\\n  ',r'\\n',combined_output)\n",
        "  # pruned_output = re.sub(\" . \",\".\",pruned_output)\n",
        "  # pruned_output = combined_output\n",
        "  print(pruned_output)\n"
      ],
      "execution_count": 56,
      "outputs": []
    },
    {
      "cell_type": "code",
      "metadata": {
        "colab": {
          "base_uri": "https://localhost:8080/"
        },
        "id": "3vXUPbhHyqBV",
        "outputId": "76ada811-e218-42aa-cdcd-ba0da0114b32"
      },
      "source": [
        " print(\" Enter q or quit to exit.\")\n",
        "\n",
        "answer_max_len = 200\n",
        "\n",
        "while(True):\n",
        "\n",
        "  input_ = input(\"Enter text:\")\n",
        "\n",
        "  if input_=='q' or input_=='quit':\n",
        "    break\n",
        "\n",
        "  src,tokenized_input_ = encode_inputs(input_,stoi)\n",
        "  src = src.to(device)\n",
        "  # src_mask = torch.ones([1,1,1,src.shape[-1]]).to(device)\n",
        "  src_mask = model.make_src_mask(src)\n",
        "\n",
        "  with torch.no_grad():\n",
        "    enc_src = model.encoder(src,src_mask)\n",
        "  \n",
        "  trg = '<sos>'\n",
        "  trg_indexes = [stoi[trg]]\n",
        "  # trg_mask = torch.ones([1,1,1,1]).to(device)\n",
        "\n",
        "  decoder_outputs = []\n",
        "  for i in range(answer_max_len):\n",
        "    trg_tensor = torch.LongTensor(trg_indexes).unsqueeze(0).to(device)\n",
        "    trg_mask = model.make_trg_mask(trg_tensor)\n",
        "    \n",
        "    with torch.no_grad():\n",
        "      decoder_output,encoder_decoder_attention = model.decoder(trg_tensor,enc_src,trg_mask,src_mask)\n",
        "\n",
        "    pred_token = decoder_output.argmax(2)[:,-1].item()\n",
        "\n",
        "    if pred_token == TRG.vocab.stoi[TRG.eos_token]:\n",
        "      break\n",
        "    decoder_outputs.append(itos[pred_token])\n",
        "    trg_indexes.append(pred_token)\n",
        "\n",
        "\n",
        "  print_decoder_output(decoder_outputs)\n",
        "  # display_attention(tokenized_input_,decoder_outputs,encoder_decoder_attention,DEC_HEADS)"
      ],
      "execution_count": null,
      "outputs": [
        {
          "output_type": "stream",
          "text": [
            " Enter q or quit to exit.\n",
            "Enter text:Write a Python Program to Check and print if a given year is a Leap Year\n"
          ],
          "name": "stdout"
        }
      ]
    },
    {
      "cell_type": "code",
      "metadata": {
        "colab": {
          "base_uri": "https://localhost:8080/"
        },
        "id": "bYCdNgDE3vLV",
        "outputId": "cb7785a4-d5de-46d2-9353-4a2b4f7a23f3"
      },
      "source": [
        "check_question = \"Write a Python Program to print a list of fibonacci series for a given no using closer\"\n",
        "for i,j in enumerate(questions):\n",
        "  if j == check_question:\n",
        "    print(i)"
      ],
      "execution_count": 65,
      "outputs": [
        {
          "output_type": "stream",
          "text": [
            "3464\n"
          ],
          "name": "stdout"
        }
      ]
    },
    {
      "cell_type": "code",
      "metadata": {
        "colab": {
          "base_uri": "https://localhost:8080/",
          "height": 54
        },
        "id": "MN4JaQZf4Dbx",
        "outputId": "e83ee471-f091-4df6-e7e2-e48c8f8274f4"
      },
      "source": [
        "answers[3464]"
      ],
      "execution_count": 67,
      "outputs": [
        {
          "output_type": "execute_result",
          "data": {
            "application/vnd.google.colaboratory.intrinsic+json": {
              "type": "string"
            },
            "text/plain": [
              "\"def fib():\\n\\tcache = {1:1, 2:1}\\n\\tdef calc_fib(n):\\n\\t\\tif n not in cache:\\n\\t\\t\\tprint(f'Calculating fib({n})')\\n\\t\\t\\tcache[n] = calc_fib(n - 1) + calc_fib(n - 2)\\n\\t\\treturn cache[n]\\n\\treturn calc_fib\\n\""
            ]
          },
          "metadata": {
            "tags": []
          },
          "execution_count": 67
        }
      ]
    }
  ]
}
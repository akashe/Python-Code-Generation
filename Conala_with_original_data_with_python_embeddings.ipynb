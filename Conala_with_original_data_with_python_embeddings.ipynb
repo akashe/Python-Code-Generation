{
  "nbformat": 4,
  "nbformat_minor": 0,
  "metadata": {
    "colab": {
      "name": "Conala with original data with python embeddings.ipynb",
      "provenance": [],
      "collapsed_sections": [],
      "authorship_tag": "ABX9TyO0sczP9FhIuC4AnWAD/eEG",
      "include_colab_link": true
    },
    "kernelspec": {
      "name": "python3",
      "display_name": "Python 3"
    },
    "accelerator": "GPU"
  },
  "cells": [
    {
      "cell_type": "markdown",
      "metadata": {
        "id": "view-in-github",
        "colab_type": "text"
      },
      "source": [
        "<a href=\"https://colab.research.google.com/github/akashe/Python-Code-Generation/blob/main/Conala_with_original_data_with_python_embeddings.ipynb\" target=\"_parent\"><img src=\"https://colab.research.google.com/assets/colab-badge.svg\" alt=\"Open In Colab\"/></a>"
      ]
    },
    {
      "cell_type": "code",
      "metadata": {
        "colab": {
          "base_uri": "https://localhost:8080/"
        },
        "id": "FwZ6BsshCGZv",
        "outputId": "9886decb-5337-42e6-ec14-907135167aaa"
      },
      "source": [
        "!pip install rouge"
      ],
      "execution_count": 1,
      "outputs": [
        {
          "output_type": "stream",
          "text": [
            "Collecting rouge\n",
            "  Downloading https://files.pythonhosted.org/packages/43/cc/e18e33be20971ff73a056ebdb023476b5a545e744e3fc22acd8c758f1e0d/rouge-1.0.0-py3-none-any.whl\n",
            "Requirement already satisfied: six in /usr/local/lib/python3.7/dist-packages (from rouge) (1.15.0)\n",
            "Installing collected packages: rouge\n",
            "Successfully installed rouge-1.0.0\n"
          ],
          "name": "stdout"
        }
      ]
    },
    {
      "cell_type": "code",
      "metadata": {
        "id": "h3jYaF2NxaFI"
      },
      "source": [
        "import torch\n",
        "import torch.nn as nn\n",
        "import torch.optim as optim\n",
        "\n",
        "import torchtext\n",
        "from torchtext.legacy import data\n",
        "from torchtext.legacy.data import Field, BucketIterator\n",
        "\n",
        "import matplotlib.pyplot as plt\n",
        "import matplotlib.ticker as ticker\n",
        "\n",
        "import spacy\n",
        "import numpy as np\n",
        "\n",
        "import random\n",
        "import math\n",
        "import time\n",
        "import pickle\n",
        "import json\n",
        "import re\n",
        "\n",
        "from rouge import Rouge"
      ],
      "execution_count": 2,
      "outputs": []
    },
    {
      "cell_type": "code",
      "metadata": {
        "colab": {
          "base_uri": "https://localhost:8080/"
        },
        "id": "0OMTNG2PxhOq",
        "outputId": "3882241e-3caf-47a5-b359-eeea6cf13398"
      },
      "source": [
        "! git clone https://github.com/akashe/Python-Code-Generation"
      ],
      "execution_count": 3,
      "outputs": [
        {
          "output_type": "stream",
          "text": [
            "Cloning into 'Python-Code-Generation'...\n",
            "remote: Enumerating objects: 146, done.\u001b[K\n",
            "remote: Counting objects: 100% (146/146), done.\u001b[K\n",
            "remote: Compressing objects: 100% (116/116), done.\u001b[K\n",
            "remote: Total 146 (delta 80), reused 78 (delta 27), pack-reused 0\u001b[K\n",
            "Receiving objects: 100% (146/146), 15.28 MiB | 35.24 MiB/s, done.\n",
            "Resolving deltas: 100% (80/80), done.\n"
          ],
          "name": "stdout"
        }
      ]
    },
    {
      "cell_type": "code",
      "metadata": {
        "id": "rY-aGuxDxist"
      },
      "source": [
        "import sys\n",
        "sys.path.append(\"/content/Python-Code-Generation/\")"
      ],
      "execution_count": 4,
      "outputs": []
    },
    {
      "cell_type": "code",
      "metadata": {
        "id": "O9tutyvZxkrg"
      },
      "source": [
        "from data_processing import getTokenizer,getData"
      ],
      "execution_count": 5,
      "outputs": []
    },
    {
      "cell_type": "code",
      "metadata": {
        "colab": {
          "base_uri": "https://localhost:8080/"
        },
        "id": "cTvI-Pb_xl1m",
        "outputId": "ed67b088-1361-4bb6-e6a7-1f8cd9648483"
      },
      "source": [
        "!wget -c \"http://www.phontron.com/download/conala-corpus-v1.1.zip\""
      ],
      "execution_count": 6,
      "outputs": [
        {
          "output_type": "stream",
          "text": [
            "--2021-03-22 10:00:41--  http://www.phontron.com/download/conala-corpus-v1.1.zip\n",
            "Resolving www.phontron.com (www.phontron.com)... 208.113.196.149\n",
            "Connecting to www.phontron.com (www.phontron.com)|208.113.196.149|:80... connected.\n",
            "HTTP request sent, awaiting response... 200 OK\n",
            "Length: 52105440 (50M) [application/zip]\n",
            "Saving to: ‘conala-corpus-v1.1.zip’\n",
            "\n",
            "conala-corpus-v1.1. 100%[===================>]  49.69M  26.2MB/s    in 1.9s    \n",
            "\n",
            "2021-03-22 10:00:43 (26.2 MB/s) - ‘conala-corpus-v1.1.zip’ saved [52105440/52105440]\n",
            "\n"
          ],
          "name": "stdout"
        }
      ]
    },
    {
      "cell_type": "code",
      "metadata": {
        "colab": {
          "base_uri": "https://localhost:8080/"
        },
        "id": "pvNkOb54xmQX",
        "outputId": "3f33b436-7afc-4ac6-be2d-4668a6091a74"
      },
      "source": [
        "!unzip -n conala-corpus-v1.1.zip"
      ],
      "execution_count": 7,
      "outputs": [
        {
          "output_type": "stream",
          "text": [
            "Archive:  conala-corpus-v1.1.zip\n",
            "   creating: conala-corpus/\n",
            "  inflating: conala-corpus/conala-mined.jsonl  \n",
            "  inflating: conala-corpus/conala-train.json  \n",
            "  inflating: conala-corpus/conala-test.json  \n"
          ],
          "name": "stdout"
        }
      ]
    },
    {
      "cell_type": "code",
      "metadata": {
        "colab": {
          "base_uri": "https://localhost:8080/"
        },
        "id": "En3A5BQWxn9P",
        "outputId": "d8304af7-25df-4569-c2dd-472fd0b77fc4"
      },
      "source": [
        "!head -20 conala-corpus/conala-test.json"
      ],
      "execution_count": 8,
      "outputs": [
        {
          "output_type": "stream",
          "text": [
            "[\n",
            "  {\n",
            "    \"intent\": \"How can I send a signal from a python program?\",\n",
            "    \"rewritten_intent\": \"send a signal `signal.SIGUSR1` to the current process\",\n",
            "    \"snippet\": \"os.kill(os.getpid(), signal.SIGUSR1)\",\n",
            "    \"question_id\": 15080500\n",
            "  },\n",
            "  {\n",
            "    \"intent\": \"Decode Hex String in Python 3\",\n",
            "    \"rewritten_intent\": \"decode a hex string '4a4b4c' to UTF-8.\",\n",
            "    \"snippet\": \"bytes.fromhex('4a4b4c').decode('utf-8')\",\n",
            "    \"question_id\": 3283984\n",
            "  },\n",
            "  {\n",
            "    \"intent\": \"check if all elements in a list are identical\",\n",
            "    \"rewritten_intent\": \"check if all elements in list `myList` are identical\",\n",
            "    \"snippet\": \"all(x == myList[0] for x in myList)\",\n",
            "    \"question_id\": 3844801\n",
            "  },\n",
            "  {\n"
          ],
          "name": "stdout"
        }
      ]
    },
    {
      "cell_type": "code",
      "metadata": {
        "id": "zjinuEdDxr4n"
      },
      "source": [
        "questions, answers = [],[]"
      ],
      "execution_count": 9,
      "outputs": []
    },
    {
      "cell_type": "code",
      "metadata": {
        "id": "-PpIlzVNxtNI"
      },
      "source": [
        "# loading train json\n",
        "f = open(\"/content/conala-corpus/conala-train.json\",\"r\")\n",
        "train_file = json.load(f)\n",
        "f.close()"
      ],
      "execution_count": 10,
      "outputs": []
    },
    {
      "cell_type": "code",
      "metadata": {
        "id": "QriUuRU4xuiH"
      },
      "source": [
        "for num,i in enumerate(train_file):\n",
        "  if i['intent'] is not None:\n",
        "    questions.append(i['intent'])\n",
        "    answers.append(i['snippet'])"
      ],
      "execution_count": 11,
      "outputs": []
    },
    {
      "cell_type": "code",
      "metadata": {
        "id": "OK27P2rsxwNE"
      },
      "source": [
        "# loading train json\n",
        "f = open(\"/content/conala-corpus/conala-test.json\",\"r\")\n",
        "test_file = json.load(f)\n",
        "f.close()"
      ],
      "execution_count": 12,
      "outputs": []
    },
    {
      "cell_type": "code",
      "metadata": {
        "id": "WKWO3SymxxLB"
      },
      "source": [
        "for num,i in enumerate(test_file):\n",
        "  if i['intent'] is not None:\n",
        "    questions.append(i['intent'])\n",
        "    answers.append(i['snippet'])\n"
      ],
      "execution_count": 13,
      "outputs": []
    },
    {
      "cell_type": "code",
      "metadata": {
        "id": "oRJSvV_w9qiY"
      },
      "source": [
        "# questions[50:70],answers[50:70]"
      ],
      "execution_count": 14,
      "outputs": []
    },
    {
      "cell_type": "code",
      "metadata": {
        "id": "fq185vXoxyvq"
      },
      "source": [
        "questions_, answers_ = getData(\"/content/Python-Code-Generation/data/english_python_data_pruned.txt\")"
      ],
      "execution_count": 15,
      "outputs": []
    },
    {
      "cell_type": "code",
      "metadata": {
        "id": "6sLzaWVxxzMe"
      },
      "source": [
        "# Setting max word len\n",
        "max_word_len = 301"
      ],
      "execution_count": 16,
      "outputs": []
    },
    {
      "cell_type": "code",
      "metadata": {
        "colab": {
          "base_uri": "https://localhost:8080/"
        },
        "id": "j1xBUHYmx0mF",
        "outputId": "d7a25e00-33aa-4b41-9c61-4f175c62f9ca"
      },
      "source": [
        "# removing examples with len more than max_word_len\n",
        "# Only checking in original data because I checked in CONALA data and answers their dont exceed 301.\n",
        "pruned_questions = []\n",
        "pruned_answers = []\n",
        "for j,i in zip(questions_,answers_):\n",
        "  tokens = getTokenizer(i)\n",
        "  if not len(tokens) > max_word_len:\n",
        "    pruned_answers.append(i)\n",
        "    pruned_questions.append(j) \n",
        "\n",
        "print(len(pruned_answers))\n",
        "answers_ = pruned_answers\n",
        "questions_ = pruned_questions"
      ],
      "execution_count": 17,
      "outputs": [
        {
          "output_type": "stream",
          "text": [
            "Error in tokenization\n",
            "3058\n"
          ],
          "name": "stdout"
        }
      ]
    },
    {
      "cell_type": "code",
      "metadata": {
        "id": "t5sUoxQGx1-a"
      },
      "source": [
        "questions = questions + questions_\n",
        "answers = answers + answers_"
      ],
      "execution_count": 18,
      "outputs": []
    },
    {
      "cell_type": "code",
      "metadata": {
        "colab": {
          "base_uri": "https://localhost:8080/"
        },
        "id": "liZsYtBQx3U7",
        "outputId": "568394ab-ab7e-46a7-cc24-852e3e7b5658"
      },
      "source": [
        "questions[100],answers[100]"
      ],
      "execution_count": 19,
      "outputs": [
        {
          "output_type": "execute_result",
          "data": {
            "text/plain": [
              "('Clicking a link using selenium using python',\n",
              " \"driver.find_element_by_xpath('xpath').click()\")"
            ]
          },
          "metadata": {
            "tags": []
          },
          "execution_count": 19
        }
      ]
    },
    {
      "cell_type": "code",
      "metadata": {
        "colab": {
          "base_uri": "https://localhost:8080/"
        },
        "id": "VB-Z3Yu-x4Yz",
        "outputId": "15afe996-ad43-4803-b410-307a0b54a959"
      },
      "source": [
        "print(len(questions),len(answers))"
      ],
      "execution_count": 20,
      "outputs": [
        {
          "output_type": "stream",
          "text": [
            "5937 5937\n"
          ],
          "name": "stdout"
        }
      ]
    },
    {
      "cell_type": "code",
      "metadata": {
        "id": "QHjZk5zxx5ik"
      },
      "source": [
        "SEED = 1327\n",
        "\n",
        "random.seed(SEED)\n",
        "np.random.seed(SEED)\n",
        "torch.manual_seed(SEED)\n",
        "torch.cuda.manual_seed(SEED)\n",
        "torch.backends.cudnn.deterministic = True"
      ],
      "execution_count": 21,
      "outputs": []
    },
    {
      "cell_type": "code",
      "metadata": {
        "colab": {
          "base_uri": "https://localhost:8080/"
        },
        "id": "iPECgzYox6xt",
        "outputId": "6f79bc7a-57dd-4e79-dba2-944bd0607cda"
      },
      "source": [
        "!python -m spacy download en"
      ],
      "execution_count": 22,
      "outputs": [
        {
          "output_type": "stream",
          "text": [
            "Requirement already satisfied: en_core_web_sm==2.2.5 from https://github.com/explosion/spacy-models/releases/download/en_core_web_sm-2.2.5/en_core_web_sm-2.2.5.tar.gz#egg=en_core_web_sm==2.2.5 in /usr/local/lib/python3.7/dist-packages (2.2.5)\n",
            "Requirement already satisfied: spacy>=2.2.2 in /usr/local/lib/python3.7/dist-packages (from en_core_web_sm==2.2.5) (2.2.4)\n",
            "Requirement already satisfied: requests<3.0.0,>=2.13.0 in /usr/local/lib/python3.7/dist-packages (from spacy>=2.2.2->en_core_web_sm==2.2.5) (2.23.0)\n",
            "Requirement already satisfied: wasabi<1.1.0,>=0.4.0 in /usr/local/lib/python3.7/dist-packages (from spacy>=2.2.2->en_core_web_sm==2.2.5) (0.8.2)\n",
            "Requirement already satisfied: plac<1.2.0,>=0.9.6 in /usr/local/lib/python3.7/dist-packages (from spacy>=2.2.2->en_core_web_sm==2.2.5) (1.1.3)\n",
            "Requirement already satisfied: preshed<3.1.0,>=3.0.2 in /usr/local/lib/python3.7/dist-packages (from spacy>=2.2.2->en_core_web_sm==2.2.5) (3.0.5)\n",
            "Requirement already satisfied: catalogue<1.1.0,>=0.0.7 in /usr/local/lib/python3.7/dist-packages (from spacy>=2.2.2->en_core_web_sm==2.2.5) (1.0.0)\n",
            "Requirement already satisfied: tqdm<5.0.0,>=4.38.0 in /usr/local/lib/python3.7/dist-packages (from spacy>=2.2.2->en_core_web_sm==2.2.5) (4.41.1)\n",
            "Requirement already satisfied: blis<0.5.0,>=0.4.0 in /usr/local/lib/python3.7/dist-packages (from spacy>=2.2.2->en_core_web_sm==2.2.5) (0.4.1)\n",
            "Requirement already satisfied: thinc==7.4.0 in /usr/local/lib/python3.7/dist-packages (from spacy>=2.2.2->en_core_web_sm==2.2.5) (7.4.0)\n",
            "Requirement already satisfied: murmurhash<1.1.0,>=0.28.0 in /usr/local/lib/python3.7/dist-packages (from spacy>=2.2.2->en_core_web_sm==2.2.5) (1.0.5)\n",
            "Requirement already satisfied: setuptools in /usr/local/lib/python3.7/dist-packages (from spacy>=2.2.2->en_core_web_sm==2.2.5) (54.1.2)\n",
            "Requirement already satisfied: numpy>=1.15.0 in /usr/local/lib/python3.7/dist-packages (from spacy>=2.2.2->en_core_web_sm==2.2.5) (1.19.5)\n",
            "Requirement already satisfied: cymem<2.1.0,>=2.0.2 in /usr/local/lib/python3.7/dist-packages (from spacy>=2.2.2->en_core_web_sm==2.2.5) (2.0.5)\n",
            "Requirement already satisfied: srsly<1.1.0,>=1.0.2 in /usr/local/lib/python3.7/dist-packages (from spacy>=2.2.2->en_core_web_sm==2.2.5) (1.0.5)\n",
            "Requirement already satisfied: certifi>=2017.4.17 in /usr/local/lib/python3.7/dist-packages (from requests<3.0.0,>=2.13.0->spacy>=2.2.2->en_core_web_sm==2.2.5) (2020.12.5)\n",
            "Requirement already satisfied: idna<3,>=2.5 in /usr/local/lib/python3.7/dist-packages (from requests<3.0.0,>=2.13.0->spacy>=2.2.2->en_core_web_sm==2.2.5) (2.10)\n",
            "Requirement already satisfied: chardet<4,>=3.0.2 in /usr/local/lib/python3.7/dist-packages (from requests<3.0.0,>=2.13.0->spacy>=2.2.2->en_core_web_sm==2.2.5) (3.0.4)\n",
            "Requirement already satisfied: urllib3!=1.25.0,!=1.25.1,<1.26,>=1.21.1 in /usr/local/lib/python3.7/dist-packages (from requests<3.0.0,>=2.13.0->spacy>=2.2.2->en_core_web_sm==2.2.5) (1.24.3)\n",
            "Requirement already satisfied: importlib-metadata>=0.20; python_version < \"3.8\" in /usr/local/lib/python3.7/dist-packages (from catalogue<1.1.0,>=0.0.7->spacy>=2.2.2->en_core_web_sm==2.2.5) (3.7.2)\n",
            "Requirement already satisfied: typing-extensions>=3.6.4; python_version < \"3.8\" in /usr/local/lib/python3.7/dist-packages (from importlib-metadata>=0.20; python_version < \"3.8\"->catalogue<1.1.0,>=0.0.7->spacy>=2.2.2->en_core_web_sm==2.2.5) (3.7.4.3)\n",
            "Requirement already satisfied: zipp>=0.5 in /usr/local/lib/python3.7/dist-packages (from importlib-metadata>=0.20; python_version < \"3.8\"->catalogue<1.1.0,>=0.0.7->spacy>=2.2.2->en_core_web_sm==2.2.5) (3.4.1)\n",
            "\u001b[38;5;2m✔ Download and installation successful\u001b[0m\n",
            "You can now load the model via spacy.load('en_core_web_sm')\n",
            "\u001b[38;5;2m✔ Linking successful\u001b[0m\n",
            "/usr/local/lib/python3.7/dist-packages/en_core_web_sm -->\n",
            "/usr/local/lib/python3.7/dist-packages/spacy/data/en\n",
            "You can now load the model via spacy.load('en')\n"
          ],
          "name": "stdout"
        }
      ]
    },
    {
      "cell_type": "code",
      "metadata": {
        "id": "0RKCvzMnx7_v"
      },
      "source": [
        "spacy_en = spacy.load('en')"
      ],
      "execution_count": 23,
      "outputs": []
    },
    {
      "cell_type": "code",
      "metadata": {
        "id": "5iT71I83x9FP"
      },
      "source": [
        "def tokenize_en(text):\n",
        "    \"\"\"\n",
        "    Tokenizes English text from a string into a list of strings\n",
        "    \"\"\"\n",
        "    return [tok.text for tok in spacy_en.tokenizer(text)]"
      ],
      "execution_count": 24,
      "outputs": []
    },
    {
      "cell_type": "code",
      "metadata": {
        "id": "BNLt9Bhfx-vp"
      },
      "source": [
        "SRC = Field(tokenize = tokenize_en, \n",
        "            init_token = '<sos>', \n",
        "            eos_token = '<eos>', \n",
        "            lower = True, \n",
        "            batch_first = True)\n",
        "\n",
        "TRG = Field(tokenize = getTokenizer, \n",
        "            init_token = '<sos>', \n",
        "            eos_token = '<eos>', \n",
        "            lower = False, \n",
        "            batch_first = True)"
      ],
      "execution_count": 25,
      "outputs": []
    },
    {
      "cell_type": "code",
      "metadata": {
        "colab": {
          "base_uri": "https://localhost:8080/"
        },
        "id": "q0dwLgsxx_Nl",
        "outputId": "cee68609-43dd-4138-f910-162c03689819"
      },
      "source": [
        "fields = [('src', SRC), ('trg', TRG)]\n",
        "\n",
        "Examples = [data.Example.fromlist([i,j], fields) for i,j in zip(questions,answers)]\n",
        "Dataset = data.Dataset(Examples, fields)"
      ],
      "execution_count": 26,
      "outputs": [
        {
          "output_type": "stream",
          "text": [
            "Error in tokenization\n"
          ],
          "name": "stdout"
        }
      ]
    },
    {
      "cell_type": "code",
      "metadata": {
        "id": "bAX890DdyA6e"
      },
      "source": [
        "train_data,valid_data = Dataset.split(split_ratio=[0.90,0.10])"
      ],
      "execution_count": 27,
      "outputs": []
    },
    {
      "cell_type": "code",
      "metadata": {
        "id": "8jz4qsZPyBdw"
      },
      "source": [
        "SRC.build_vocab(train_data, min_freq = 1)\n",
        "TRG.build_vocab(train_data, min_freq = 1)"
      ],
      "execution_count": 28,
      "outputs": []
    },
    {
      "cell_type": "code",
      "metadata": {
        "colab": {
          "base_uri": "https://localhost:8080/"
        },
        "id": "-Fdl1V03yDlw",
        "outputId": "55baa845-49f9-44f6-aba5-b5f5ea800ce1"
      },
      "source": [
        "print(len(SRC.vocab))\n",
        "print(len(TRG.vocab))"
      ],
      "execution_count": 29,
      "outputs": [
        {
          "output_type": "stream",
          "text": [
            "2890\n",
            "4531\n"
          ],
          "name": "stdout"
        }
      ]
    },
    {
      "cell_type": "code",
      "metadata": {
        "id": "bKq0T5zAyEsH"
      },
      "source": [
        "# Dumps dicts\n",
        "with open(\"/content/SRC_stio_local\",\"wb\") as f:\n",
        "  pickle.dump(SRC.vocab.stoi,f)\n",
        "with open(\"/content/TRG_itos_local\",\"wb\") as f:\n",
        "  pickle.dump(TRG.vocab.itos,f)"
      ],
      "execution_count": 30,
      "outputs": []
    },
    {
      "cell_type": "code",
      "metadata": {
        "colab": {
          "base_uri": "https://localhost:8080/"
        },
        "id": "AkRq2zvqyJCK",
        "outputId": "71f1e6c9-0713-4662-819f-4fa8288ba47b"
      },
      "source": [
        "device = torch.device('cuda' if torch.cuda.is_available() else 'cpu')\n",
        "device"
      ],
      "execution_count": 31,
      "outputs": [
        {
          "output_type": "execute_result",
          "data": {
            "text/plain": [
              "device(type='cuda')"
            ]
          },
          "metadata": {
            "tags": []
          },
          "execution_count": 31
        }
      ]
    },
    {
      "cell_type": "code",
      "metadata": {
        "id": "JvDEFNU2yKph"
      },
      "source": [
        "BATCH_SIZE = 32\n",
        "\n",
        "train_iterator, valid_iterator = BucketIterator.splits(\n",
        "    (train_data, valid_data), \n",
        "     batch_size = BATCH_SIZE,\n",
        "     sort_key = lambda x: len(x.trg),\n",
        "     device = device)"
      ],
      "execution_count": 32,
      "outputs": []
    },
    {
      "cell_type": "code",
      "metadata": {
        "id": "fxfoYfe0yLIy"
      },
      "source": [
        "class PositionalEncodingComponent(nn.Module):\n",
        "  '''\n",
        "  Class to encode positional information to tokens.\n",
        "  \n",
        "\n",
        "  '''\n",
        "  def __init__(self,hid_dim,device,dropout=0.2,max_len=5000):\n",
        "    super().__init__()\n",
        "\n",
        "    assert hid_dim%2==0 # If not, it will result error in allocation to positional_encodings[:,1::2] later\n",
        "\n",
        "    self.dropout = nn.Dropout(dropout)\n",
        "\n",
        "    self.positional_encodings = torch.zeros(max_len,hid_dim)\n",
        "\n",
        "    pos = torch.arange(0,max_len).unsqueeze(1) # pos : [max_len,1]\n",
        "    div_term  = torch.exp(-torch.arange(0,hid_dim,2)*math.log(10000.0)/hid_dim) # Calculating value of 1/(10000^(2i/hid_dim)) in log space and then exponentiating it\n",
        "    # div_term: [hid_dim//2]\n",
        "\n",
        "    self.positional_encodings[:,0::2] = torch.sin(pos*div_term) # pos*div_term [max_len,hid_dim//2]\n",
        "    self.positional_encodings[:,1::2] = torch.cos(pos*div_term) \n",
        "\n",
        "    self.positional_encodings = self.positional_encodings.unsqueeze(0) # To account for batch_size in inputs\n",
        "\n",
        "    self.device = device\n",
        "\n",
        "  def forward(self,x):\n",
        "    x = x + self.positional_encodings[:,:x.size(1)].detach().to(self.device)\n",
        "    return self.dropout(x)"
      ],
      "execution_count": 33,
      "outputs": []
    },
    {
      "cell_type": "code",
      "metadata": {
        "id": "2ZoZTEBayMS7"
      },
      "source": [
        "class FeedForwardComponent(nn.Module):\n",
        "  '''\n",
        "  Class for pointwise feed forward connections\n",
        "  '''\n",
        "  def __init__(self,hid_dim,pf_dim,dropout):\n",
        "    super().__init__()\n",
        "\n",
        "    self.dropout = nn.Dropout(dropout)\n",
        "\n",
        "    self.fc1 = nn.Linear(hid_dim,pf_dim)\n",
        "    self.fc2 = nn.Linear(pf_dim,hid_dim)\n",
        "\n",
        "  def forward(self,x):\n",
        "\n",
        "    # x : [batch_size,seq_len,hid_dim]\n",
        "    x = self.dropout(torch.relu(self.fc1(x)))\n",
        "\n",
        "    # x : [batch_size,seq_len,pf_dim]\n",
        "    x = self.fc2(x)\n",
        "\n",
        "    # x : [batch_size,seq_len,hid_dim]\n",
        "    return x"
      ],
      "execution_count": 34,
      "outputs": []
    },
    {
      "cell_type": "code",
      "metadata": {
        "id": "cE3EQX0dyNns"
      },
      "source": [
        "class MultiHeadedAttentionComponent(nn.Module):\n",
        "  '''\n",
        "  Multiheaded attention Component. This implementation also supports mask. \n",
        "  The reason for mask that in Decoder, we don't want attention mechanism to get\n",
        "  important information from future tokens.\n",
        "  '''\n",
        "  def __init__(self,hid_dim, n_heads, dropout, device):\n",
        "    super().__init__()\n",
        "\n",
        "    assert hid_dim % n_heads == 0 # Since we split hid_dims into n_heads\n",
        "\n",
        "    self.hid_dim = hid_dim\n",
        "    self.n_heads = n_heads # no of heads in 'multiheaded' attention\n",
        "    self.head_dim = hid_dim//n_heads # dims of each head\n",
        "\n",
        "    # Transformation from source vector to query vector\n",
        "    self.fc_q = nn.Linear(hid_dim,hid_dim)\n",
        "\n",
        "    # Transformation from source vector to key vector\n",
        "    self.fc_k = nn.Linear(hid_dim,hid_dim)\n",
        "\n",
        "    # Transformation from source vector to value vector\n",
        "    self.fc_v = nn.Linear(hid_dim,hid_dim)\n",
        "\n",
        "    self.fc_o = nn.Linear(hid_dim,hid_dim)\n",
        "\n",
        "    self.dropout = nn.Dropout(dropout)\n",
        "\n",
        "    # Used in self attention for smoother gradients\n",
        "    self.scale = torch.sqrt(torch.FloatTensor([self.head_dim])).to(device)\n",
        "\n",
        "  def forward(self,query,key,value,mask=None):\n",
        "\n",
        "    #query : [batch_size, query_len, hid_dim]\n",
        "    #key : [batch_size, key_len, hid_dim]\n",
        "    #value : [batch_size, value_len, hid_dim]\n",
        "\n",
        "    batch_size = query.shape[0]\n",
        "\n",
        "    # Transforming quey,key,values\n",
        "    Q = self.fc_q(query)\n",
        "    K = self.fc_k(key)\n",
        "    V = self.fc_v(value)\n",
        "\n",
        "    #Q : [batch_size, query_len, hid_dim]\n",
        "    #K : [batch_size, key_len, hid_dim]\n",
        "    #V : [batch_size, value_len,hid_dim]\n",
        "\n",
        "    # Changing shapes to acocmadate n_heads information\n",
        "    Q = Q.view(batch_size, -1, self.n_heads, self.head_dim).permute(0, 2, 1, 3)\n",
        "    K = K.view(batch_size, -1, self.n_heads, self.head_dim).permute(0, 2, 1, 3)\n",
        "    V = V.view(batch_size, -1, self.n_heads, self.head_dim).permute(0, 2, 1, 3)\n",
        "\n",
        "    #Q : [batch_size, n_heads, query_len, head_dim]\n",
        "    #K : [batch_size, n_heads, key_len, head_dim]\n",
        "    #V : [batch_size, n_heads, value_len, head_dim]\n",
        "\n",
        "    # Calculating alpha\n",
        "    score = torch.matmul(Q,K.permute(0,1,3,2))/self.scale\n",
        "    # score : [batch_size, n_heads, query_len, key_len]\n",
        "\n",
        "    if mask is not None:\n",
        "      score = score.masked_fill(mask==0,-1e10)\n",
        "\n",
        "    alpha = torch.softmax(score,dim=-1)\n",
        "    # alpha : [batch_size, n_heads, query_len, key_len]\n",
        "\n",
        "    # Get the final self-attention  vector\n",
        "    x = torch.matmul(self.dropout(alpha),V)\n",
        "    # x : [batch_size, n_heads, query_len, head_dim]\n",
        "\n",
        "    # Reshaping self attention vector to concatenate\n",
        "    x = x.permute(0,2,1,3).contiguous()\n",
        "    # x : [batch_size, query_len, n_heads, head_dim]\n",
        "\n",
        "    x = x.view(batch_size,-1,self.hid_dim)\n",
        "    # x: [batch_size, query_len, hid_dim]\n",
        "\n",
        "    # Transforming concatenated outputs \n",
        "    x = self.fc_o(x)\n",
        "    #x : [batch_size, query_len, hid_dim] \n",
        "\n",
        "    return x, alpha"
      ],
      "execution_count": 35,
      "outputs": []
    },
    {
      "cell_type": "code",
      "metadata": {
        "id": "x0o8hEs2yOvl"
      },
      "source": [
        "class EncoderLayer(nn.Module):  \n",
        "  '''\n",
        "  Operations of a single layer in an Encoder. An Encoder employs multiple such layers. Each layer contains:\n",
        "  1) multihead attention, folllowed by\n",
        "  2) LayerNorm of addition of multihead attention output and input to the layer, followed by\n",
        "  3) FeedForward connections, followed by\n",
        "  4) LayerNorm of addition of FeedForward outputs and output of previous layerNorm.\n",
        "  '''\n",
        "  def __init__(self, hid_dim,n_heads,pf_dim,dropout,device):\n",
        "    super().__init__()\n",
        "    \n",
        "    self.self_attn_layer_norm = nn. LayerNorm(hid_dim) #Layer norm after self-attention\n",
        "    self.ff_layer_norm = nn.LayerNorm(hid_dim) # Layer norm after FeedForward component\n",
        "\n",
        "    self.self_attention = MultiHeadedAttentionComponent(hid_dim,n_heads,dropout,device)\n",
        "    self.feed_forward = FeedForwardComponent(hid_dim,pf_dim,dropout)\n",
        "\n",
        "    self.dropout = nn.Dropout(dropout)\n",
        "    \n",
        "  def forward(self,src,src_mask):\n",
        "    \n",
        "    # src : [batch_size, src_len, hid_dim]\n",
        "    # src_mask : [batch_size, 1, 1, src_len]\n",
        "\n",
        "    # get self-attention\n",
        "    _src, _ = self.self_attention(src,src,src,src_mask)\n",
        "\n",
        "    # LayerNorm after dropout\n",
        "    src = self.self_attn_layer_norm(src + self.dropout(_src))\n",
        "    # src : [batch_size, src_len, hid_dim]\n",
        "\n",
        "    # FeedForward\n",
        "    _src = self.feed_forward(src)\n",
        "\n",
        "    # layerNorm after dropout\n",
        "    src = self.ff_layer_norm(src + self.dropout(_src))\n",
        "    # src: [batch_size, src_len, hid_dim]\n",
        "\n",
        "    return src"
      ],
      "execution_count": 36,
      "outputs": []
    },
    {
      "cell_type": "code",
      "metadata": {
        "id": "8USmzaqwyP58"
      },
      "source": [
        "class DecoderLayer(nn.Module):\n",
        "  '''\n",
        "  Operations of a single layer in an Decoder. An Decoder employs multiple such layers. Each layer contains:\n",
        "  1) masked decoder self attention, followed by\n",
        "  2) LayerNorm of addition of previous attention output and input to the layer,, followed by\n",
        "  3) encoder self attention, followed by\n",
        "  4) LayerNorm of addition of result of encoder self attention and its input, followed by\n",
        "  5) FeedForward connections, followed by\n",
        "  6) LayerNorm of addition of Feedforward results and its input.\n",
        "  '''\n",
        "  def __init__(self,hid_dim,n_heads,pf_dim,dropout,device):\n",
        "    super().__init__()\n",
        "\n",
        "    self.self_attn_layer_norm = nn.LayerNorm(hid_dim)\n",
        "    self.enc_attn_layer_norm = nn.LayerNorm(hid_dim)\n",
        "    self.ff_layer_norm = nn.LayerNorm(hid_dim)\n",
        "\n",
        "    # decoder self attention\n",
        "    self.self_attention = MultiHeadedAttentionComponent(hid_dim,n_heads,dropout,device)\n",
        "\n",
        "    # encoder attention\n",
        "    self.encoder_attention = MultiHeadedAttentionComponent(hid_dim,n_heads,dropout,device)\n",
        "\n",
        "    # FeedForward\n",
        "    self.feed_forward = FeedForwardComponent(hid_dim,pf_dim,dropout)\n",
        "\n",
        "    self.dropout = nn.Dropout(dropout)\n",
        "\n",
        "  def forward(self,trg, enc_src,trg_mask,src_mask):\n",
        "\n",
        "    #trg : [batch_size, trg_len, hid_dim]\n",
        "    #enc_src : [batch_size, src_len, hid_dim]\n",
        "    #trg_mask : [batch_size, 1, trg_len, trg_len]\n",
        "    #src_mask : [batch_size, 1, 1, src_len]\n",
        "\n",
        "    '''\n",
        "    Decoder self-attention\n",
        "    trg_mask is to force decoder to look only into past tokens and not get information from future tokens.\n",
        "    Since we apply mask before doing softmax, the final self attention vector gets no information from future tokens.\n",
        "    '''\n",
        "    _trg, _ = self.self_attention(trg,trg,trg,trg_mask)\n",
        "\n",
        "    # LayerNorm and dropout with resdiual connection\n",
        "    trg = self.self_attn_layer_norm(trg + self.dropout(_trg))\n",
        "    # trg : [batch_size, trg_len, hid_dim]\n",
        "\n",
        "    '''\n",
        "    Encoder attention:\n",
        "    Query: trg\n",
        "    key: enc_src\n",
        "    Value : enc_src\n",
        "    Why? \n",
        "    the idea here is to extract information from encoder outputs. So we use decoder self-attention as a query to find important values from enc_src\n",
        "    and that is why we use src_mask, to avoid getting information from enc_src positions where it is equal to pad-id\n",
        "    After we get necessary infromation from encoder outputs we add them back to decoder self-attention.\n",
        "    '''\n",
        "    _trg, encoder_attn_alpha = self.encoder_attention(trg,enc_src,enc_src,src_mask)\n",
        "\n",
        "        # LayerNorm , residual connection and dropout\n",
        "    trg = self.enc_attn_layer_norm(trg + self.dropout(_trg))\n",
        "    # trg : [ batch_size, trg_len, hid_dim]\n",
        "\n",
        "    # Feed Forward\n",
        "    _trg = self.feed_forward(trg)\n",
        "\n",
        "    # LayerNorm, residual connection and dropout\n",
        "    trg = self.ff_layer_norm(trg + self.dropout(_trg))\n",
        "\n",
        "    return trg, encoder_attn_alpha"
      ],
      "execution_count": 37,
      "outputs": []
    },
    {
      "cell_type": "code",
      "metadata": {
        "id": "2PoUKoRiyRIV"
      },
      "source": [
        "class Encoder(nn.Module):\n",
        "  '''\n",
        "  An encoder, creates token embeddings and position embeddings and passes them through multiple encoder layers\n",
        "  '''\n",
        "  def __init__(self,input_dim,hid_dim,n_layers,n_heads,pf_dim,dropout,device,max_length = 5000):\n",
        "    super().__init__()\n",
        "    self.device = device\n",
        "\n",
        "    self.tok_embedding = nn.Embedding(input_dim,hid_dim)\n",
        "    self.pos_embedding = PositionalEncodingComponent(hid_dim,device,dropout,max_length)\n",
        "\n",
        "    # encoder layers\n",
        "    self.layers = nn.ModuleList([EncoderLayer(hid_dim,n_heads,pf_dim,dropout,device) for _ in range(n_layers)])\n",
        "\n",
        "    self.dropout = nn.Dropout(dropout)\n",
        "\n",
        "    self.scale = torch.sqrt(torch.FloatTensor([hid_dim])).to(device)\n",
        "\n",
        "  def forward(self,src,src_mask):\n",
        "\n",
        "    # src : [batch_size, src_len]\n",
        "    # src_mask : [batch_size,1,1,src_len]\n",
        "\n",
        "    batch_size = src.shape[0]\n",
        "    src_len = src.shape[1]\n",
        "\n",
        "    tok_embeddings = self.tok_embedding(src)*self.scale\n",
        "\n",
        "    # token plus position embeddings\n",
        "    src  = self.pos_embedding(tok_embeddings)\n",
        "\n",
        "    for layer in self.layers:\n",
        "      src = layer(src,src_mask)\n",
        "    # src : [batch_size, src_len, hid_dim]\n",
        "\n",
        "    return src"
      ],
      "execution_count": 38,
      "outputs": []
    },
    {
      "cell_type": "code",
      "metadata": {
        "id": "70Bg3YGPySQ4"
      },
      "source": [
        "class Decoder(nn.Module):\n",
        "  '''\n",
        "  An decoder, creates token embeddings and position embeddings and passes them through multiple decoder layers\n",
        "  '''\n",
        "  def __init__(self,output_dim,hid_dim,n_layers,n_heads,pf_dim,dropout,device,max_length= 5000):\n",
        "    super().__init__()\n",
        "\n",
        "    self.device = device\n",
        "\n",
        "    self.tok_embedding = nn.Embedding(output_dim,hid_dim)\n",
        "    self.pos_embedding = PositionalEncodingComponent(hid_dim,device,dropout,max_length)\n",
        "\n",
        "    # decoder layers\n",
        "    self.layers = nn.ModuleList([DecoderLayer(hid_dim,n_heads,pf_dim,dropout,device) for _ in range(n_layers)])\n",
        "\n",
        "    # convert decoder outputs to real outputs\n",
        "    self.fc_out = nn.Linear(hid_dim,output_dim)\n",
        "\n",
        "    self.dropout = nn.Dropout(dropout)\n",
        "\n",
        "    self.scale = torch.sqrt(torch.FloatTensor([hid_dim])).to(device)\n",
        "\n",
        "  def forward(self, trg, enc_src,trg_mask,src_mask):\n",
        "    \n",
        "    #trg : [batch_size, trg_len]\n",
        "    #enc_src : [batch_size, src_len, hid_dim]\n",
        "    #trg_mask : [batch_size, 1, trg_len, trg_len]\n",
        "    #src_mask : [batch_size, 1, 1, src_len]\n",
        "\n",
        "    batch_size = trg.shape[0]\n",
        "    trg_len = trg.shape[1]\n",
        "\n",
        "    tok_embeddings = self.tok_embedding(trg)*self.scale\n",
        "\n",
        "    # token plus pos embeddings\n",
        "    trg = self.pos_embedding(tok_embeddings)\n",
        "    # trg : [batch_size, trg_len, hid_dim]\n",
        "\n",
        "    # Pass trg thorugh decoder layers\n",
        "    for layer in self.layers:\n",
        "      trg, encoder_attention = layer(trg,enc_src,trg_mask,src_mask)\n",
        "    \n",
        "    # trg : [batch_size,trg_len,hid_dim]\n",
        "    # encoder_attention :  [batch_size, n_head,trg_len, src_len]\n",
        "\n",
        "    # Convert to outputs\n",
        "    output = self.fc_out(trg)\n",
        "    # output : [batch_size, trg_len, output_dim]\n",
        "    \n",
        "    return output, encoder_attention"
      ],
      "execution_count": 39,
      "outputs": []
    },
    {
      "cell_type": "code",
      "metadata": {
        "id": "uXzefNw-yTer"
      },
      "source": [
        "\n",
        "class Seq2Seq(nn.Module):\n",
        "  def __init__(self, encoder, decoder, src_pad_idx, trg_pad_idx, device):\n",
        "    super().__init__()\n",
        "    self.encoder = encoder\n",
        "    self.decoder = decoder\n",
        "    self.src_pad_idx = src_pad_idx\n",
        "    self.trg_pad_idx = trg_pad_idx\n",
        "    self.device = device\n",
        "\n",
        "  def make_src_mask(self,src):\n",
        "    # src : [batch_size, src_len]\n",
        "\n",
        "    # Masking pad values\n",
        "    src_mask = (src != self.src_pad_idx).unsqueeze(1).unsqueeze(2)\n",
        "    # src_mask : [batch_size,1,1,src_len]\n",
        "\n",
        "    return src_mask\n",
        "\n",
        "  def make_trg_mask(self,trg):\n",
        "    # trg : [batch_size, trg_len]\n",
        "\n",
        "    # Masking pad values\n",
        "    trg_pad_mask = (trg != self.trg_pad_idx).unsqueeze(1).unsqueeze(2)\n",
        "    # trg_pad_mask : [batch_size,1,1, trg_len]\n",
        "\n",
        "    # Masking future values\n",
        "    trg_len = trg.shape[1]\n",
        "    trg_sub_mask = torch.tril(torch.ones((trg_len,trg_len),device= self.device)).bool()\n",
        "    # trg_sub_mask : [trg_len, trg_len]\n",
        "\n",
        "    # combine both masks\n",
        "    trg_mask = trg_pad_mask & trg_sub_mask\n",
        "    # trg_mask = [batch_size,1,trg_len,trg_len]\n",
        "\n",
        "    return trg_mask\n",
        "\n",
        "  def forward(self,src,trg):\n",
        "\n",
        "    # src : [batch_size, src_len]\n",
        "    # trg : [batch_size, trg_len]\n",
        "\n",
        "    src_mask = self.make_src_mask(src)\n",
        "    trg_mask = self.make_trg_mask(trg)\n",
        "\n",
        "    # src_mask : [ batch_size, 1,1,src_len]\n",
        "    # trg_mask : [batch_size, 1, trg_len, trg_len]\n",
        "\n",
        "    enc_src = self.encoder(src,src_mask)\n",
        "    #enc_src : [batch_size, src_len, hid_dim]\n",
        "\n",
        "    output, encoder_decoder_attention = self.decoder(trg,enc_src,trg_mask,src_mask)\n",
        "    # output : [batch_size, trg_len, output_dim]\n",
        "    # encoder_decoder_attention : [batch_size, n_heads, trg_len, src_len]\n",
        "\n",
        "    return output, encoder_decoder_attention"
      ],
      "execution_count": 40,
      "outputs": []
    },
    {
      "cell_type": "code",
      "metadata": {
        "id": "PmQttitayUp2"
      },
      "source": [
        "INPUT_DIM = len(SRC.vocab)\n",
        "OUTPUT_DIM = len(TRG.vocab)\n",
        "HID_DIM = 256\n",
        "ENC_LAYERS = 3\n",
        "DEC_LAYERS = 3\n",
        "ENC_HEADS = 8\n",
        "DEC_HEADS = 8\n",
        "ENC_PF_DIM = 512\n",
        "DEC_PF_DIM = 512\n",
        "ENC_DROPOUT = 0.1\n",
        "DEC_DROPOUT = 0.1\n",
        "\n",
        "enc = Encoder(INPUT_DIM, \n",
        "              HID_DIM, \n",
        "              ENC_LAYERS, \n",
        "              ENC_HEADS, \n",
        "              ENC_PF_DIM, \n",
        "              ENC_DROPOUT, \n",
        "              device)\n",
        "\n",
        "dec = Decoder(OUTPUT_DIM, \n",
        "              HID_DIM, \n",
        "              DEC_LAYERS, \n",
        "              DEC_HEADS, \n",
        "              DEC_PF_DIM, \n",
        "              DEC_DROPOUT, \n",
        "              device)\n",
        "\n",
        "SRC_PAD_IDX = SRC.vocab.stoi[SRC.pad_token]\n",
        "TRG_PAD_IDX = TRG.vocab.stoi[TRG.pad_token]\n",
        "\n",
        "model = Seq2Seq(enc, dec, SRC_PAD_IDX, TRG_PAD_IDX, device).to(device)"
      ],
      "execution_count": 41,
      "outputs": []
    },
    {
      "cell_type": "code",
      "metadata": {
        "id": "fNZkpmLryVx7"
      },
      "source": [
        "def initialize_weights(m):\n",
        "    if hasattr(m, 'weight') and m.weight.dim() > 1:\n",
        "        nn.init.xavier_uniform_(m.weight.data)\n",
        "\n",
        "model.apply(initialize_weights);"
      ],
      "execution_count": 42,
      "outputs": []
    },
    {
      "cell_type": "code",
      "metadata": {
        "colab": {
          "base_uri": "https://localhost:8080/"
        },
        "id": "TM4dSNbF3U4j",
        "outputId": "eccbb4b3-8260-4a65-fb33-481530b22fe5"
      },
      "source": [
        "model.decoder.tok_embedding"
      ],
      "execution_count": 43,
      "outputs": [
        {
          "output_type": "execute_result",
          "data": {
            "text/plain": [
              "Embedding(4531, 256)"
            ]
          },
          "metadata": {
            "tags": []
          },
          "execution_count": 43
        }
      ]
    },
    {
      "cell_type": "code",
      "metadata": {
        "colab": {
          "base_uri": "https://localhost:8080/"
        },
        "id": "lD4oJ-ch4GQi",
        "outputId": "9d60850f-0771-4d2b-92e3-98b0e7de9de2"
      },
      "source": [
        "# load python embedding weights\n",
        "pretrained_embeddings = torch.load('/content/Python-Code-Generation/data/python_embedding_weigts.pt')\n",
        "pretrained_embeddings"
      ],
      "execution_count": 44,
      "outputs": [
        {
          "output_type": "execute_result",
          "data": {
            "text/plain": [
              "Embedding(15018, 256)"
            ]
          },
          "metadata": {
            "tags": []
          },
          "execution_count": 44
        }
      ]
    },
    {
      "cell_type": "code",
      "metadata": {
        "id": "zlA3wWgrz2TY"
      },
      "source": [
        "# Loading pretrained embeddings\n",
        "\n",
        "with open(\"/content/Python-Code-Generation/data/TRG_stio\",\"rb\") as f:\n",
        "  stoi_weights = pickle.load(f)\n",
        "\n",
        "with torch.no_grad():\n",
        "  indexes = []\n",
        "  for i,j in enumerate(TRG.vocab.stoi):\n",
        "    if j in stoi_weights:\n",
        "      model.decoder.tok_embedding.weight[TRG.vocab.stoi[j]] = pretrained_embeddings.weight[stoi_weights[j]]\n",
        "    else:\n",
        "      model.decoder.tok_embedding.weight[TRG.vocab.stoi[j]] = pretrained_embeddings.weight[stoi_weights['<unk>']]\n",
        "\n"
      ],
      "execution_count": 45,
      "outputs": []
    },
    {
      "cell_type": "code",
      "metadata": {
        "colab": {
          "base_uri": "https://localhost:8080/"
        },
        "id": "IuLULqqFyXDk",
        "outputId": "254848da-575c-42da-f0cd-0407235b7fe0"
      },
      "source": [
        "def count_parameters(model):\n",
        "    return sum(p.numel() for p in model.parameters() if p.requires_grad)\n",
        "\n",
        "print(f'The model has {count_parameters(model):,} trainable parameters')"
      ],
      "execution_count": 46,
      "outputs": [
        {
          "output_type": "stream",
          "text": [
            "The model has 7,017,907 trainable parameters\n"
          ],
          "name": "stdout"
        }
      ]
    },
    {
      "cell_type": "code",
      "metadata": {
        "id": "tccCxPXjyYKO"
      },
      "source": [
        "LEARNING_RATE = 0.0001\n",
        "\n",
        "optimizer = torch.optim.Adam(model.parameters(), lr = LEARNING_RATE)\n",
        "\n",
        "criterion = nn.CrossEntropyLoss(ignore_index = TRG_PAD_IDX)"
      ],
      "execution_count": 47,
      "outputs": []
    },
    {
      "cell_type": "code",
      "metadata": {
        "id": "4r3UAlYGEQnc"
      },
      "source": [
        "def get_rouge_score(output,trg,vocab=TRG.vocab.itos):\n",
        "  rouge = Rouge()\n",
        "  rouge_score = 0\n",
        "  argmax_outputs = output.argmax(2)\n",
        "  assert argmax_outputs.shape == trg.shape\n",
        "  with torch.no_grad():\n",
        "    for i,row in enumerate(argmax_outputs):\n",
        "      output_sentence = []\n",
        "      trg_sentence = []\n",
        "      for j,column in enumerate(row):\n",
        "        output_sentence.append(vocab[argmax_outputs[i][j]])\n",
        "        trg_sentence.append(vocab[trg[i][j]])\n",
        "      output_sentence = \"\".join(output_sentence)\n",
        "      trg_sentence = \"\".join(trg_sentence)\n",
        "\n",
        "      rouge_score += rouge.get_scores(output_sentence, trg_sentence)[0][\"rouge-l\"][\"f\"]\n",
        "\n",
        "  return rouge_score/len(output)\n"
      ],
      "execution_count": 48,
      "outputs": []
    },
    {
      "cell_type": "code",
      "metadata": {
        "id": "7VGzrP2-yeg_"
      },
      "source": [
        "def train(model, iterator, optimizer, criterion, clip):\n",
        "    \n",
        "    model.train()\n",
        "    \n",
        "    epoch_loss = 0\n",
        "    \n",
        "    for i, batch in enumerate(iterator):\n",
        "        \n",
        "        src = batch.src\n",
        "        trg = batch.trg\n",
        "        \n",
        "        optimizer.zero_grad()\n",
        "        \n",
        "        output, _ = model(src, trg[:,:-1])\n",
        "                \n",
        "        #output = [batch size, trg len - 1, output dim]\n",
        "        #trg = [batch size, trg len]\n",
        "            \n",
        "        output_dim = output.shape[-1]\n",
        "            \n",
        "        output = output.contiguous().view(-1, output_dim)\n",
        "        trg = trg[:,1:].contiguous().view(-1)\n",
        "                \n",
        "        #output = [batch size * trg len - 1, output dim]\n",
        "        #trg = [batch size * trg len - 1]\n",
        "            \n",
        "        loss = criterion(output, trg)\n",
        "        \n",
        "        loss.backward()\n",
        "\n",
        "        torch.nn.utils.clip_grad_norm_(model.parameters(), clip)\n",
        "        \n",
        "        optimizer.step()\n",
        "        \n",
        "        epoch_loss += loss.item()\n",
        "        \n",
        "    return epoch_loss / len(iterator)"
      ],
      "execution_count": 49,
      "outputs": []
    },
    {
      "cell_type": "code",
      "metadata": {
        "id": "X-zlXEgDyfk0"
      },
      "source": [
        "def evaluate(model, iterator, criterion):\n",
        "    \n",
        "    model.eval()\n",
        "    \n",
        "    epoch_loss = 0\n",
        "\n",
        "    epoch_rouge = 0\n",
        "    \n",
        "    with torch.no_grad():\n",
        "    \n",
        "        for i, batch in enumerate(iterator):\n",
        "\n",
        "            src = batch.src\n",
        "            trg = batch.trg\n",
        "\n",
        "            output, _ = model(src, trg[:,:-1])\n",
        "            \n",
        "            #output = [batch size, trg len - 1, output dim]\n",
        "            #trg = [batch size, trg len]\n",
        "\n",
        "            rouge_score = get_rouge_score(output, trg[:,1:])\n",
        "\n",
        "            epoch_rouge += rouge_score\n",
        "            \n",
        "            output_dim = output.shape[-1]\n",
        "            \n",
        "            output = output.contiguous().view(-1, output_dim)\n",
        "            trg = trg[:,1:].contiguous().view(-1)\n",
        "            \n",
        "            #output = [batch size * trg len - 1, output dim]\n",
        "            #trg = [batch size * trg len - 1]\n",
        "            \n",
        "            loss = criterion(output, trg)\n",
        "\n",
        "            epoch_loss += loss.item()\n",
        "\n",
        "        \n",
        "    return epoch_loss / len(iterator) , epoch_rouge / len(iterator)"
      ],
      "execution_count": 50,
      "outputs": []
    },
    {
      "cell_type": "code",
      "metadata": {
        "id": "AiwOdJ9dygp0"
      },
      "source": [
        "def epoch_time(start_time, end_time):\n",
        "    elapsed_time = end_time - start_time\n",
        "    elapsed_mins = int(elapsed_time / 60)\n",
        "    elapsed_secs = int(elapsed_time - (elapsed_mins * 60))\n",
        "    return elapsed_mins, elapsed_secs"
      ],
      "execution_count": 51,
      "outputs": []
    },
    {
      "cell_type": "code",
      "metadata": {
        "colab": {
          "base_uri": "https://localhost:8080/"
        },
        "id": "BWMHus2iyhwz",
        "outputId": "32fd887a-41a1-4883-aafa-7eef025a80af"
      },
      "source": [
        "N_EPOCHS = 100\n",
        "CLIP = 1\n",
        "\n",
        "best_valid_loss = float('inf')\n",
        "best_train_loss = float('inf')\n",
        "\n",
        "for epoch in range(N_EPOCHS):\n",
        "    \n",
        "    start_time = time.time()\n",
        "    \n",
        "    train_loss = train(model, train_iterator, optimizer, criterion, CLIP)\n",
        "    valid_loss, rouge_score = evaluate(model, valid_iterator, criterion)\n",
        "    \n",
        "    end_time = time.time()\n",
        "    \n",
        "    epoch_mins, epoch_secs = epoch_time(start_time, end_time)\n",
        "    \n",
        "    if valid_loss < best_valid_loss:\n",
        "        best_valid_loss = valid_loss\n",
        "        torch.save(model.state_dict(), 'conala_plus_original_data.pt')\n",
        "    \n",
        "    if train_loss < best_train_loss:\n",
        "        best_train_loss = train_loss\n",
        "        torch.save(model.state_dict(), 'best_train_loss.pt')\n",
        "    \n",
        "    print(f'Epoch: {epoch+1:02} | Time: {epoch_mins}m {epoch_secs}s')\n",
        "    print(f'\\tTrain Loss: {train_loss:.3f} | Train PPL: {math.exp(train_loss):7.3f}')\n",
        "    print(f'\\t Val. Loss: {valid_loss:.3f} |  Val. PPL: {math.exp(valid_loss):7.3f} | Val. Rouge: {rouge_score:7.3f}')"
      ],
      "execution_count": 61,
      "outputs": [
        {
          "output_type": "stream",
          "text": [
            "Epoch: 01 | Time: 0m 17s\n",
            "\tTrain Loss: 0.558 | Train PPL:   1.747\n",
            "\t Val. Loss: 2.163 |  Val. PPL:   8.694 | Val. Rouge:   0.143\n",
            "Epoch: 02 | Time: 0m 18s\n",
            "\tTrain Loss: 0.551 | Train PPL:   1.735\n",
            "\t Val. Loss: 2.176 |  Val. PPL:   8.811 | Val. Rouge:   0.142\n",
            "Epoch: 03 | Time: 0m 18s\n",
            "\tTrain Loss: 0.546 | Train PPL:   1.726\n",
            "\t Val. Loss: 2.182 |  Val. PPL:   8.861 | Val. Rouge:   0.144\n",
            "Epoch: 04 | Time: 0m 18s\n",
            "\tTrain Loss: 0.543 | Train PPL:   1.722\n",
            "\t Val. Loss: 2.187 |  Val. PPL:   8.911 | Val. Rouge:   0.141\n",
            "Epoch: 05 | Time: 0m 18s\n",
            "\tTrain Loss: 0.533 | Train PPL:   1.704\n",
            "\t Val. Loss: 2.196 |  Val. PPL:   8.987 | Val. Rouge:   0.145\n",
            "Epoch: 06 | Time: 0m 18s\n",
            "\tTrain Loss: 0.531 | Train PPL:   1.701\n",
            "\t Val. Loss: 2.199 |  Val. PPL:   9.018 | Val. Rouge:   0.142\n",
            "Epoch: 07 | Time: 0m 18s\n",
            "\tTrain Loss: 0.527 | Train PPL:   1.693\n",
            "\t Val. Loss: 2.213 |  Val. PPL:   9.142 | Val. Rouge:   0.142\n",
            "Epoch: 08 | Time: 0m 18s\n",
            "\tTrain Loss: 0.518 | Train PPL:   1.679\n",
            "\t Val. Loss: 2.214 |  Val. PPL:   9.152 | Val. Rouge:   0.145\n",
            "Epoch: 09 | Time: 0m 18s\n",
            "\tTrain Loss: 0.521 | Train PPL:   1.684\n",
            "\t Val. Loss: 2.227 |  Val. PPL:   9.268 | Val. Rouge:   0.142\n",
            "Epoch: 10 | Time: 0m 18s\n",
            "\tTrain Loss: 0.510 | Train PPL:   1.665\n",
            "\t Val. Loss: 2.217 |  Val. PPL:   9.176 | Val. Rouge:   0.139\n",
            "Epoch: 11 | Time: 0m 18s\n",
            "\tTrain Loss: 0.506 | Train PPL:   1.659\n",
            "\t Val. Loss: 2.240 |  Val. PPL:   9.396 | Val. Rouge:   0.141\n",
            "Epoch: 12 | Time: 0m 18s\n",
            "\tTrain Loss: 0.501 | Train PPL:   1.650\n",
            "\t Val. Loss: 2.252 |  Val. PPL:   9.506 | Val. Rouge:   0.142\n",
            "Epoch: 13 | Time: 0m 18s\n",
            "\tTrain Loss: 0.494 | Train PPL:   1.639\n",
            "\t Val. Loss: 2.247 |  Val. PPL:   9.461 | Val. Rouge:   0.141\n",
            "Epoch: 14 | Time: 0m 18s\n",
            "\tTrain Loss: 0.491 | Train PPL:   1.635\n",
            "\t Val. Loss: 2.255 |  Val. PPL:   9.532 | Val. Rouge:   0.147\n",
            "Epoch: 15 | Time: 0m 18s\n",
            "\tTrain Loss: 0.489 | Train PPL:   1.630\n",
            "\t Val. Loss: 2.254 |  Val. PPL:   9.530 | Val. Rouge:   0.147\n",
            "Epoch: 16 | Time: 0m 18s\n",
            "\tTrain Loss: 0.482 | Train PPL:   1.619\n",
            "\t Val. Loss: 2.261 |  Val. PPL:   9.588 | Val. Rouge:   0.152\n",
            "Epoch: 17 | Time: 0m 18s\n",
            "\tTrain Loss: 0.481 | Train PPL:   1.617\n",
            "\t Val. Loss: 2.267 |  Val. PPL:   9.651 | Val. Rouge:   0.149\n",
            "Epoch: 18 | Time: 0m 18s\n",
            "\tTrain Loss: 0.475 | Train PPL:   1.608\n",
            "\t Val. Loss: 2.274 |  Val. PPL:   9.722 | Val. Rouge:   0.145\n",
            "Epoch: 19 | Time: 0m 18s\n",
            "\tTrain Loss: 0.472 | Train PPL:   1.603\n",
            "\t Val. Loss: 2.275 |  Val. PPL:   9.727 | Val. Rouge:   0.149\n",
            "Epoch: 20 | Time: 0m 18s\n",
            "\tTrain Loss: 0.465 | Train PPL:   1.592\n",
            "\t Val. Loss: 2.280 |  Val. PPL:   9.782 | Val. Rouge:   0.149\n",
            "Epoch: 21 | Time: 0m 18s\n",
            "\tTrain Loss: 0.465 | Train PPL:   1.592\n",
            "\t Val. Loss: 2.290 |  Val. PPL:   9.879 | Val. Rouge:   0.146\n",
            "Epoch: 22 | Time: 0m 18s\n",
            "\tTrain Loss: 0.456 | Train PPL:   1.578\n",
            "\t Val. Loss: 2.305 |  Val. PPL:  10.024 | Val. Rouge:   0.148\n",
            "Epoch: 23 | Time: 0m 18s\n",
            "\tTrain Loss: 0.452 | Train PPL:   1.572\n",
            "\t Val. Loss: 2.304 |  Val. PPL:  10.016 | Val. Rouge:   0.147\n",
            "Epoch: 24 | Time: 0m 18s\n",
            "\tTrain Loss: 0.449 | Train PPL:   1.567\n",
            "\t Val. Loss: 2.311 |  Val. PPL:  10.083 | Val. Rouge:   0.152\n",
            "Epoch: 25 | Time: 0m 18s\n",
            "\tTrain Loss: 0.445 | Train PPL:   1.561\n",
            "\t Val. Loss: 2.322 |  Val. PPL:  10.197 | Val. Rouge:   0.151\n",
            "Epoch: 26 | Time: 0m 18s\n",
            "\tTrain Loss: 0.442 | Train PPL:   1.555\n",
            "\t Val. Loss: 2.309 |  Val. PPL:  10.066 | Val. Rouge:   0.150\n",
            "Epoch: 27 | Time: 0m 18s\n",
            "\tTrain Loss: 0.438 | Train PPL:   1.550\n",
            "\t Val. Loss: 2.332 |  Val. PPL:  10.300 | Val. Rouge:   0.151\n",
            "Epoch: 28 | Time: 0m 18s\n",
            "\tTrain Loss: 0.432 | Train PPL:   1.541\n",
            "\t Val. Loss: 2.328 |  Val. PPL:  10.256 | Val. Rouge:   0.151\n",
            "Epoch: 29 | Time: 0m 18s\n",
            "\tTrain Loss: 0.431 | Train PPL:   1.538\n",
            "\t Val. Loss: 2.338 |  Val. PPL:  10.361 | Val. Rouge:   0.151\n",
            "Epoch: 30 | Time: 0m 18s\n",
            "\tTrain Loss: 0.427 | Train PPL:   1.532\n",
            "\t Val. Loss: 2.332 |  Val. PPL:  10.299 | Val. Rouge:   0.150\n",
            "Epoch: 31 | Time: 0m 18s\n",
            "\tTrain Loss: 0.423 | Train PPL:   1.526\n",
            "\t Val. Loss: 2.351 |  Val. PPL:  10.499 | Val. Rouge:   0.151\n",
            "Epoch: 32 | Time: 0m 18s\n",
            "\tTrain Loss: 0.420 | Train PPL:   1.522\n",
            "\t Val. Loss: 2.369 |  Val. PPL:  10.682 | Val. Rouge:   0.151\n",
            "Epoch: 33 | Time: 0m 18s\n",
            "\tTrain Loss: 0.415 | Train PPL:   1.514\n",
            "\t Val. Loss: 2.366 |  Val. PPL:  10.651 | Val. Rouge:   0.146\n",
            "Epoch: 34 | Time: 0m 18s\n",
            "\tTrain Loss: 0.414 | Train PPL:   1.513\n",
            "\t Val. Loss: 2.373 |  Val. PPL:  10.728 | Val. Rouge:   0.150\n",
            "Epoch: 35 | Time: 0m 18s\n",
            "\tTrain Loss: 0.409 | Train PPL:   1.506\n",
            "\t Val. Loss: 2.365 |  Val. PPL:  10.641 | Val. Rouge:   0.149\n",
            "Epoch: 36 | Time: 0m 18s\n",
            "\tTrain Loss: 0.407 | Train PPL:   1.502\n",
            "\t Val. Loss: 2.383 |  Val. PPL:  10.842 | Val. Rouge:   0.154\n",
            "Epoch: 37 | Time: 0m 18s\n",
            "\tTrain Loss: 0.404 | Train PPL:   1.498\n",
            "\t Val. Loss: 2.384 |  Val. PPL:  10.851 | Val. Rouge:   0.154\n",
            "Epoch: 38 | Time: 0m 18s\n",
            "\tTrain Loss: 0.398 | Train PPL:   1.489\n",
            "\t Val. Loss: 2.404 |  Val. PPL:  11.062 | Val. Rouge:   0.152\n",
            "Epoch: 39 | Time: 0m 18s\n",
            "\tTrain Loss: 0.397 | Train PPL:   1.487\n",
            "\t Val. Loss: 2.387 |  Val. PPL:  10.881 | Val. Rouge:   0.153\n",
            "Epoch: 40 | Time: 0m 18s\n",
            "\tTrain Loss: 0.391 | Train PPL:   1.479\n",
            "\t Val. Loss: 2.404 |  Val. PPL:  11.072 | Val. Rouge:   0.156\n",
            "Epoch: 41 | Time: 0m 18s\n",
            "\tTrain Loss: 0.392 | Train PPL:   1.480\n",
            "\t Val. Loss: 2.410 |  Val. PPL:  11.131 | Val. Rouge:   0.160\n",
            "Epoch: 42 | Time: 0m 18s\n",
            "\tTrain Loss: 0.390 | Train PPL:   1.476\n",
            "\t Val. Loss: 2.419 |  Val. PPL:  11.237 | Val. Rouge:   0.154\n",
            "Epoch: 43 | Time: 0m 18s\n",
            "\tTrain Loss: 0.384 | Train PPL:   1.468\n",
            "\t Val. Loss: 2.418 |  Val. PPL:  11.225 | Val. Rouge:   0.155\n",
            "Epoch: 44 | Time: 0m 18s\n",
            "\tTrain Loss: 0.382 | Train PPL:   1.465\n",
            "\t Val. Loss: 2.425 |  Val. PPL:  11.304 | Val. Rouge:   0.153\n",
            "Epoch: 45 | Time: 0m 18s\n",
            "\tTrain Loss: 0.379 | Train PPL:   1.461\n",
            "\t Val. Loss: 2.422 |  Val. PPL:  11.265 | Val. Rouge:   0.158\n",
            "Epoch: 46 | Time: 0m 18s\n",
            "\tTrain Loss: 0.376 | Train PPL:   1.456\n",
            "\t Val. Loss: 2.428 |  Val. PPL:  11.335 | Val. Rouge:   0.158\n",
            "Epoch: 47 | Time: 0m 18s\n",
            "\tTrain Loss: 0.370 | Train PPL:   1.447\n",
            "\t Val. Loss: 2.436 |  Val. PPL:  11.431 | Val. Rouge:   0.156\n",
            "Epoch: 48 | Time: 0m 18s\n",
            "\tTrain Loss: 0.372 | Train PPL:   1.450\n",
            "\t Val. Loss: 2.439 |  Val. PPL:  11.466 | Val. Rouge:   0.157\n",
            "Epoch: 49 | Time: 0m 18s\n",
            "\tTrain Loss: 0.368 | Train PPL:   1.444\n",
            "\t Val. Loss: 2.434 |  Val. PPL:  11.407 | Val. Rouge:   0.155\n",
            "Epoch: 50 | Time: 0m 18s\n",
            "\tTrain Loss: 0.364 | Train PPL:   1.439\n",
            "\t Val. Loss: 2.450 |  Val. PPL:  11.591 | Val. Rouge:   0.160\n",
            "Epoch: 51 | Time: 0m 18s\n",
            "\tTrain Loss: 0.361 | Train PPL:   1.434\n",
            "\t Val. Loss: 2.461 |  Val. PPL:  11.714 | Val. Rouge:   0.153\n",
            "Epoch: 52 | Time: 0m 18s\n",
            "\tTrain Loss: 0.359 | Train PPL:   1.433\n",
            "\t Val. Loss: 2.475 |  Val. PPL:  11.884 | Val. Rouge:   0.157\n",
            "Epoch: 53 | Time: 0m 18s\n",
            "\tTrain Loss: 0.355 | Train PPL:   1.426\n",
            "\t Val. Loss: 2.476 |  Val. PPL:  11.895 | Val. Rouge:   0.156\n",
            "Epoch: 54 | Time: 0m 18s\n",
            "\tTrain Loss: 0.352 | Train PPL:   1.422\n",
            "\t Val. Loss: 2.483 |  Val. PPL:  11.977 | Val. Rouge:   0.152\n",
            "Epoch: 55 | Time: 0m 18s\n",
            "\tTrain Loss: 0.352 | Train PPL:   1.421\n",
            "\t Val. Loss: 2.486 |  Val. PPL:  12.013 | Val. Rouge:   0.159\n",
            "Epoch: 56 | Time: 0m 19s\n",
            "\tTrain Loss: 0.347 | Train PPL:   1.415\n",
            "\t Val. Loss: 2.484 |  Val. PPL:  11.985 | Val. Rouge:   0.156\n",
            "Epoch: 57 | Time: 0m 18s\n",
            "\tTrain Loss: 0.345 | Train PPL:   1.413\n",
            "\t Val. Loss: 2.484 |  Val. PPL:  11.985 | Val. Rouge:   0.160\n",
            "Epoch: 58 | Time: 0m 18s\n",
            "\tTrain Loss: 0.343 | Train PPL:   1.409\n",
            "\t Val. Loss: 2.500 |  Val. PPL:  12.178 | Val. Rouge:   0.159\n",
            "Epoch: 59 | Time: 0m 18s\n",
            "\tTrain Loss: 0.340 | Train PPL:   1.404\n",
            "\t Val. Loss: 2.496 |  Val. PPL:  12.138 | Val. Rouge:   0.159\n",
            "Epoch: 60 | Time: 0m 18s\n",
            "\tTrain Loss: 0.338 | Train PPL:   1.403\n",
            "\t Val. Loss: 2.507 |  Val. PPL:  12.271 | Val. Rouge:   0.156\n",
            "Epoch: 61 | Time: 0m 18s\n",
            "\tTrain Loss: 0.335 | Train PPL:   1.398\n",
            "\t Val. Loss: 2.504 |  Val. PPL:  12.227 | Val. Rouge:   0.154\n",
            "Epoch: 62 | Time: 0m 18s\n",
            "\tTrain Loss: 0.334 | Train PPL:   1.397\n",
            "\t Val. Loss: 2.523 |  Val. PPL:  12.469 | Val. Rouge:   0.154\n",
            "Epoch: 63 | Time: 0m 18s\n",
            "\tTrain Loss: 0.330 | Train PPL:   1.390\n",
            "\t Val. Loss: 2.519 |  Val. PPL:  12.411 | Val. Rouge:   0.158\n",
            "Epoch: 64 | Time: 0m 18s\n",
            "\tTrain Loss: 0.329 | Train PPL:   1.390\n",
            "\t Val. Loss: 2.519 |  Val. PPL:  12.419 | Val. Rouge:   0.158\n",
            "Epoch: 65 | Time: 0m 18s\n",
            "\tTrain Loss: 0.329 | Train PPL:   1.390\n",
            "\t Val. Loss: 2.525 |  Val. PPL:  12.492 | Val. Rouge:   0.156\n",
            "Epoch: 66 | Time: 0m 18s\n",
            "\tTrain Loss: 0.326 | Train PPL:   1.385\n",
            "\t Val. Loss: 2.534 |  Val. PPL:  12.609 | Val. Rouge:   0.157\n",
            "Epoch: 67 | Time: 0m 18s\n",
            "\tTrain Loss: 0.323 | Train PPL:   1.382\n",
            "\t Val. Loss: 2.529 |  Val. PPL:  12.535 | Val. Rouge:   0.155\n",
            "Epoch: 68 | Time: 0m 18s\n",
            "\tTrain Loss: 0.320 | Train PPL:   1.377\n",
            "\t Val. Loss: 2.536 |  Val. PPL:  12.624 | Val. Rouge:   0.158\n",
            "Epoch: 69 | Time: 0m 18s\n",
            "\tTrain Loss: 0.315 | Train PPL:   1.370\n",
            "\t Val. Loss: 2.551 |  Val. PPL:  12.823 | Val. Rouge:   0.158\n",
            "Epoch: 70 | Time: 0m 18s\n",
            "\tTrain Loss: 0.317 | Train PPL:   1.373\n",
            "\t Val. Loss: 2.539 |  Val. PPL:  12.664 | Val. Rouge:   0.157\n",
            "Epoch: 71 | Time: 0m 18s\n",
            "\tTrain Loss: 0.315 | Train PPL:   1.370\n",
            "\t Val. Loss: 2.556 |  Val. PPL:  12.882 | Val. Rouge:   0.159\n",
            "Epoch: 72 | Time: 0m 18s\n",
            "\tTrain Loss: 0.312 | Train PPL:   1.366\n",
            "\t Val. Loss: 2.555 |  Val. PPL:  12.866 | Val. Rouge:   0.160\n",
            "Epoch: 73 | Time: 0m 18s\n",
            "\tTrain Loss: 0.310 | Train PPL:   1.364\n",
            "\t Val. Loss: 2.566 |  Val. PPL:  13.014 | Val. Rouge:   0.154\n",
            "Epoch: 74 | Time: 0m 18s\n",
            "\tTrain Loss: 0.307 | Train PPL:   1.359\n",
            "\t Val. Loss: 2.557 |  Val. PPL:  12.892 | Val. Rouge:   0.158\n",
            "Epoch: 75 | Time: 0m 18s\n",
            "\tTrain Loss: 0.308 | Train PPL:   1.361\n",
            "\t Val. Loss: 2.582 |  Val. PPL:  13.226 | Val. Rouge:   0.157\n",
            "Epoch: 76 | Time: 0m 18s\n",
            "\tTrain Loss: 0.306 | Train PPL:   1.358\n",
            "\t Val. Loss: 2.570 |  Val. PPL:  13.067 | Val. Rouge:   0.155\n",
            "Epoch: 77 | Time: 0m 18s\n",
            "\tTrain Loss: 0.300 | Train PPL:   1.350\n",
            "\t Val. Loss: 2.580 |  Val. PPL:  13.191 | Val. Rouge:   0.156\n",
            "Epoch: 78 | Time: 0m 18s\n",
            "\tTrain Loss: 0.298 | Train PPL:   1.348\n",
            "\t Val. Loss: 2.584 |  Val. PPL:  13.250 | Val. Rouge:   0.156\n",
            "Epoch: 79 | Time: 0m 18s\n",
            "\tTrain Loss: 0.296 | Train PPL:   1.345\n",
            "\t Val. Loss: 2.589 |  Val. PPL:  13.318 | Val. Rouge:   0.158\n",
            "Epoch: 80 | Time: 0m 18s\n",
            "\tTrain Loss: 0.295 | Train PPL:   1.343\n",
            "\t Val. Loss: 2.583 |  Val. PPL:  13.233 | Val. Rouge:   0.158\n",
            "Epoch: 81 | Time: 0m 18s\n",
            "\tTrain Loss: 0.292 | Train PPL:   1.339\n",
            "\t Val. Loss: 2.597 |  Val. PPL:  13.426 | Val. Rouge:   0.162\n",
            "Epoch: 82 | Time: 0m 18s\n",
            "\tTrain Loss: 0.291 | Train PPL:   1.337\n",
            "\t Val. Loss: 2.591 |  Val. PPL:  13.347 | Val. Rouge:   0.161\n",
            "Epoch: 83 | Time: 0m 18s\n",
            "\tTrain Loss: 0.290 | Train PPL:   1.337\n",
            "\t Val. Loss: 2.605 |  Val. PPL:  13.528 | Val. Rouge:   0.162\n",
            "Epoch: 84 | Time: 0m 18s\n",
            "\tTrain Loss: 0.286 | Train PPL:   1.332\n",
            "\t Val. Loss: 2.615 |  Val. PPL:  13.674 | Val. Rouge:   0.156\n",
            "Epoch: 85 | Time: 0m 18s\n",
            "\tTrain Loss: 0.287 | Train PPL:   1.333\n",
            "\t Val. Loss: 2.608 |  Val. PPL:  13.567 | Val. Rouge:   0.158\n",
            "Epoch: 86 | Time: 0m 18s\n",
            "\tTrain Loss: 0.285 | Train PPL:   1.330\n",
            "\t Val. Loss: 2.611 |  Val. PPL:  13.614 | Val. Rouge:   0.159\n",
            "Epoch: 87 | Time: 0m 18s\n",
            "\tTrain Loss: 0.284 | Train PPL:   1.329\n",
            "\t Val. Loss: 2.628 |  Val. PPL:  13.847 | Val. Rouge:   0.163\n",
            "Epoch: 88 | Time: 0m 18s\n",
            "\tTrain Loss: 0.280 | Train PPL:   1.323\n",
            "\t Val. Loss: 2.608 |  Val. PPL:  13.568 | Val. Rouge:   0.161\n",
            "Epoch: 89 | Time: 0m 18s\n",
            "\tTrain Loss: 0.279 | Train PPL:   1.322\n",
            "\t Val. Loss: 2.629 |  Val. PPL:  13.856 | Val. Rouge:   0.157\n",
            "Epoch: 90 | Time: 0m 18s\n",
            "\tTrain Loss: 0.274 | Train PPL:   1.315\n",
            "\t Val. Loss: 2.626 |  Val. PPL:  13.823 | Val. Rouge:   0.160\n",
            "Epoch: 91 | Time: 0m 18s\n",
            "\tTrain Loss: 0.275 | Train PPL:   1.317\n",
            "\t Val. Loss: 2.638 |  Val. PPL:  13.988 | Val. Rouge:   0.158\n",
            "Epoch: 92 | Time: 0m 18s\n",
            "\tTrain Loss: 0.273 | Train PPL:   1.314\n",
            "\t Val. Loss: 2.636 |  Val. PPL:  13.962 | Val. Rouge:   0.160\n",
            "Epoch: 93 | Time: 0m 18s\n",
            "\tTrain Loss: 0.273 | Train PPL:   1.313\n",
            "\t Val. Loss: 2.642 |  Val. PPL:  14.035 | Val. Rouge:   0.160\n",
            "Epoch: 94 | Time: 0m 18s\n",
            "\tTrain Loss: 0.269 | Train PPL:   1.309\n",
            "\t Val. Loss: 2.640 |  Val. PPL:  14.018 | Val. Rouge:   0.161\n",
            "Epoch: 95 | Time: 0m 18s\n",
            "\tTrain Loss: 0.269 | Train PPL:   1.308\n",
            "\t Val. Loss: 2.655 |  Val. PPL:  14.225 | Val. Rouge:   0.160\n",
            "Epoch: 96 | Time: 0m 18s\n",
            "\tTrain Loss: 0.269 | Train PPL:   1.309\n",
            "\t Val. Loss: 2.645 |  Val. PPL:  14.089 | Val. Rouge:   0.159\n",
            "Epoch: 97 | Time: 0m 18s\n",
            "\tTrain Loss: 0.265 | Train PPL:   1.304\n",
            "\t Val. Loss: 2.666 |  Val. PPL:  14.377 | Val. Rouge:   0.161\n",
            "Epoch: 98 | Time: 0m 18s\n",
            "\tTrain Loss: 0.265 | Train PPL:   1.303\n",
            "\t Val. Loss: 2.674 |  Val. PPL:  14.494 | Val. Rouge:   0.158\n",
            "Epoch: 99 | Time: 0m 18s\n",
            "\tTrain Loss: 0.263 | Train PPL:   1.301\n",
            "\t Val. Loss: 2.675 |  Val. PPL:  14.512 | Val. Rouge:   0.158\n",
            "Epoch: 100 | Time: 0m 18s\n",
            "\tTrain Loss: 0.262 | Train PPL:   1.299\n",
            "\t Val. Loss: 2.681 |  Val. PPL:  14.602 | Val. Rouge:   0.160\n"
          ],
          "name": "stdout"
        }
      ]
    },
    {
      "cell_type": "code",
      "metadata": {
        "id": "lvjHMGS2ykod",
        "colab": {
          "base_uri": "https://localhost:8080/"
        },
        "outputId": "d01a8d31-54bd-4365-c603-bd7a89e68a88"
      },
      "source": [
        "import pickle\n",
        "\n",
        "with open(\"SRC_stio_local\",\"rb\") as f:\n",
        "  stoi = pickle.load(f)\n",
        "with open(\"TRG_itos_local\",\"rb\") as f:\n",
        "  itos = pickle.load(f)\n",
        "\n",
        "# Load model\n",
        "# trained_model = 'conala_plus_original_data.pt'\n",
        "trained_model = '/content/best_train_loss.pt'\n",
        "model.load_state_dict(torch.load(trained_model));\n",
        "model.eval()"
      ],
      "execution_count": 62,
      "outputs": [
        {
          "output_type": "execute_result",
          "data": {
            "text/plain": [
              "Seq2Seq(\n",
              "  (encoder): Encoder(\n",
              "    (tok_embedding): Embedding(2890, 256)\n",
              "    (pos_embedding): PositionalEncodingComponent(\n",
              "      (dropout): Dropout(p=0.1, inplace=False)\n",
              "    )\n",
              "    (layers): ModuleList(\n",
              "      (0): EncoderLayer(\n",
              "        (self_attn_layer_norm): LayerNorm((256,), eps=1e-05, elementwise_affine=True)\n",
              "        (ff_layer_norm): LayerNorm((256,), eps=1e-05, elementwise_affine=True)\n",
              "        (self_attention): MultiHeadedAttentionComponent(\n",
              "          (fc_q): Linear(in_features=256, out_features=256, bias=True)\n",
              "          (fc_k): Linear(in_features=256, out_features=256, bias=True)\n",
              "          (fc_v): Linear(in_features=256, out_features=256, bias=True)\n",
              "          (fc_o): Linear(in_features=256, out_features=256, bias=True)\n",
              "          (dropout): Dropout(p=0.1, inplace=False)\n",
              "        )\n",
              "        (feed_forward): FeedForwardComponent(\n",
              "          (dropout): Dropout(p=0.1, inplace=False)\n",
              "          (fc1): Linear(in_features=256, out_features=512, bias=True)\n",
              "          (fc2): Linear(in_features=512, out_features=256, bias=True)\n",
              "        )\n",
              "        (dropout): Dropout(p=0.1, inplace=False)\n",
              "      )\n",
              "      (1): EncoderLayer(\n",
              "        (self_attn_layer_norm): LayerNorm((256,), eps=1e-05, elementwise_affine=True)\n",
              "        (ff_layer_norm): LayerNorm((256,), eps=1e-05, elementwise_affine=True)\n",
              "        (self_attention): MultiHeadedAttentionComponent(\n",
              "          (fc_q): Linear(in_features=256, out_features=256, bias=True)\n",
              "          (fc_k): Linear(in_features=256, out_features=256, bias=True)\n",
              "          (fc_v): Linear(in_features=256, out_features=256, bias=True)\n",
              "          (fc_o): Linear(in_features=256, out_features=256, bias=True)\n",
              "          (dropout): Dropout(p=0.1, inplace=False)\n",
              "        )\n",
              "        (feed_forward): FeedForwardComponent(\n",
              "          (dropout): Dropout(p=0.1, inplace=False)\n",
              "          (fc1): Linear(in_features=256, out_features=512, bias=True)\n",
              "          (fc2): Linear(in_features=512, out_features=256, bias=True)\n",
              "        )\n",
              "        (dropout): Dropout(p=0.1, inplace=False)\n",
              "      )\n",
              "      (2): EncoderLayer(\n",
              "        (self_attn_layer_norm): LayerNorm((256,), eps=1e-05, elementwise_affine=True)\n",
              "        (ff_layer_norm): LayerNorm((256,), eps=1e-05, elementwise_affine=True)\n",
              "        (self_attention): MultiHeadedAttentionComponent(\n",
              "          (fc_q): Linear(in_features=256, out_features=256, bias=True)\n",
              "          (fc_k): Linear(in_features=256, out_features=256, bias=True)\n",
              "          (fc_v): Linear(in_features=256, out_features=256, bias=True)\n",
              "          (fc_o): Linear(in_features=256, out_features=256, bias=True)\n",
              "          (dropout): Dropout(p=0.1, inplace=False)\n",
              "        )\n",
              "        (feed_forward): FeedForwardComponent(\n",
              "          (dropout): Dropout(p=0.1, inplace=False)\n",
              "          (fc1): Linear(in_features=256, out_features=512, bias=True)\n",
              "          (fc2): Linear(in_features=512, out_features=256, bias=True)\n",
              "        )\n",
              "        (dropout): Dropout(p=0.1, inplace=False)\n",
              "      )\n",
              "    )\n",
              "    (dropout): Dropout(p=0.1, inplace=False)\n",
              "  )\n",
              "  (decoder): Decoder(\n",
              "    (tok_embedding): Embedding(4531, 256)\n",
              "    (pos_embedding): PositionalEncodingComponent(\n",
              "      (dropout): Dropout(p=0.1, inplace=False)\n",
              "    )\n",
              "    (layers): ModuleList(\n",
              "      (0): DecoderLayer(\n",
              "        (self_attn_layer_norm): LayerNorm((256,), eps=1e-05, elementwise_affine=True)\n",
              "        (enc_attn_layer_norm): LayerNorm((256,), eps=1e-05, elementwise_affine=True)\n",
              "        (ff_layer_norm): LayerNorm((256,), eps=1e-05, elementwise_affine=True)\n",
              "        (self_attention): MultiHeadedAttentionComponent(\n",
              "          (fc_q): Linear(in_features=256, out_features=256, bias=True)\n",
              "          (fc_k): Linear(in_features=256, out_features=256, bias=True)\n",
              "          (fc_v): Linear(in_features=256, out_features=256, bias=True)\n",
              "          (fc_o): Linear(in_features=256, out_features=256, bias=True)\n",
              "          (dropout): Dropout(p=0.1, inplace=False)\n",
              "        )\n",
              "        (encoder_attention): MultiHeadedAttentionComponent(\n",
              "          (fc_q): Linear(in_features=256, out_features=256, bias=True)\n",
              "          (fc_k): Linear(in_features=256, out_features=256, bias=True)\n",
              "          (fc_v): Linear(in_features=256, out_features=256, bias=True)\n",
              "          (fc_o): Linear(in_features=256, out_features=256, bias=True)\n",
              "          (dropout): Dropout(p=0.1, inplace=False)\n",
              "        )\n",
              "        (feed_forward): FeedForwardComponent(\n",
              "          (dropout): Dropout(p=0.1, inplace=False)\n",
              "          (fc1): Linear(in_features=256, out_features=512, bias=True)\n",
              "          (fc2): Linear(in_features=512, out_features=256, bias=True)\n",
              "        )\n",
              "        (dropout): Dropout(p=0.1, inplace=False)\n",
              "      )\n",
              "      (1): DecoderLayer(\n",
              "        (self_attn_layer_norm): LayerNorm((256,), eps=1e-05, elementwise_affine=True)\n",
              "        (enc_attn_layer_norm): LayerNorm((256,), eps=1e-05, elementwise_affine=True)\n",
              "        (ff_layer_norm): LayerNorm((256,), eps=1e-05, elementwise_affine=True)\n",
              "        (self_attention): MultiHeadedAttentionComponent(\n",
              "          (fc_q): Linear(in_features=256, out_features=256, bias=True)\n",
              "          (fc_k): Linear(in_features=256, out_features=256, bias=True)\n",
              "          (fc_v): Linear(in_features=256, out_features=256, bias=True)\n",
              "          (fc_o): Linear(in_features=256, out_features=256, bias=True)\n",
              "          (dropout): Dropout(p=0.1, inplace=False)\n",
              "        )\n",
              "        (encoder_attention): MultiHeadedAttentionComponent(\n",
              "          (fc_q): Linear(in_features=256, out_features=256, bias=True)\n",
              "          (fc_k): Linear(in_features=256, out_features=256, bias=True)\n",
              "          (fc_v): Linear(in_features=256, out_features=256, bias=True)\n",
              "          (fc_o): Linear(in_features=256, out_features=256, bias=True)\n",
              "          (dropout): Dropout(p=0.1, inplace=False)\n",
              "        )\n",
              "        (feed_forward): FeedForwardComponent(\n",
              "          (dropout): Dropout(p=0.1, inplace=False)\n",
              "          (fc1): Linear(in_features=256, out_features=512, bias=True)\n",
              "          (fc2): Linear(in_features=512, out_features=256, bias=True)\n",
              "        )\n",
              "        (dropout): Dropout(p=0.1, inplace=False)\n",
              "      )\n",
              "      (2): DecoderLayer(\n",
              "        (self_attn_layer_norm): LayerNorm((256,), eps=1e-05, elementwise_affine=True)\n",
              "        (enc_attn_layer_norm): LayerNorm((256,), eps=1e-05, elementwise_affine=True)\n",
              "        (ff_layer_norm): LayerNorm((256,), eps=1e-05, elementwise_affine=True)\n",
              "        (self_attention): MultiHeadedAttentionComponent(\n",
              "          (fc_q): Linear(in_features=256, out_features=256, bias=True)\n",
              "          (fc_k): Linear(in_features=256, out_features=256, bias=True)\n",
              "          (fc_v): Linear(in_features=256, out_features=256, bias=True)\n",
              "          (fc_o): Linear(in_features=256, out_features=256, bias=True)\n",
              "          (dropout): Dropout(p=0.1, inplace=False)\n",
              "        )\n",
              "        (encoder_attention): MultiHeadedAttentionComponent(\n",
              "          (fc_q): Linear(in_features=256, out_features=256, bias=True)\n",
              "          (fc_k): Linear(in_features=256, out_features=256, bias=True)\n",
              "          (fc_v): Linear(in_features=256, out_features=256, bias=True)\n",
              "          (fc_o): Linear(in_features=256, out_features=256, bias=True)\n",
              "          (dropout): Dropout(p=0.1, inplace=False)\n",
              "        )\n",
              "        (feed_forward): FeedForwardComponent(\n",
              "          (dropout): Dropout(p=0.1, inplace=False)\n",
              "          (fc1): Linear(in_features=256, out_features=512, bias=True)\n",
              "          (fc2): Linear(in_features=512, out_features=256, bias=True)\n",
              "        )\n",
              "        (dropout): Dropout(p=0.1, inplace=False)\n",
              "      )\n",
              "    )\n",
              "    (fc_out): Linear(in_features=256, out_features=4531, bias=True)\n",
              "    (dropout): Dropout(p=0.1, inplace=False)\n",
              "  )\n",
              ")"
            ]
          },
          "metadata": {
            "tags": []
          },
          "execution_count": 62
        }
      ]
    },
    {
      "cell_type": "code",
      "metadata": {
        "id": "Q0q23Cs8yo8f"
      },
      "source": [
        "import spacy\n",
        "spacy_en = spacy.load('en')\n",
        "\n",
        "def encode_inputs(input,vocab):\n",
        "\n",
        "  tokenized_input_ = [tok.text.lower() for tok in spacy_en.tokenizer(input)]\n",
        "  tokenized_input = ['<sos>'] + tokenized_input_ +['<eos>']\n",
        "\n",
        "  numericalized_input = [vocab[i] for i in tokenized_input]\n",
        "\n",
        "  tensor_input = torch.LongTensor([numericalized_input])\n",
        "  \n",
        "  return tensor_input,tokenized_input_\n",
        "\n",
        "def decode_outputs(output,vocab):\n",
        "  # output: [1,1,hid_dim]\n",
        "  predicted_token = output.argmax(-1)\n",
        "  return vocab[predicted_token.item()], predicted_token"
      ],
      "execution_count": 54,
      "outputs": []
    },
    {
      "cell_type": "code",
      "metadata": {
        "id": "_aM5tB6r2BcI"
      },
      "source": [
        "def display_attention(sentence, translation, attention, n_heads = 8, n_rows = 4, n_cols = 2):\n",
        "    \n",
        "    assert n_rows * n_cols == n_heads\n",
        "    \n",
        "    fig = plt.figure(figsize=(15,25))\n",
        "    \n",
        "    for i in range(n_heads):\n",
        "        \n",
        "        ax = fig.add_subplot(n_rows, n_cols, i+1)\n",
        "        \n",
        "        _attention = attention.squeeze(0)[i].cpu().detach().numpy()\n",
        "\n",
        "        cax = ax.matshow(_attention, cmap='bone')\n",
        "\n",
        "        ax.tick_params(labelsize=12)\n",
        "        ax.set_xticklabels(['']+['<sos>']+[t.lower() for t in sentence]+['<eos>'], \n",
        "                           rotation=45)\n",
        "        ax.set_yticklabels(['']+translation)\n",
        "\n",
        "        ax.xaxis.set_major_locator(ticker.MultipleLocator(1))\n",
        "        ax.yaxis.set_major_locator(ticker.MultipleLocator(1))\n",
        "\n",
        "    plt.show()"
      ],
      "execution_count": 55,
      "outputs": []
    },
    {
      "cell_type": "code",
      "metadata": {
        "id": "63t2JTVt2lmA"
      },
      "source": [
        "def variables_names_in_print(matchobj):\n",
        "  statement = matchobj.group(1)\n",
        "  statement = statement.replace(\" \",\"\")\n",
        "  return \"{\"+statement+\"}\"\n",
        "\n",
        "def print_decoder_output(decoder_outputs):\n",
        "  decoder_outputs = [i for i in decoder_outputs if i is not ''] # removing redundant empty token created by tokenizer while identation during tokenization\n",
        "  combined_output = \" \".join(decoder_outputs)\n",
        "  pruned_output = re.sub(r'\\n |\\n  |\\n   ',r'\\n',combined_output) # removing empty lines\n",
        "  pruned_output = re.sub(r'{(.*?)}',variables_names_in_print,pruned_output) # setting printing variable names inside print(f'{}') statements\n",
        "  print(pruned_output)\n"
      ],
      "execution_count": 76,
      "outputs": []
    },
    {
      "cell_type": "code",
      "metadata": {
        "colab": {
          "base_uri": "https://localhost:8080/"
        },
        "id": "3vXUPbhHyqBV",
        "outputId": "dc8d88fc-4083-4bd5-d802-361edefc789f"
      },
      "source": [
        " print(\" Enter q or quit to exit.\")\n",
        "\n",
        "answer_max_len = 200\n",
        "\n",
        "while(True):\n",
        "\n",
        "  input_ = input(\"Enter text:\")\n",
        "\n",
        "  if input_=='q' or input_=='quit':\n",
        "    break\n",
        "\n",
        "  src,tokenized_input_ = encode_inputs(input_,stoi)\n",
        "  src = src.to(device)\n",
        "  # src_mask = torch.ones([1,1,1,src.shape[-1]]).to(device)\n",
        "  src_mask = model.make_src_mask(src)\n",
        "\n",
        "  with torch.no_grad():\n",
        "    enc_src = model.encoder(src,src_mask)\n",
        "  \n",
        "  trg = '<sos>'\n",
        "  trg_indexes = [stoi[trg]]\n",
        "  # trg_mask = torch.ones([1,1,1,1]).to(device)\n",
        "\n",
        "  decoder_outputs = []\n",
        "  for i in range(answer_max_len):\n",
        "    trg_tensor = torch.LongTensor(trg_indexes).unsqueeze(0).to(device)\n",
        "    trg_mask = model.make_trg_mask(trg_tensor)\n",
        "    \n",
        "    with torch.no_grad():\n",
        "      decoder_output,encoder_decoder_attention = model.decoder(trg_tensor,enc_src,trg_mask,src_mask)\n",
        "\n",
        "    pred_token = decoder_output.argmax(2)[:,-1].item()\n",
        "\n",
        "    if pred_token == TRG.vocab.stoi[TRG.eos_token]:\n",
        "      break\n",
        "    decoder_outputs.append(itos[pred_token])\n",
        "    trg_indexes.append(pred_token)\n",
        "\n",
        "\n",
        "  print_decoder_output(decoder_outputs)\n",
        "  # display_attention(tokenized_input_,decoder_outputs,encoder_decoder_attention,DEC_HEADS)"
      ],
      "execution_count": 77,
      "outputs": [
        {
          "output_type": "stream",
          "text": [
            " Enter q or quit to exit.\n",
            "Enter text:write a python Program to Determine all Pythagorean Triplets in the Range\n",
            "limit = 50 \n",
            "c = 0 \n",
            "m = 2 \n",
            "while ( c < limit ) : \n",
            "\t for n in range ( 1 , m + 1 ) : \n",
            "\t\t a = m * m - n * n \n",
            "\t\t b = 2 * m * n \n",
            "\t\t c = m * m + n * n \n",
            "\t\t if ( c > limit ) : \n",
            "\t\t\t break \n",
            "\t\t if ( a == 0 or b == 0 or c == 0 ) : \n",
            "\t\t\t break \n",
            "\t\t print ( a , b , c ) \n",
            "\t m = m + 1\n",
            "Enter text:Write a python function to Compute LCM of two input number\n",
            "def compute_lcm ( x , y ) : \n",
            "\t if x > y : \n",
            "\t\t greater = x \n",
            "\t else : \n",
            "\t\t greater = y \n",
            "\t while ( True ) : \n",
            "\t\t if ( ( greater % x == 0 ) and ( greater % y == 0 ) ) : \n",
            "\t\t\t lcm = greater \n",
            "\t\t\t break \n",
            "\t\t greater += 1 \n",
            "\t return lcm\n",
            "Enter text:write Python Program to print the Sum of 10 Natural Numbers\n",
            "num = 10 \n",
            "if num < 0 : \n",
            "\t print ( \" E n t e r   a   p o s i t i v e   n u m b e r \" ) \n",
            "else : \n",
            "\t sum = 0 \n",
            "\t # use while loop to iterate until zero \n",
            "while ( num > 0 ) : \n",
            "\t\t sum += num \n",
            "\t\t num -= 1 \n",
            "\t print ( \" T h e   s u m   i s \" , sum )\n",
            "Enter text:write a Python function to convert binary to Gray codeword\n",
            "def binary_to_gray ( n ) : \n",
            "\t n = int ( n , 2 ) \n",
            "\t n ^= ( n >> 1 ) \n",
            "\t return bin ( n ) [ 2 : ]\n",
            "Enter text:write a Python function to check if count of divisors is even or odd\n",
            "def NumOfDivisor ( n ) : \n",
            "\t if n < 1 : \n",
            "\t\t return \n",
            "\t root_n = n ** 0.5 \n",
            "\t if root_n ** 2 == n : \n",
            "\t\t print ( \" O d \" ) \n",
            "\t else : \n",
            "\t\t print ( \" E v e n \" ) \t\n",
            "Enter text:Write a Python function to print the root of the quadratic equation\n",
            "def quadratic_root ( A , B , C ) : \n",
            "\t import math \n",
            "\t d = ( ( B ** 2 ) - 4 * A * C ) \n",
            "\t if d >= 0 : \n",
            "\t\t s = ( - B + ( d ) ** 0.5 ) / ( 2 * A ) \n",
            "\t\t p = ( - B - ( d ) ** 0.5 ) / ( 2 * A ) \n",
            "\t\t print ( math . floor ( s ) , math . floor ( p ) ) \n",
            "\t else : \n",
            "\t\t print ( ' T h e   r o o t s   a r e   i m a g i n a r y ' ) \t\n",
            "Enter text:Write a Python class which has at least two methods: getString: to get a string from console input printString: to print the string in upper case.\n",
            "class IOString ( object ) : \n",
            "\t def __init__ ( self ) : \n",
            "\t\t self . s = \" \" \n",
            "\t def getString ( self ) : \n",
            "\t\t self . s = input ( ) \n",
            "\t def printString ( self ) : \n",
            "\t\t print ( self . s . upper ( ) ) \n",
            "\t strObj = IOString ( ) \n",
            "strObj . getString ( ) \n",
            "strObj . printString ( )\n",
            "Enter text:write a function to find the sum of Sine series\n",
            "import math \n",
            "def sin ( x , n ) : \n",
            "\t sine = 0 \n",
            "\t for i in range ( n ) : \n",
            "\t\t sign = ( - 1 ) ** i \n",
            "\t\t pi = 22 / 7 \n",
            "\t\t y = x * ( pi / 180 ) \n",
            "\t\t sine = sine + ( ( ( 2.0 * ( 2.0 * i + 1 ) ) / math . factorial ( 2 * i + 1 ) ) * sign \n",
            "\t\t return sine\n",
            "Enter text:Write a function to determine whether a given number is even or odd recursively\n",
            "def check ( n ) : \n",
            "\t if ( n < 2 ) : \n",
            "\t\t return ( n % 2 == 0 ) \n",
            "\t return ( check ( n - 2 ) ) \n",
            "n = int ( input ( \" E n t e r   n u m b e r : \" ) ) \n",
            "if ( check ( n ) == True ) : \n",
            "\t print ( \" N u m b e r   i s   e v e n ! \" ) \n",
            "else : \n",
            "\t print ( \" N u m b e r   i s   o d d ! \" )\n",
            "Enter text:q\n"
          ],
          "name": "stdout"
        }
      ]
    },
    {
      "cell_type": "code",
      "metadata": {
        "colab": {
          "base_uri": "https://localhost:8080/"
        },
        "id": "bYCdNgDE3vLV",
        "outputId": "b6a1e66a-8728-407f-ac6d-9832b5b60fad"
      },
      "source": [
        "check_question = \"Write a Python function to remove leading zeros from an IP address\"\n",
        "for i,j in enumerate(questions):\n",
        "  if j == check_question:\n",
        "    print(i)"
      ],
      "execution_count": 58,
      "outputs": [
        {
          "output_type": "stream",
          "text": [
            "3864\n"
          ],
          "name": "stdout"
        }
      ]
    },
    {
      "cell_type": "code",
      "metadata": {
        "colab": {
          "base_uri": "https://localhost:8080/",
          "height": 35
        },
        "id": "MN4JaQZf4Dbx",
        "outputId": "985b0b12-e4af-4623-bd89-31a509d0fce2"
      },
      "source": [
        "answers[3867]"
      ],
      "execution_count": 59,
      "outputs": [
        {
          "output_type": "execute_result",
          "data": {
            "application/vnd.google.colaboratory.intrinsic+json": {
              "type": "string"
            },
            "text/plain": [
              "'def int_to_hex(a):\\n\\treturn hex(a)\\n'"
            ]
          },
          "metadata": {
            "tags": []
          },
          "execution_count": 59
        }
      ]
    }
  ]
}